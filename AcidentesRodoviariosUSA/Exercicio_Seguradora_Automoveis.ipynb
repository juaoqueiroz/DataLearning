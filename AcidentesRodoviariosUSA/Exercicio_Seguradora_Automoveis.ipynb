{
 "cells": [
  {
   "cell_type": "markdown",
   "metadata": {},
   "source": [
    "# Seguradora de Automóveis Tera S.A."
   ]
  },
  {
   "cell_type": "markdown",
   "metadata": {},
   "source": [
    "Você acaba de ser contratado como cientista de dados para a Seguradora de Automóveis Tera S.A. e está encubido de auxiliar a equipe atuarial a determinar melhorias na tabela atualmente praticada nos seguros de automóveis nos Estados Unidos. Diversos estudos relativos a demografia foram feitos e incorporados na tabela atual, restando apenas analisar região a região quais as possíveis economias.\n",
    "\n",
    "Para isso, <b>você deve utilizar os dados de acidentes rodoviários dos Estados Unidos do período de fevereiro de 2016 a dezembro de 2019 para dar insumos proveitosos para a equipe atuarial</b>. Além disso, também é esperado que você apresente suas descobertas para a diretoria de vendas, pois as alterações na tabela resultarão em uma mudança no plano de negócios atual. Portanto, <b>determine a melhor forma de apresentar graficamente o que realmente irá convencer a diretoria de que as mudanças na tabela atuarial irão resultar em ganhos financeiros para a empresa como um todo.</b>"
   ]
  },
  {
   "cell_type": "markdown",
   "metadata": {},
   "source": [
    "# Tratativa da base"
   ]
  },
  {
   "cell_type": "markdown",
   "metadata": {},
   "source": [
    "Antes de começar a ter qualquer insight, será necessário limpar a base que será trabalhada. Para isso, é necessário importar as bibliotecas que serão utilizadas e o arquivo do dataset."
   ]
  },
  {
   "cell_type": "code",
   "execution_count": 2,
   "metadata": {},
   "outputs": [
    {
     "data": {
      "text/html": [
       "<div>\n",
       "<style scoped>\n",
       "    .dataframe tbody tr th:only-of-type {\n",
       "        vertical-align: middle;\n",
       "    }\n",
       "\n",
       "    .dataframe tbody tr th {\n",
       "        vertical-align: top;\n",
       "    }\n",
       "\n",
       "    .dataframe thead th {\n",
       "        text-align: right;\n",
       "    }\n",
       "</style>\n",
       "<table border=\"1\" class=\"dataframe\">\n",
       "  <thead>\n",
       "    <tr style=\"text-align: right;\">\n",
       "      <th></th>\n",
       "      <th>ID</th>\n",
       "      <th>Source</th>\n",
       "      <th>Severity</th>\n",
       "      <th>Start_Time</th>\n",
       "      <th>End_Time</th>\n",
       "      <th>Start_Lat</th>\n",
       "      <th>Start_Lng</th>\n",
       "      <th>End_Lat</th>\n",
       "      <th>End_Lng</th>\n",
       "      <th>Distance(mi)</th>\n",
       "      <th>...</th>\n",
       "      <th>Roundabout</th>\n",
       "      <th>Station</th>\n",
       "      <th>Stop</th>\n",
       "      <th>Traffic_Calming</th>\n",
       "      <th>Traffic_Signal</th>\n",
       "      <th>Turning_Loop</th>\n",
       "      <th>Sunrise_Sunset</th>\n",
       "      <th>Civil_Twilight</th>\n",
       "      <th>Nautical_Twilight</th>\n",
       "      <th>Astronomical_Twilight</th>\n",
       "    </tr>\n",
       "  </thead>\n",
       "  <tbody>\n",
       "    <tr>\n",
       "      <th>0</th>\n",
       "      <td>A-1</td>\n",
       "      <td>Source2</td>\n",
       "      <td>3</td>\n",
       "      <td>2016-02-08 05:46:00</td>\n",
       "      <td>2016-02-08 11:00:00</td>\n",
       "      <td>39.865147</td>\n",
       "      <td>-84.058723</td>\n",
       "      <td>NaN</td>\n",
       "      <td>NaN</td>\n",
       "      <td>0.01</td>\n",
       "      <td>...</td>\n",
       "      <td>False</td>\n",
       "      <td>False</td>\n",
       "      <td>False</td>\n",
       "      <td>False</td>\n",
       "      <td>False</td>\n",
       "      <td>False</td>\n",
       "      <td>Night</td>\n",
       "      <td>Night</td>\n",
       "      <td>Night</td>\n",
       "      <td>Night</td>\n",
       "    </tr>\n",
       "    <tr>\n",
       "      <th>1</th>\n",
       "      <td>A-2</td>\n",
       "      <td>Source2</td>\n",
       "      <td>2</td>\n",
       "      <td>2016-02-08 06:07:59</td>\n",
       "      <td>2016-02-08 06:37:59</td>\n",
       "      <td>39.928059</td>\n",
       "      <td>-82.831184</td>\n",
       "      <td>NaN</td>\n",
       "      <td>NaN</td>\n",
       "      <td>0.01</td>\n",
       "      <td>...</td>\n",
       "      <td>False</td>\n",
       "      <td>False</td>\n",
       "      <td>False</td>\n",
       "      <td>False</td>\n",
       "      <td>False</td>\n",
       "      <td>False</td>\n",
       "      <td>Night</td>\n",
       "      <td>Night</td>\n",
       "      <td>Night</td>\n",
       "      <td>Day</td>\n",
       "    </tr>\n",
       "    <tr>\n",
       "      <th>2</th>\n",
       "      <td>A-3</td>\n",
       "      <td>Source2</td>\n",
       "      <td>2</td>\n",
       "      <td>2016-02-08 06:49:27</td>\n",
       "      <td>2016-02-08 07:19:27</td>\n",
       "      <td>39.063148</td>\n",
       "      <td>-84.032608</td>\n",
       "      <td>NaN</td>\n",
       "      <td>NaN</td>\n",
       "      <td>0.01</td>\n",
       "      <td>...</td>\n",
       "      <td>False</td>\n",
       "      <td>False</td>\n",
       "      <td>False</td>\n",
       "      <td>False</td>\n",
       "      <td>True</td>\n",
       "      <td>False</td>\n",
       "      <td>Night</td>\n",
       "      <td>Night</td>\n",
       "      <td>Day</td>\n",
       "      <td>Day</td>\n",
       "    </tr>\n",
       "    <tr>\n",
       "      <th>3</th>\n",
       "      <td>A-4</td>\n",
       "      <td>Source2</td>\n",
       "      <td>3</td>\n",
       "      <td>2016-02-08 07:23:34</td>\n",
       "      <td>2016-02-08 07:53:34</td>\n",
       "      <td>39.747753</td>\n",
       "      <td>-84.205582</td>\n",
       "      <td>NaN</td>\n",
       "      <td>NaN</td>\n",
       "      <td>0.01</td>\n",
       "      <td>...</td>\n",
       "      <td>False</td>\n",
       "      <td>False</td>\n",
       "      <td>False</td>\n",
       "      <td>False</td>\n",
       "      <td>False</td>\n",
       "      <td>False</td>\n",
       "      <td>Night</td>\n",
       "      <td>Day</td>\n",
       "      <td>Day</td>\n",
       "      <td>Day</td>\n",
       "    </tr>\n",
       "    <tr>\n",
       "      <th>4</th>\n",
       "      <td>A-5</td>\n",
       "      <td>Source2</td>\n",
       "      <td>2</td>\n",
       "      <td>2016-02-08 07:39:07</td>\n",
       "      <td>2016-02-08 08:09:07</td>\n",
       "      <td>39.627781</td>\n",
       "      <td>-84.188354</td>\n",
       "      <td>NaN</td>\n",
       "      <td>NaN</td>\n",
       "      <td>0.01</td>\n",
       "      <td>...</td>\n",
       "      <td>False</td>\n",
       "      <td>False</td>\n",
       "      <td>False</td>\n",
       "      <td>False</td>\n",
       "      <td>True</td>\n",
       "      <td>False</td>\n",
       "      <td>Day</td>\n",
       "      <td>Day</td>\n",
       "      <td>Day</td>\n",
       "      <td>Day</td>\n",
       "    </tr>\n",
       "  </tbody>\n",
       "</table>\n",
       "<p>5 rows × 46 columns</p>\n",
       "</div>"
      ],
      "text/plain": [
       "    ID   Source  Severity           Start_Time             End_Time  \\\n",
       "0  A-1  Source2         3  2016-02-08 05:46:00  2016-02-08 11:00:00   \n",
       "1  A-2  Source2         2  2016-02-08 06:07:59  2016-02-08 06:37:59   \n",
       "2  A-3  Source2         2  2016-02-08 06:49:27  2016-02-08 07:19:27   \n",
       "3  A-4  Source2         3  2016-02-08 07:23:34  2016-02-08 07:53:34   \n",
       "4  A-5  Source2         2  2016-02-08 07:39:07  2016-02-08 08:09:07   \n",
       "\n",
       "   Start_Lat  Start_Lng  End_Lat  End_Lng  Distance(mi)  ... Roundabout  \\\n",
       "0  39.865147 -84.058723      NaN      NaN          0.01  ...      False   \n",
       "1  39.928059 -82.831184      NaN      NaN          0.01  ...      False   \n",
       "2  39.063148 -84.032608      NaN      NaN          0.01  ...      False   \n",
       "3  39.747753 -84.205582      NaN      NaN          0.01  ...      False   \n",
       "4  39.627781 -84.188354      NaN      NaN          0.01  ...      False   \n",
       "\n",
       "  Station   Stop Traffic_Calming Traffic_Signal Turning_Loop Sunrise_Sunset  \\\n",
       "0   False  False           False          False        False          Night   \n",
       "1   False  False           False          False        False          Night   \n",
       "2   False  False           False           True        False          Night   \n",
       "3   False  False           False          False        False          Night   \n",
       "4   False  False           False           True        False            Day   \n",
       "\n",
       "  Civil_Twilight Nautical_Twilight Astronomical_Twilight  \n",
       "0          Night             Night                 Night  \n",
       "1          Night             Night                   Day  \n",
       "2          Night               Day                   Day  \n",
       "3            Day               Day                   Day  \n",
       "4            Day               Day                   Day  \n",
       "\n",
       "[5 rows x 46 columns]"
      ]
     },
     "execution_count": 2,
     "metadata": {},
     "output_type": "execute_result"
    }
   ],
   "source": [
    "# importando todas as bibliotecas importantes para cálculo e criação de visualização gráfica\n",
    "import numpy as np\n",
    "import pandas as pd\n",
    "import matplotlib.pyplot as plt\n",
    "\n",
    "\n",
    "# o %matplotlib inline é um comando que faz com que os gráficos abram no mesmo notebook que estamos trabalhando\n",
    "%matplotlib inline\n",
    "import seaborn as sns\n",
    "import plotly.express as px\n",
    "\n",
    "\n",
    "\n",
    "# importando o arquivo em si, usando encoding utf-8 (como é um arquivo americano cobre todos os caracteres), em seguida vemos\n",
    "# um .head() para ver se a exportação de fato foi correta\n",
    "importa_df = pd.read_csv('US_Accidents_March23.csv', encoding='utf-8', sep= ',')\n",
    "importa_df.head()\n",
    "\n"
   ]
  },
  {
   "cell_type": "markdown",
   "metadata": {},
   "source": [
    "Como o arquivo é muito grande, vamos reduzí-lo para 100.000 linhas"
   ]
  },
  {
   "cell_type": "code",
   "execution_count": 4,
   "metadata": {},
   "outputs": [
    {
     "data": {
      "text/html": [
       "<div>\n",
       "<style scoped>\n",
       "    .dataframe tbody tr th:only-of-type {\n",
       "        vertical-align: middle;\n",
       "    }\n",
       "\n",
       "    .dataframe tbody tr th {\n",
       "        vertical-align: top;\n",
       "    }\n",
       "\n",
       "    .dataframe thead th {\n",
       "        text-align: right;\n",
       "    }\n",
       "</style>\n",
       "<table border=\"1\" class=\"dataframe\">\n",
       "  <thead>\n",
       "    <tr style=\"text-align: right;\">\n",
       "      <th></th>\n",
       "      <th>ID</th>\n",
       "      <th>Source</th>\n",
       "      <th>Severity</th>\n",
       "      <th>Start_Time</th>\n",
       "      <th>End_Time</th>\n",
       "      <th>Start_Lat</th>\n",
       "      <th>Start_Lng</th>\n",
       "      <th>End_Lat</th>\n",
       "      <th>End_Lng</th>\n",
       "      <th>Distance(mi)</th>\n",
       "      <th>...</th>\n",
       "      <th>Roundabout</th>\n",
       "      <th>Station</th>\n",
       "      <th>Stop</th>\n",
       "      <th>Traffic_Calming</th>\n",
       "      <th>Traffic_Signal</th>\n",
       "      <th>Turning_Loop</th>\n",
       "      <th>Sunrise_Sunset</th>\n",
       "      <th>Civil_Twilight</th>\n",
       "      <th>Nautical_Twilight</th>\n",
       "      <th>Astronomical_Twilight</th>\n",
       "    </tr>\n",
       "  </thead>\n",
       "  <tbody>\n",
       "    <tr>\n",
       "      <th>0</th>\n",
       "      <td>A-1</td>\n",
       "      <td>Source2</td>\n",
       "      <td>3</td>\n",
       "      <td>2016-02-08 05:46:00</td>\n",
       "      <td>2016-02-08 11:00:00</td>\n",
       "      <td>39.865147</td>\n",
       "      <td>-84.058723</td>\n",
       "      <td>NaN</td>\n",
       "      <td>NaN</td>\n",
       "      <td>0.01</td>\n",
       "      <td>...</td>\n",
       "      <td>False</td>\n",
       "      <td>False</td>\n",
       "      <td>False</td>\n",
       "      <td>False</td>\n",
       "      <td>False</td>\n",
       "      <td>False</td>\n",
       "      <td>Night</td>\n",
       "      <td>Night</td>\n",
       "      <td>Night</td>\n",
       "      <td>Night</td>\n",
       "    </tr>\n",
       "    <tr>\n",
       "      <th>1</th>\n",
       "      <td>A-2</td>\n",
       "      <td>Source2</td>\n",
       "      <td>2</td>\n",
       "      <td>2016-02-08 06:07:59</td>\n",
       "      <td>2016-02-08 06:37:59</td>\n",
       "      <td>39.928059</td>\n",
       "      <td>-82.831184</td>\n",
       "      <td>NaN</td>\n",
       "      <td>NaN</td>\n",
       "      <td>0.01</td>\n",
       "      <td>...</td>\n",
       "      <td>False</td>\n",
       "      <td>False</td>\n",
       "      <td>False</td>\n",
       "      <td>False</td>\n",
       "      <td>False</td>\n",
       "      <td>False</td>\n",
       "      <td>Night</td>\n",
       "      <td>Night</td>\n",
       "      <td>Night</td>\n",
       "      <td>Day</td>\n",
       "    </tr>\n",
       "    <tr>\n",
       "      <th>2</th>\n",
       "      <td>A-3</td>\n",
       "      <td>Source2</td>\n",
       "      <td>2</td>\n",
       "      <td>2016-02-08 06:49:27</td>\n",
       "      <td>2016-02-08 07:19:27</td>\n",
       "      <td>39.063148</td>\n",
       "      <td>-84.032608</td>\n",
       "      <td>NaN</td>\n",
       "      <td>NaN</td>\n",
       "      <td>0.01</td>\n",
       "      <td>...</td>\n",
       "      <td>False</td>\n",
       "      <td>False</td>\n",
       "      <td>False</td>\n",
       "      <td>False</td>\n",
       "      <td>True</td>\n",
       "      <td>False</td>\n",
       "      <td>Night</td>\n",
       "      <td>Night</td>\n",
       "      <td>Day</td>\n",
       "      <td>Day</td>\n",
       "    </tr>\n",
       "    <tr>\n",
       "      <th>3</th>\n",
       "      <td>A-4</td>\n",
       "      <td>Source2</td>\n",
       "      <td>3</td>\n",
       "      <td>2016-02-08 07:23:34</td>\n",
       "      <td>2016-02-08 07:53:34</td>\n",
       "      <td>39.747753</td>\n",
       "      <td>-84.205582</td>\n",
       "      <td>NaN</td>\n",
       "      <td>NaN</td>\n",
       "      <td>0.01</td>\n",
       "      <td>...</td>\n",
       "      <td>False</td>\n",
       "      <td>False</td>\n",
       "      <td>False</td>\n",
       "      <td>False</td>\n",
       "      <td>False</td>\n",
       "      <td>False</td>\n",
       "      <td>Night</td>\n",
       "      <td>Day</td>\n",
       "      <td>Day</td>\n",
       "      <td>Day</td>\n",
       "    </tr>\n",
       "    <tr>\n",
       "      <th>4</th>\n",
       "      <td>A-5</td>\n",
       "      <td>Source2</td>\n",
       "      <td>2</td>\n",
       "      <td>2016-02-08 07:39:07</td>\n",
       "      <td>2016-02-08 08:09:07</td>\n",
       "      <td>39.627781</td>\n",
       "      <td>-84.188354</td>\n",
       "      <td>NaN</td>\n",
       "      <td>NaN</td>\n",
       "      <td>0.01</td>\n",
       "      <td>...</td>\n",
       "      <td>False</td>\n",
       "      <td>False</td>\n",
       "      <td>False</td>\n",
       "      <td>False</td>\n",
       "      <td>True</td>\n",
       "      <td>False</td>\n",
       "      <td>Day</td>\n",
       "      <td>Day</td>\n",
       "      <td>Day</td>\n",
       "      <td>Day</td>\n",
       "    </tr>\n",
       "  </tbody>\n",
       "</table>\n",
       "<p>5 rows × 46 columns</p>\n",
       "</div>"
      ],
      "text/plain": [
       "    ID   Source  Severity           Start_Time             End_Time  \\\n",
       "0  A-1  Source2         3  2016-02-08 05:46:00  2016-02-08 11:00:00   \n",
       "1  A-2  Source2         2  2016-02-08 06:07:59  2016-02-08 06:37:59   \n",
       "2  A-3  Source2         2  2016-02-08 06:49:27  2016-02-08 07:19:27   \n",
       "3  A-4  Source2         3  2016-02-08 07:23:34  2016-02-08 07:53:34   \n",
       "4  A-5  Source2         2  2016-02-08 07:39:07  2016-02-08 08:09:07   \n",
       "\n",
       "   Start_Lat  Start_Lng  End_Lat  End_Lng  Distance(mi)  ... Roundabout  \\\n",
       "0  39.865147 -84.058723      NaN      NaN          0.01  ...      False   \n",
       "1  39.928059 -82.831184      NaN      NaN          0.01  ...      False   \n",
       "2  39.063148 -84.032608      NaN      NaN          0.01  ...      False   \n",
       "3  39.747753 -84.205582      NaN      NaN          0.01  ...      False   \n",
       "4  39.627781 -84.188354      NaN      NaN          0.01  ...      False   \n",
       "\n",
       "  Station   Stop Traffic_Calming Traffic_Signal Turning_Loop Sunrise_Sunset  \\\n",
       "0   False  False           False          False        False          Night   \n",
       "1   False  False           False          False        False          Night   \n",
       "2   False  False           False           True        False          Night   \n",
       "3   False  False           False          False        False          Night   \n",
       "4   False  False           False           True        False            Day   \n",
       "\n",
       "  Civil_Twilight Nautical_Twilight Astronomical_Twilight  \n",
       "0          Night             Night                 Night  \n",
       "1          Night             Night                   Day  \n",
       "2          Night               Day                   Day  \n",
       "3            Day               Day                   Day  \n",
       "4            Day               Day                   Day  \n",
       "\n",
       "[5 rows x 46 columns]"
      ]
     },
     "execution_count": 4,
     "metadata": {},
     "output_type": "execute_result"
    }
   ],
   "source": [
    "# utilizando as 100.000 primeiras linhas do arquivo (é possível utilizar as 100.000 últimas também)\n",
    "acidentes  = importa_df.head(100000)\n",
    "acidentes.head()\n",
    "\n"
   ]
  },
  {
   "cell_type": "markdown",
   "metadata": {},
   "source": [
    "Garanta que não existam linhas duplicadas no seu dataset, isso pode enviesar sua análise no final."
   ]
  },
  {
   "cell_type": "code",
   "execution_count": 5,
   "metadata": {},
   "outputs": [
    {
     "data": {
      "text/plain": [
       "(100000, 46)"
      ]
     },
     "execution_count": 5,
     "metadata": {},
     "output_type": "execute_result"
    }
   ],
   "source": [
    "# verificando a quantidade de linhas e colunas antes de remover as duplicatas\n",
    "acidentes.shape"
   ]
  },
  {
   "cell_type": "code",
   "execution_count": 6,
   "metadata": {},
   "outputs": [
    {
     "data": {
      "text/plain": [
       "(100000, 46)"
      ]
     },
     "execution_count": 6,
     "metadata": {},
     "output_type": "execute_result"
    }
   ],
   "source": [
    "# removendo as duplicatas e verificando quantas linhas e colunas restaram\n",
    "# neste caso não houve nenhuma duplicata :)\n",
    "acidentes = acidentes.drop_duplicates()\n",
    "acidentes.shape\n",
    "\n"
   ]
  },
  {
   "cell_type": "markdown",
   "metadata": {},
   "source": [
    "Vamos trocar a nomenclatura das colunas para deixar a interpretação mais fácil tanto para a equipe atuarial quanto para a equipe de vendas."
   ]
  },
  {
   "cell_type": "code",
   "execution_count": 10,
   "metadata": {},
   "outputs": [
    {
     "name": "stdout",
     "output_type": "stream",
     "text": [
      "<class 'pandas.core.frame.DataFrame'>\n",
      "Int64Index: 100000 entries, 0 to 99999\n",
      "Data columns (total 46 columns):\n",
      " #   Column                 Non-Null Count   Dtype  \n",
      "---  ------                 --------------   -----  \n",
      " 0   ID                     100000 non-null  object \n",
      " 1   Source                 100000 non-null  object \n",
      " 2   Severity               100000 non-null  int64  \n",
      " 3   Start_Time             100000 non-null  object \n",
      " 4   End_Time               100000 non-null  object \n",
      " 5   Start_Lat              100000 non-null  float64\n",
      " 6   Start_Lng              100000 non-null  float64\n",
      " 7   End_Lat                0 non-null       float64\n",
      " 8   End_Lng                0 non-null       float64\n",
      " 9   Distance(mi)           100000 non-null  float64\n",
      " 10  Description            100000 non-null  object \n",
      " 11  Street                 100000 non-null  object \n",
      " 12  City                   99999 non-null   object \n",
      " 13  County                 100000 non-null  object \n",
      " 14  State                  100000 non-null  object \n",
      " 15  Zipcode                99993 non-null   object \n",
      " 16  Country                100000 non-null  object \n",
      " 17  Timezone               99993 non-null   object \n",
      " 18  Airport_Code           99993 non-null   object \n",
      " 19  Weather_Timestamp      98946 non-null   object \n",
      " 20  Temperature(F)         98409 non-null   float64\n",
      " 21  Wind_Chill(F)          4322 non-null    float64\n",
      " 22  Humidity(%)            98144 non-null   float64\n",
      " 23  Pressure(in)           98708 non-null   float64\n",
      " 24  Visibility(mi)         98154 non-null   float64\n",
      " 25  Wind_Direction         98936 non-null   object \n",
      " 26  Wind_Speed(mph)        76180 non-null   float64\n",
      " 27  Precipitation(in)      7368 non-null    float64\n",
      " 28  Weather_Condition      98396 non-null   object \n",
      " 29  Amenity                100000 non-null  bool   \n",
      " 30  Bump                   100000 non-null  bool   \n",
      " 31  Crossing               100000 non-null  bool   \n",
      " 32  Give_Way               100000 non-null  bool   \n",
      " 33  Junction               100000 non-null  bool   \n",
      " 34  No_Exit                100000 non-null  bool   \n",
      " 35  Railway                100000 non-null  bool   \n",
      " 36  Roundabout             100000 non-null  bool   \n",
      " 37  Station                100000 non-null  bool   \n",
      " 38  Stop                   100000 non-null  bool   \n",
      " 39  Traffic_Calming        100000 non-null  bool   \n",
      " 40  Traffic_Signal         100000 non-null  bool   \n",
      " 41  Turning_Loop           100000 non-null  bool   \n",
      " 42  Sunrise_Sunset         99999 non-null   object \n",
      " 43  Civil_Twilight         99999 non-null   object \n",
      " 44  Nautical_Twilight      99999 non-null   object \n",
      " 45  Astronomical_Twilight  99999 non-null   object \n",
      "dtypes: bool(13), float64(12), int64(1), object(20)\n",
      "memory usage: 27.2+ MB\n"
     ]
    }
   ],
   "source": [
    "# primeiramente ver o nome de todas as colunas e as informações que elas trazem\n",
    "acidentes.info()"
   ]
  },
  {
   "cell_type": "code",
   "execution_count": 11,
   "metadata": {},
   "outputs": [],
   "source": [
    "#após trocar o nome de colunas confusas e dúbias, é importante usar o info novamente para ver se a aplicação foi bem sucedida\n",
    "\n"
   ]
  },
  {
   "cell_type": "markdown",
   "metadata": {},
   "source": [
    "Tratar as células que contém data, para garantir que estão no formato de data legível pelo Python"
   ]
  },
  {
   "cell_type": "code",
   "execution_count": 12,
   "metadata": {},
   "outputs": [],
   "source": [
    "# fórmulas para tratar as colulas Start_Time e End_Time\n",
    "acidentes.Start_Time = pd.to_datetime(acidentes.Start_Time)\n",
    "acidentes.End_Time = pd.to_datetime(acidentes.End_Time)\n",
    "\n",
    "\n",
    "\n"
   ]
  },
  {
   "cell_type": "code",
   "execution_count": 13,
   "metadata": {},
   "outputs": [
    {
     "name": "stdout",
     "output_type": "stream",
     "text": [
      "<class 'pandas.core.frame.DataFrame'>\n",
      "Int64Index: 100000 entries, 0 to 99999\n",
      "Data columns (total 46 columns):\n",
      " #   Column                 Non-Null Count   Dtype         \n",
      "---  ------                 --------------   -----         \n",
      " 0   ID                     100000 non-null  object        \n",
      " 1   Source                 100000 non-null  object        \n",
      " 2   Severity               100000 non-null  int64         \n",
      " 3   Start_Time             100000 non-null  datetime64[ns]\n",
      " 4   End_Time               100000 non-null  datetime64[ns]\n",
      " 5   Start_Lat              100000 non-null  float64       \n",
      " 6   Start_Lng              100000 non-null  float64       \n",
      " 7   End_Lat                0 non-null       float64       \n",
      " 8   End_Lng                0 non-null       float64       \n",
      " 9   Distance(mi)           100000 non-null  float64       \n",
      " 10  Description            100000 non-null  object        \n",
      " 11  Street                 100000 non-null  object        \n",
      " 12  City                   99999 non-null   object        \n",
      " 13  County                 100000 non-null  object        \n",
      " 14  State                  100000 non-null  object        \n",
      " 15  Zipcode                99993 non-null   object        \n",
      " 16  Country                100000 non-null  object        \n",
      " 17  Timezone               99993 non-null   object        \n",
      " 18  Airport_Code           99993 non-null   object        \n",
      " 19  Weather_Timestamp      98946 non-null   object        \n",
      " 20  Temperature(F)         98409 non-null   float64       \n",
      " 21  Wind_Chill(F)          4322 non-null    float64       \n",
      " 22  Humidity(%)            98144 non-null   float64       \n",
      " 23  Pressure(in)           98708 non-null   float64       \n",
      " 24  Visibility(mi)         98154 non-null   float64       \n",
      " 25  Wind_Direction         98936 non-null   object        \n",
      " 26  Wind_Speed(mph)        76180 non-null   float64       \n",
      " 27  Precipitation(in)      7368 non-null    float64       \n",
      " 28  Weather_Condition      98396 non-null   object        \n",
      " 29  Amenity                100000 non-null  bool          \n",
      " 30  Bump                   100000 non-null  bool          \n",
      " 31  Crossing               100000 non-null  bool          \n",
      " 32  Give_Way               100000 non-null  bool          \n",
      " 33  Junction               100000 non-null  bool          \n",
      " 34  No_Exit                100000 non-null  bool          \n",
      " 35  Railway                100000 non-null  bool          \n",
      " 36  Roundabout             100000 non-null  bool          \n",
      " 37  Station                100000 non-null  bool          \n",
      " 38  Stop                   100000 non-null  bool          \n",
      " 39  Traffic_Calming        100000 non-null  bool          \n",
      " 40  Traffic_Signal         100000 non-null  bool          \n",
      " 41  Turning_Loop           100000 non-null  bool          \n",
      " 42  Sunrise_Sunset         99999 non-null   object        \n",
      " 43  Civil_Twilight         99999 non-null   object        \n",
      " 44  Nautical_Twilight      99999 non-null   object        \n",
      " 45  Astronomical_Twilight  99999 non-null   object        \n",
      "dtypes: bool(13), datetime64[ns](2), float64(12), int64(1), object(18)\n",
      "memory usage: 27.2+ MB\n"
     ]
    }
   ],
   "source": [
    "# validação se as variáveis estão em formato de data\n",
    "acidentes.info()\n"
   ]
  },
  {
   "cell_type": "markdown",
   "metadata": {},
   "source": [
    "Vamos verificar em quais colunas há valores nulos e se há a necessidade de preenchê-los"
   ]
  },
  {
   "cell_type": "code",
   "execution_count": 14,
   "metadata": {},
   "outputs": [
    {
     "data": {
      "text/plain": [
       "ID                            0\n",
       "Source                        0\n",
       "Severity                      0\n",
       "Start_Time                    0\n",
       "End_Time                      0\n",
       "Start_Lat                     0\n",
       "Start_Lng                     0\n",
       "End_Lat                  100000\n",
       "End_Lng                  100000\n",
       "Distance(mi)                  0\n",
       "Description                   0\n",
       "Street                        0\n",
       "City                          1\n",
       "County                        0\n",
       "State                         0\n",
       "Zipcode                       7\n",
       "Country                       0\n",
       "Timezone                      7\n",
       "Airport_Code                  7\n",
       "Weather_Timestamp          1054\n",
       "Temperature(F)             1591\n",
       "Wind_Chill(F)             95678\n",
       "Humidity(%)                1856\n",
       "Pressure(in)               1292\n",
       "Visibility(mi)             1846\n",
       "Wind_Direction             1064\n",
       "Wind_Speed(mph)           23820\n",
       "Precipitation(in)         92632\n",
       "Weather_Condition          1604\n",
       "Amenity                       0\n",
       "Bump                          0\n",
       "Crossing                      0\n",
       "Give_Way                      0\n",
       "Junction                      0\n",
       "No_Exit                       0\n",
       "Railway                       0\n",
       "Roundabout                    0\n",
       "Station                       0\n",
       "Stop                          0\n",
       "Traffic_Calming               0\n",
       "Traffic_Signal                0\n",
       "Turning_Loop                  0\n",
       "Sunrise_Sunset                1\n",
       "Civil_Twilight                1\n",
       "Nautical_Twilight             1\n",
       "Astronomical_Twilight         1\n",
       "dtype: int64"
      ]
     },
     "execution_count": 14,
     "metadata": {},
     "output_type": "execute_result"
    }
   ],
   "source": [
    "# soma todos os valores nulos por coluna\n",
    "acidentes.isnull().sum()\n"
   ]
  },
  {
   "cell_type": "markdown",
   "metadata": {},
   "source": [
    "Podemos ver que temos muitas variáveis que possuem valor nulo. Abaixo seguem listadas quais são elas e como elas devem ser tratadas quando nulas.<br>\n",
    "<ul>\n",
    "    <li>End Lat - preencher com \"N/A\"</li>\n",
    "    <li>End Lng - preencher com \"N/A\"</li>\n",
    "    <li>Street_Number - preencher com \"N/A\"</li>\n",
    "    <li>City - preencher com \"N/A\"</li>\n",
    "    <li>Sunrise_Sunset - preencher com \"N/A\"</li>\n",
    "    <li>Civil_Twilight - preencher com \"N/A\"</li>\n",
    "    <li>Nautical_Twilight - preencher com \"N/A\"</li>\n",
    "    <li>Astronomical_Twilight - preencher com \"N/A\"</li>\n",
    "    <li>Timezone - preencher com \"N/A\"</li>\n",
    "    <li>Airport Code - preencher com \"N/A\"</li>\n",
    "    <li>Weather Timestamp - preencher com \"N/A\"</li>\n",
    "    <li>Wind_Direction - preencher com \"N/A\"</li>\n",
    "    <li>Weather_Condition - preencher com \"N/A\"</li>\n",
    "    <li>Traffic_Message_Channel - preencher com o valor 999 ou com o valor 0</li>\n",
    "    <li>Zipcode - preencher com 99999</li>\n",
    "    <li>Temperature (F) - preencher com 999</li>\n",
    "    <li>Wind_Chill(F) - preencher com 999</li>\n",
    "    <li>Humidity(%) - preencher com 0</li>\n",
    "    <li>Pressure(in) - preencher com 0</li>\n",
    "    <li>Visibility(mi) - preencher com 0</li>\n",
    "    <li>Wind_Speed(mph) - preencher com 0</li>\n",
    "    <li>Precipitation(in) - preencher com 0</li>\n",
    "</ul>"
   ]
  },
  {
   "cell_type": "code",
   "execution_count": 20,
   "metadata": {},
   "outputs": [],
   "source": [
    "# preenchendo End Lat, End Lng, Street_Number, City, Sunrise_Sunset, Civil_Twilight e Astronomical_Twilight com \"N/A\"\n",
    "acidentes['End_Lat'] = acidentes['End_Lat'].fillna('N/A')\n",
    "acidentes['End_Lng'] = acidentes['End_Lng'].fillna('N/A')\n",
    "acidentes['Street'] = acidentes['Street'].fillna('N/A')\n",
    "acidentes['City'] = acidentes['City'].fillna('N/A')\n",
    "acidentes['Sunrise_Sunset'] = acidentes['Sunrise_Sunset'].fillna('N/A')\n",
    "acidentes['Civil_Twilight'] = acidentes['Civil_Twilight'].fillna('N/A')\n",
    "acidentes['Nautical_Twilight'] = acidentes['Nautical_Twilight'].fillna('N/A')\n",
    "acidentes['Astronomical_Twilight'] = acidentes['Astronomical_Twilight'].fillna('N/A')\n",
    "acidentes['Timezone'] = acidentes['Timezone'].fillna('N/A')\n",
    "acidentes['Airport_Code'] = acidentes['Airport_Code'].fillna('N/A')\n",
    "acidentes['Weather_Timestamp'] = acidentes['Weather_Timestamp'].fillna('N/A')\n",
    "acidentes['Wind_Direction'] = acidentes['Wind_Direction'].fillna('N/A')\n",
    "acidentes['Weather_Condition'] = acidentes['Weather_Condition'].fillna('N/A')\n",
    "\n",
    "\n",
    "\n",
    "# preenchendo a coluna Traffic_Message_Channel\n",
    "\n",
    "\n",
    "\n",
    "# preenchendo Zipcode com 99999\n",
    "acidentes['Zipcode'] = acidentes['Zipcode'].fillna(99999)\n",
    "\n",
    "\n",
    "# preenchendo Temperature(F) e Wind Chill(F) com 999\n",
    "acidentes['Temperature(F)'] = acidentes['Temperature(F)'].fillna(999)\n",
    "acidentes['Wind_Chill(F)'] = acidentes['Wind_Chill(F)'].fillna(999)\n",
    "\n",
    "\n",
    "# preenchendo Humidity, Pressure, Visibility, Wind Speed e Precipitation com 0\n",
    "acidentes['Humidity(%)'] = acidentes['Humidity(%)'].fillna(0)\n",
    "acidentes['Pressure(in)'] = acidentes['Pressure(in)'].fillna(0)\n",
    "acidentes['Visibility(mi)'] = acidentes['Visibility(mi)'].fillna(0)\n",
    "acidentes['Wind_Speed(mph)'] = acidentes['Wind_Speed(mph)'].fillna(0) \n",
    "acidentes['Precipitation(in)'] = acidentes['Precipitation(in)'].fillna(0)\n",
    "\n",
    "\n",
    "\n",
    "\n",
    "\n",
    "\n",
    "\n",
    "\n"
   ]
  },
  {
   "cell_type": "code",
   "execution_count": 21,
   "metadata": {},
   "outputs": [
    {
     "data": {
      "text/plain": [
       "ID                       0\n",
       "Source                   0\n",
       "Severity                 0\n",
       "Start_Time               0\n",
       "End_Time                 0\n",
       "Start_Lat                0\n",
       "Start_Lng                0\n",
       "End_Lat                  0\n",
       "End_Lng                  0\n",
       "Distance(mi)             0\n",
       "Description              0\n",
       "Street                   0\n",
       "City                     0\n",
       "County                   0\n",
       "State                    0\n",
       "Zipcode                  0\n",
       "Country                  0\n",
       "Timezone                 0\n",
       "Airport_Code             0\n",
       "Weather_Timestamp        0\n",
       "Temperature(F)           0\n",
       "Wind_Chill(F)            0\n",
       "Humidity(%)              0\n",
       "Pressure(in)             0\n",
       "Visibility(mi)           0\n",
       "Wind_Direction           0\n",
       "Wind_Speed(mph)          0\n",
       "Precipitation(in)        0\n",
       "Weather_Condition        0\n",
       "Amenity                  0\n",
       "Bump                     0\n",
       "Crossing                 0\n",
       "Give_Way                 0\n",
       "Junction                 0\n",
       "No_Exit                  0\n",
       "Railway                  0\n",
       "Roundabout               0\n",
       "Station                  0\n",
       "Stop                     0\n",
       "Traffic_Calming          0\n",
       "Traffic_Signal           0\n",
       "Turning_Loop             0\n",
       "Sunrise_Sunset           0\n",
       "Civil_Twilight           0\n",
       "Nautical_Twilight        0\n",
       "Astronomical_Twilight    0\n",
       "dtype: int64"
      ]
     },
     "execution_count": 21,
     "metadata": {},
     "output_type": "execute_result"
    }
   ],
   "source": [
    "# validando se todos os campos estão preenchidos\n",
    "acidentes.isnull().sum()\n"
   ]
  },
  {
   "cell_type": "markdown",
   "metadata": {},
   "source": [
    "Agora que toda a base está tratada, vamos observar alguns dados gerais antes de começar nossas análises de fato? Vamos começar olhando dados estatísticos gerais da base."
   ]
  },
  {
   "cell_type": "code",
   "execution_count": 22,
   "metadata": {},
   "outputs": [
    {
     "data": {
      "text/html": [
       "<div>\n",
       "<style scoped>\n",
       "    .dataframe tbody tr th:only-of-type {\n",
       "        vertical-align: middle;\n",
       "    }\n",
       "\n",
       "    .dataframe tbody tr th {\n",
       "        vertical-align: top;\n",
       "    }\n",
       "\n",
       "    .dataframe thead th {\n",
       "        text-align: right;\n",
       "    }\n",
       "</style>\n",
       "<table border=\"1\" class=\"dataframe\">\n",
       "  <thead>\n",
       "    <tr style=\"text-align: right;\">\n",
       "      <th></th>\n",
       "      <th>Severity</th>\n",
       "      <th>Start_Lat</th>\n",
       "      <th>Start_Lng</th>\n",
       "      <th>Distance(mi)</th>\n",
       "      <th>Temperature(F)</th>\n",
       "      <th>Wind_Chill(F)</th>\n",
       "      <th>Humidity(%)</th>\n",
       "      <th>Pressure(in)</th>\n",
       "      <th>Visibility(mi)</th>\n",
       "      <th>Wind_Speed(mph)</th>\n",
       "      <th>Precipitation(in)</th>\n",
       "    </tr>\n",
       "  </thead>\n",
       "  <tbody>\n",
       "    <tr>\n",
       "      <th>count</th>\n",
       "      <td>100000.000000</td>\n",
       "      <td>100000.000000</td>\n",
       "      <td>100000.000000</td>\n",
       "      <td>100000.000000</td>\n",
       "      <td>100000.000000</td>\n",
       "      <td>100000.000000</td>\n",
       "      <td>100000.000000</td>\n",
       "      <td>100000.000000</td>\n",
       "      <td>100000.000000</td>\n",
       "      <td>100000.000000</td>\n",
       "      <td>100000.000000</td>\n",
       "    </tr>\n",
       "    <tr>\n",
       "      <th>mean</th>\n",
       "      <td>2.448120</td>\n",
       "      <td>35.630369</td>\n",
       "      <td>-119.322756</td>\n",
       "      <td>0.011345</td>\n",
       "      <td>81.475090</td>\n",
       "      <td>957.934336</td>\n",
       "      <td>58.684390</td>\n",
       "      <td>29.573924</td>\n",
       "      <td>9.166248</td>\n",
       "      <td>6.128045</td>\n",
       "      <td>0.001900</td>\n",
       "    </tr>\n",
       "    <tr>\n",
       "      <th>std</th>\n",
       "      <td>0.499931</td>\n",
       "      <td>2.101259</td>\n",
       "      <td>3.663525</td>\n",
       "      <td>0.262244</td>\n",
       "      <td>117.342926</td>\n",
       "      <td>193.260979</td>\n",
       "      <td>24.344801</td>\n",
       "      <td>3.394567</td>\n",
       "      <td>2.251865</td>\n",
       "      <td>5.081416</td>\n",
       "      <td>0.015565</td>\n",
       "    </tr>\n",
       "    <tr>\n",
       "      <th>min</th>\n",
       "      <td>1.000000</td>\n",
       "      <td>32.542587</td>\n",
       "      <td>-123.813927</td>\n",
       "      <td>0.000000</td>\n",
       "      <td>3.200000</td>\n",
       "      <td>-8.400000</td>\n",
       "      <td>0.000000</td>\n",
       "      <td>0.000000</td>\n",
       "      <td>0.000000</td>\n",
       "      <td>0.000000</td>\n",
       "      <td>0.000000</td>\n",
       "    </tr>\n",
       "    <tr>\n",
       "      <th>25%</th>\n",
       "      <td>2.000000</td>\n",
       "      <td>33.957775</td>\n",
       "      <td>-121.828468</td>\n",
       "      <td>0.000000</td>\n",
       "      <td>57.900000</td>\n",
       "      <td>999.000000</td>\n",
       "      <td>42.000000</td>\n",
       "      <td>29.890000</td>\n",
       "      <td>10.000000</td>\n",
       "      <td>3.500000</td>\n",
       "      <td>0.000000</td>\n",
       "    </tr>\n",
       "    <tr>\n",
       "      <th>50%</th>\n",
       "      <td>2.000000</td>\n",
       "      <td>34.168579</td>\n",
       "      <td>-118.384232</td>\n",
       "      <td>0.000000</td>\n",
       "      <td>66.200000</td>\n",
       "      <td>999.000000</td>\n",
       "      <td>61.000000</td>\n",
       "      <td>29.970000</td>\n",
       "      <td>10.000000</td>\n",
       "      <td>5.800000</td>\n",
       "      <td>0.000000</td>\n",
       "    </tr>\n",
       "    <tr>\n",
       "      <th>75%</th>\n",
       "      <td>3.000000</td>\n",
       "      <td>37.776682</td>\n",
       "      <td>-117.916023</td>\n",
       "      <td>0.010000</td>\n",
       "      <td>75.200000</td>\n",
       "      <td>999.000000</td>\n",
       "      <td>78.000000</td>\n",
       "      <td>30.060000</td>\n",
       "      <td>10.000000</td>\n",
       "      <td>9.200000</td>\n",
       "      <td>0.000000</td>\n",
       "    </tr>\n",
       "    <tr>\n",
       "      <th>max</th>\n",
       "      <td>4.000000</td>\n",
       "      <td>41.428753</td>\n",
       "      <td>-81.550728</td>\n",
       "      <td>51.130000</td>\n",
       "      <td>999.000000</td>\n",
       "      <td>999.000000</td>\n",
       "      <td>100.000000</td>\n",
       "      <td>33.040000</td>\n",
       "      <td>80.000000</td>\n",
       "      <td>241.700000</td>\n",
       "      <td>0.550000</td>\n",
       "    </tr>\n",
       "  </tbody>\n",
       "</table>\n",
       "</div>"
      ],
      "text/plain": [
       "            Severity      Start_Lat      Start_Lng   Distance(mi)  \\\n",
       "count  100000.000000  100000.000000  100000.000000  100000.000000   \n",
       "mean        2.448120      35.630369    -119.322756       0.011345   \n",
       "std         0.499931       2.101259       3.663525       0.262244   \n",
       "min         1.000000      32.542587    -123.813927       0.000000   \n",
       "25%         2.000000      33.957775    -121.828468       0.000000   \n",
       "50%         2.000000      34.168579    -118.384232       0.000000   \n",
       "75%         3.000000      37.776682    -117.916023       0.010000   \n",
       "max         4.000000      41.428753     -81.550728      51.130000   \n",
       "\n",
       "       Temperature(F)  Wind_Chill(F)    Humidity(%)   Pressure(in)  \\\n",
       "count   100000.000000  100000.000000  100000.000000  100000.000000   \n",
       "mean        81.475090     957.934336      58.684390      29.573924   \n",
       "std        117.342926     193.260979      24.344801       3.394567   \n",
       "min          3.200000      -8.400000       0.000000       0.000000   \n",
       "25%         57.900000     999.000000      42.000000      29.890000   \n",
       "50%         66.200000     999.000000      61.000000      29.970000   \n",
       "75%         75.200000     999.000000      78.000000      30.060000   \n",
       "max        999.000000     999.000000     100.000000      33.040000   \n",
       "\n",
       "       Visibility(mi)  Wind_Speed(mph)  Precipitation(in)  \n",
       "count   100000.000000    100000.000000      100000.000000  \n",
       "mean         9.166248         6.128045           0.001900  \n",
       "std          2.251865         5.081416           0.015565  \n",
       "min          0.000000         0.000000           0.000000  \n",
       "25%         10.000000         3.500000           0.000000  \n",
       "50%         10.000000         5.800000           0.000000  \n",
       "75%         10.000000         9.200000           0.000000  \n",
       "max         80.000000       241.700000           0.550000  "
      ]
     },
     "execution_count": 22,
     "metadata": {},
     "output_type": "execute_result"
    }
   ],
   "source": [
    "# observar dados estatísticos da base\n",
    "acidentes.describe()\n"
   ]
  },
  {
   "cell_type": "markdown",
   "metadata": {},
   "source": [
    "# Análises auxiliares para equipe atuarial"
   ]
  },
  {
   "cell_type": "markdown",
   "metadata": {},
   "source": [
    "Algumas sugestões de relações que podem impactar no estudo atuarial por região:<br>\n",
    "<br>\n",
    "<ul>\n",
    "    <li>Severidade do acidente versus região</li>\n",
    "    <li>Severidade do acidente versus região versus horário do dia (manhã/noite)</li>\n",
    "    <li>Severidade do acidente versus temperatura versus precipitação</li>\n",
    "    <li>Quantidade de acidentes por severidade por região</li>\n",
    "</ul>"
   ]
  },
  {
   "cell_type": "markdown",
   "metadata": {},
   "source": [
    "Análise de Severidade de Acidente por Região"
   ]
  },
  {
   "cell_type": "code",
   "execution_count": 30,
   "metadata": {},
   "outputs": [
    {
     "data": {
      "text/html": [
       "<div>\n",
       "<style scoped>\n",
       "    .dataframe tbody tr th:only-of-type {\n",
       "        vertical-align: middle;\n",
       "    }\n",
       "\n",
       "    .dataframe tbody tr th {\n",
       "        vertical-align: top;\n",
       "    }\n",
       "\n",
       "    .dataframe thead th {\n",
       "        text-align: right;\n",
       "    }\n",
       "</style>\n",
       "<table border=\"1\" class=\"dataframe\">\n",
       "  <thead>\n",
       "    <tr style=\"text-align: right;\">\n",
       "      <th></th>\n",
       "      <th>Severity</th>\n",
       "      <th>City</th>\n",
       "      <th>Qtd</th>\n",
       "    </tr>\n",
       "  </thead>\n",
       "  <tbody>\n",
       "    <tr>\n",
       "      <th>0</th>\n",
       "      <td>1</td>\n",
       "      <td>Alpine</td>\n",
       "      <td>1</td>\n",
       "    </tr>\n",
       "    <tr>\n",
       "      <th>1</th>\n",
       "      <td>1</td>\n",
       "      <td>American Canyon</td>\n",
       "      <td>1</td>\n",
       "    </tr>\n",
       "    <tr>\n",
       "      <th>2</th>\n",
       "      <td>1</td>\n",
       "      <td>Bellflower</td>\n",
       "      <td>1</td>\n",
       "    </tr>\n",
       "    <tr>\n",
       "      <th>3</th>\n",
       "      <td>1</td>\n",
       "      <td>Cambridge</td>\n",
       "      <td>1</td>\n",
       "    </tr>\n",
       "    <tr>\n",
       "      <th>4</th>\n",
       "      <td>1</td>\n",
       "      <td>Canyon Country</td>\n",
       "      <td>1</td>\n",
       "    </tr>\n",
       "    <tr>\n",
       "      <th>...</th>\n",
       "      <td>...</td>\n",
       "      <td>...</td>\n",
       "      <td>...</td>\n",
       "    </tr>\n",
       "    <tr>\n",
       "      <th>1262</th>\n",
       "      <td>4</td>\n",
       "      <td>San Diego</td>\n",
       "      <td>2</td>\n",
       "    </tr>\n",
       "    <tr>\n",
       "      <th>1263</th>\n",
       "      <td>4</td>\n",
       "      <td>San Jose</td>\n",
       "      <td>2</td>\n",
       "    </tr>\n",
       "    <tr>\n",
       "      <th>1264</th>\n",
       "      <td>4</td>\n",
       "      <td>San Leandro</td>\n",
       "      <td>1</td>\n",
       "    </tr>\n",
       "    <tr>\n",
       "      <th>1265</th>\n",
       "      <td>4</td>\n",
       "      <td>Santa Ana</td>\n",
       "      <td>1</td>\n",
       "    </tr>\n",
       "    <tr>\n",
       "      <th>1266</th>\n",
       "      <td>4</td>\n",
       "      <td>Sylmar</td>\n",
       "      <td>1</td>\n",
       "    </tr>\n",
       "  </tbody>\n",
       "</table>\n",
       "<p>1267 rows × 3 columns</p>\n",
       "</div>"
      ],
      "text/plain": [
       "      Severity             City  Qtd\n",
       "0            1           Alpine    1\n",
       "1            1  American Canyon    1\n",
       "2            1       Bellflower    1\n",
       "3            1        Cambridge    1\n",
       "4            1   Canyon Country    1\n",
       "...        ...              ...  ...\n",
       "1262         4        San Diego    2\n",
       "1263         4         San Jose    2\n",
       "1264         4      San Leandro    1\n",
       "1265         4        Santa Ana    1\n",
       "1266         4           Sylmar    1\n",
       "\n",
       "[1267 rows x 3 columns]"
      ]
     },
     "execution_count": 30,
     "metadata": {},
     "output_type": "execute_result"
    }
   ],
   "source": [
    "# análise de severidade de acidente por região\n",
    "acidente_regiao = acidentes.groupby(['Severity', 'City'])['Severity'].count().reset_index(name = 'Qtd')\n",
    "acidente_regiao\n",
    "\n",
    "\n"
   ]
  },
  {
   "cell_type": "code",
   "execution_count": 32,
   "metadata": {
    "scrolled": true
   },
   "outputs": [
    {
     "data": {
      "application/vnd.plotly.v1+json": {
       "config": {
        "plotlyServerURL": "https://plot.ly"
       },
       "data": [
        {
         "alignmentgroup": "True",
         "customdata": [
          [
           1
          ],
          [
           1
          ],
          [
           1
          ],
          [
           1
          ],
          [
           1
          ],
          [
           1
          ],
          [
           1
          ],
          [
           1
          ],
          [
           1
          ],
          [
           1
          ],
          [
           1
          ],
          [
           1
          ],
          [
           1
          ],
          [
           1
          ],
          [
           1
          ],
          [
           1
          ],
          [
           1
          ],
          [
           1
          ],
          [
           1
          ],
          [
           1
          ],
          [
           1
          ],
          [
           1
          ],
          [
           1
          ],
          [
           1
          ],
          [
           1
          ],
          [
           1
          ],
          [
           1
          ],
          [
           1
          ],
          [
           1
          ],
          [
           1
          ],
          [
           1
          ],
          [
           1
          ],
          [
           1
          ],
          [
           1
          ],
          [
           1
          ],
          [
           1
          ],
          [
           1
          ],
          [
           1
          ],
          [
           1
          ],
          [
           1
          ],
          [
           1
          ],
          [
           1
          ],
          [
           1
          ],
          [
           1
          ],
          [
           1
          ],
          [
           1
          ],
          [
           1
          ],
          [
           1
          ],
          [
           1
          ],
          [
           1
          ],
          [
           1
          ],
          [
           1
          ],
          [
           1
          ],
          [
           1
          ],
          [
           1
          ],
          [
           1
          ],
          [
           1
          ],
          [
           1
          ],
          [
           1
          ],
          [
           1
          ],
          [
           1
          ],
          [
           1
          ],
          [
           1
          ],
          [
           1
          ],
          [
           1
          ],
          [
           1
          ],
          [
           1
          ],
          [
           1
          ],
          [
           1
          ],
          [
           1
          ],
          [
           1
          ],
          [
           1
          ],
          [
           1
          ],
          [
           1
          ],
          [
           1
          ],
          [
           1
          ],
          [
           2
          ],
          [
           2
          ],
          [
           2
          ],
          [
           2
          ],
          [
           2
          ],
          [
           2
          ],
          [
           2
          ],
          [
           2
          ],
          [
           2
          ],
          [
           2
          ],
          [
           2
          ],
          [
           2
          ],
          [
           2
          ],
          [
           2
          ],
          [
           2
          ],
          [
           2
          ],
          [
           2
          ],
          [
           2
          ],
          [
           2
          ],
          [
           2
          ],
          [
           2
          ],
          [
           2
          ],
          [
           2
          ],
          [
           2
          ],
          [
           2
          ],
          [
           2
          ],
          [
           2
          ],
          [
           2
          ],
          [
           2
          ],
          [
           2
          ],
          [
           2
          ],
          [
           2
          ],
          [
           2
          ],
          [
           2
          ],
          [
           2
          ],
          [
           2
          ],
          [
           2
          ],
          [
           2
          ],
          [
           2
          ],
          [
           2
          ],
          [
           2
          ],
          [
           2
          ],
          [
           2
          ],
          [
           2
          ],
          [
           2
          ],
          [
           2
          ],
          [
           2
          ],
          [
           2
          ],
          [
           2
          ],
          [
           2
          ],
          [
           2
          ],
          [
           2
          ],
          [
           2
          ],
          [
           2
          ],
          [
           2
          ],
          [
           2
          ],
          [
           2
          ],
          [
           2
          ],
          [
           2
          ],
          [
           2
          ],
          [
           2
          ],
          [
           2
          ],
          [
           2
          ],
          [
           2
          ],
          [
           2
          ],
          [
           2
          ],
          [
           2
          ],
          [
           2
          ],
          [
           2
          ],
          [
           2
          ],
          [
           2
          ],
          [
           2
          ],
          [
           2
          ],
          [
           2
          ],
          [
           2
          ],
          [
           2
          ],
          [
           2
          ],
          [
           2
          ],
          [
           2
          ],
          [
           2
          ],
          [
           2
          ],
          [
           2
          ],
          [
           2
          ],
          [
           2
          ],
          [
           2
          ],
          [
           2
          ],
          [
           2
          ],
          [
           2
          ],
          [
           2
          ],
          [
           2
          ],
          [
           2
          ],
          [
           2
          ],
          [
           2
          ],
          [
           2
          ],
          [
           2
          ],
          [
           2
          ],
          [
           2
          ],
          [
           2
          ],
          [
           2
          ],
          [
           2
          ],
          [
           2
          ],
          [
           2
          ],
          [
           2
          ],
          [
           2
          ],
          [
           2
          ],
          [
           2
          ],
          [
           2
          ],
          [
           2
          ],
          [
           2
          ],
          [
           2
          ],
          [
           2
          ],
          [
           2
          ],
          [
           2
          ],
          [
           2
          ],
          [
           2
          ],
          [
           2
          ],
          [
           2
          ],
          [
           2
          ],
          [
           2
          ],
          [
           2
          ],
          [
           2
          ],
          [
           2
          ],
          [
           2
          ],
          [
           2
          ],
          [
           2
          ],
          [
           2
          ],
          [
           2
          ],
          [
           2
          ],
          [
           2
          ],
          [
           2
          ],
          [
           2
          ],
          [
           2
          ],
          [
           2
          ],
          [
           2
          ],
          [
           2
          ],
          [
           2
          ],
          [
           2
          ],
          [
           2
          ],
          [
           2
          ],
          [
           2
          ],
          [
           2
          ],
          [
           2
          ],
          [
           2
          ],
          [
           2
          ],
          [
           2
          ],
          [
           2
          ],
          [
           2
          ],
          [
           2
          ],
          [
           2
          ],
          [
           2
          ],
          [
           2
          ],
          [
           2
          ],
          [
           2
          ],
          [
           2
          ],
          [
           2
          ],
          [
           2
          ],
          [
           2
          ],
          [
           2
          ],
          [
           2
          ],
          [
           2
          ],
          [
           2
          ],
          [
           2
          ],
          [
           2
          ],
          [
           2
          ],
          [
           2
          ],
          [
           2
          ],
          [
           2
          ],
          [
           2
          ],
          [
           2
          ],
          [
           2
          ],
          [
           2
          ],
          [
           2
          ],
          [
           2
          ],
          [
           2
          ],
          [
           2
          ],
          [
           2
          ],
          [
           2
          ],
          [
           2
          ],
          [
           2
          ],
          [
           2
          ],
          [
           2
          ],
          [
           2
          ],
          [
           2
          ],
          [
           2
          ],
          [
           2
          ],
          [
           2
          ],
          [
           2
          ],
          [
           2
          ],
          [
           2
          ],
          [
           2
          ],
          [
           2
          ],
          [
           2
          ],
          [
           2
          ],
          [
           2
          ],
          [
           2
          ],
          [
           2
          ],
          [
           2
          ],
          [
           2
          ],
          [
           2
          ],
          [
           2
          ],
          [
           2
          ],
          [
           2
          ],
          [
           2
          ],
          [
           2
          ],
          [
           2
          ],
          [
           2
          ],
          [
           2
          ],
          [
           2
          ],
          [
           2
          ],
          [
           2
          ],
          [
           2
          ],
          [
           2
          ],
          [
           2
          ],
          [
           2
          ],
          [
           2
          ],
          [
           2
          ],
          [
           2
          ],
          [
           2
          ],
          [
           2
          ],
          [
           2
          ],
          [
           2
          ],
          [
           2
          ],
          [
           2
          ],
          [
           2
          ],
          [
           2
          ],
          [
           2
          ],
          [
           2
          ],
          [
           2
          ],
          [
           2
          ],
          [
           2
          ],
          [
           2
          ],
          [
           2
          ],
          [
           2
          ],
          [
           2
          ],
          [
           2
          ],
          [
           2
          ],
          [
           2
          ],
          [
           2
          ],
          [
           2
          ],
          [
           2
          ],
          [
           2
          ],
          [
           2
          ],
          [
           2
          ],
          [
           2
          ],
          [
           2
          ],
          [
           2
          ],
          [
           2
          ],
          [
           2
          ],
          [
           2
          ],
          [
           2
          ],
          [
           2
          ],
          [
           2
          ],
          [
           2
          ],
          [
           2
          ],
          [
           2
          ],
          [
           2
          ],
          [
           2
          ],
          [
           2
          ],
          [
           2
          ],
          [
           2
          ],
          [
           2
          ],
          [
           2
          ],
          [
           2
          ],
          [
           2
          ],
          [
           2
          ],
          [
           2
          ],
          [
           2
          ],
          [
           2
          ],
          [
           2
          ],
          [
           2
          ],
          [
           2
          ],
          [
           2
          ],
          [
           2
          ],
          [
           2
          ],
          [
           2
          ],
          [
           2
          ],
          [
           2
          ],
          [
           2
          ],
          [
           2
          ],
          [
           2
          ],
          [
           2
          ],
          [
           2
          ],
          [
           2
          ],
          [
           2
          ],
          [
           2
          ],
          [
           2
          ],
          [
           2
          ],
          [
           2
          ],
          [
           2
          ],
          [
           2
          ],
          [
           2
          ],
          [
           2
          ],
          [
           2
          ],
          [
           2
          ],
          [
           2
          ],
          [
           2
          ],
          [
           2
          ],
          [
           2
          ],
          [
           2
          ],
          [
           2
          ],
          [
           2
          ],
          [
           2
          ],
          [
           2
          ],
          [
           2
          ],
          [
           2
          ],
          [
           2
          ],
          [
           2
          ],
          [
           2
          ],
          [
           2
          ],
          [
           2
          ],
          [
           2
          ],
          [
           2
          ],
          [
           2
          ],
          [
           2
          ],
          [
           2
          ],
          [
           2
          ],
          [
           2
          ],
          [
           2
          ],
          [
           2
          ],
          [
           2
          ],
          [
           2
          ],
          [
           2
          ],
          [
           2
          ],
          [
           2
          ],
          [
           2
          ],
          [
           2
          ],
          [
           2
          ],
          [
           2
          ],
          [
           2
          ],
          [
           2
          ],
          [
           2
          ],
          [
           2
          ],
          [
           2
          ],
          [
           2
          ],
          [
           2
          ],
          [
           2
          ],
          [
           2
          ],
          [
           2
          ],
          [
           2
          ],
          [
           2
          ],
          [
           2
          ],
          [
           2
          ],
          [
           2
          ],
          [
           2
          ],
          [
           2
          ],
          [
           2
          ],
          [
           2
          ],
          [
           2
          ],
          [
           2
          ],
          [
           2
          ],
          [
           2
          ],
          [
           2
          ],
          [
           2
          ],
          [
           2
          ],
          [
           2
          ],
          [
           2
          ],
          [
           2
          ],
          [
           2
          ],
          [
           2
          ],
          [
           2
          ],
          [
           2
          ],
          [
           2
          ],
          [
           2
          ],
          [
           2
          ],
          [
           2
          ],
          [
           2
          ],
          [
           2
          ],
          [
           2
          ],
          [
           2
          ],
          [
           2
          ],
          [
           2
          ],
          [
           2
          ],
          [
           2
          ],
          [
           2
          ],
          [
           2
          ],
          [
           2
          ],
          [
           2
          ],
          [
           2
          ],
          [
           2
          ],
          [
           2
          ],
          [
           2
          ],
          [
           2
          ],
          [
           2
          ],
          [
           2
          ],
          [
           2
          ],
          [
           2
          ],
          [
           2
          ],
          [
           2
          ],
          [
           2
          ],
          [
           2
          ],
          [
           2
          ],
          [
           2
          ],
          [
           2
          ],
          [
           2
          ],
          [
           2
          ],
          [
           2
          ],
          [
           2
          ],
          [
           2
          ],
          [
           2
          ],
          [
           2
          ],
          [
           2
          ],
          [
           2
          ],
          [
           2
          ],
          [
           2
          ],
          [
           2
          ],
          [
           2
          ],
          [
           2
          ],
          [
           2
          ],
          [
           2
          ],
          [
           2
          ],
          [
           2
          ],
          [
           2
          ],
          [
           2
          ],
          [
           2
          ],
          [
           2
          ],
          [
           2
          ],
          [
           2
          ],
          [
           2
          ],
          [
           2
          ],
          [
           2
          ],
          [
           2
          ],
          [
           2
          ],
          [
           2
          ],
          [
           2
          ],
          [
           2
          ],
          [
           2
          ],
          [
           2
          ],
          [
           2
          ],
          [
           2
          ],
          [
           2
          ],
          [
           2
          ],
          [
           2
          ],
          [
           2
          ],
          [
           2
          ],
          [
           2
          ],
          [
           2
          ],
          [
           2
          ],
          [
           2
          ],
          [
           2
          ],
          [
           2
          ],
          [
           2
          ],
          [
           2
          ],
          [
           2
          ],
          [
           2
          ],
          [
           2
          ],
          [
           2
          ],
          [
           2
          ],
          [
           2
          ],
          [
           2
          ],
          [
           2
          ],
          [
           2
          ],
          [
           2
          ],
          [
           2
          ],
          [
           2
          ],
          [
           2
          ],
          [
           2
          ],
          [
           2
          ],
          [
           2
          ],
          [
           2
          ],
          [
           2
          ],
          [
           2
          ],
          [
           2
          ],
          [
           2
          ],
          [
           2
          ],
          [
           2
          ],
          [
           2
          ],
          [
           2
          ],
          [
           2
          ],
          [
           2
          ],
          [
           2
          ],
          [
           2
          ],
          [
           2
          ],
          [
           2
          ],
          [
           2
          ],
          [
           2
          ],
          [
           2
          ],
          [
           2
          ],
          [
           2
          ],
          [
           2
          ],
          [
           2
          ],
          [
           2
          ],
          [
           2
          ],
          [
           2
          ],
          [
           2
          ],
          [
           2
          ],
          [
           2
          ],
          [
           2
          ],
          [
           2
          ],
          [
           2
          ],
          [
           2
          ],
          [
           2
          ],
          [
           2
          ],
          [
           2
          ],
          [
           2
          ],
          [
           2
          ],
          [
           2
          ],
          [
           2
          ],
          [
           2
          ],
          [
           2
          ],
          [
           2
          ],
          [
           2
          ],
          [
           2
          ],
          [
           2
          ],
          [
           2
          ],
          [
           2
          ],
          [
           2
          ],
          [
           2
          ],
          [
           2
          ],
          [
           2
          ],
          [
           2
          ],
          [
           2
          ],
          [
           2
          ],
          [
           2
          ],
          [
           2
          ],
          [
           2
          ],
          [
           2
          ],
          [
           2
          ],
          [
           2
          ],
          [
           2
          ],
          [
           2
          ],
          [
           2
          ],
          [
           2
          ],
          [
           2
          ],
          [
           2
          ],
          [
           2
          ],
          [
           2
          ],
          [
           2
          ],
          [
           2
          ],
          [
           2
          ],
          [
           2
          ],
          [
           2
          ],
          [
           2
          ],
          [
           2
          ],
          [
           2
          ],
          [
           2
          ],
          [
           2
          ],
          [
           2
          ],
          [
           2
          ],
          [
           2
          ],
          [
           2
          ],
          [
           2
          ],
          [
           2
          ],
          [
           2
          ],
          [
           2
          ],
          [
           2
          ],
          [
           2
          ],
          [
           2
          ],
          [
           2
          ],
          [
           2
          ],
          [
           2
          ],
          [
           2
          ],
          [
           2
          ],
          [
           2
          ],
          [
           2
          ],
          [
           2
          ],
          [
           2
          ],
          [
           2
          ],
          [
           2
          ],
          [
           2
          ],
          [
           2
          ],
          [
           2
          ],
          [
           2
          ],
          [
           2
          ],
          [
           2
          ],
          [
           2
          ],
          [
           2
          ],
          [
           2
          ],
          [
           2
          ],
          [
           2
          ],
          [
           2
          ],
          [
           2
          ],
          [
           2
          ],
          [
           2
          ],
          [
           2
          ],
          [
           2
          ],
          [
           2
          ],
          [
           2
          ],
          [
           2
          ],
          [
           2
          ],
          [
           2
          ],
          [
           2
          ],
          [
           2
          ],
          [
           2
          ],
          [
           2
          ],
          [
           2
          ],
          [
           2
          ],
          [
           2
          ],
          [
           2
          ],
          [
           2
          ],
          [
           2
          ],
          [
           2
          ],
          [
           2
          ],
          [
           2
          ],
          [
           2
          ],
          [
           2
          ],
          [
           2
          ],
          [
           2
          ],
          [
           2
          ],
          [
           2
          ],
          [
           2
          ],
          [
           2
          ],
          [
           2
          ],
          [
           2
          ],
          [
           2
          ],
          [
           2
          ],
          [
           2
          ],
          [
           2
          ],
          [
           2
          ],
          [
           2
          ],
          [
           2
          ],
          [
           2
          ],
          [
           2
          ],
          [
           2
          ],
          [
           2
          ],
          [
           2
          ],
          [
           2
          ],
          [
           2
          ],
          [
           2
          ],
          [
           2
          ],
          [
           2
          ],
          [
           2
          ],
          [
           2
          ],
          [
           2
          ],
          [
           2
          ],
          [
           2
          ],
          [
           2
          ],
          [
           2
          ],
          [
           2
          ],
          [
           2
          ],
          [
           2
          ],
          [
           2
          ],
          [
           2
          ],
          [
           2
          ],
          [
           2
          ],
          [
           2
          ],
          [
           2
          ],
          [
           2
          ],
          [
           2
          ],
          [
           2
          ],
          [
           2
          ],
          [
           2
          ],
          [
           2
          ],
          [
           2
          ],
          [
           2
          ],
          [
           2
          ],
          [
           2
          ],
          [
           2
          ],
          [
           2
          ],
          [
           2
          ],
          [
           2
          ],
          [
           2
          ],
          [
           2
          ],
          [
           2
          ],
          [
           2
          ],
          [
           2
          ],
          [
           2
          ],
          [
           2
          ],
          [
           2
          ],
          [
           2
          ],
          [
           2
          ],
          [
           2
          ],
          [
           2
          ],
          [
           2
          ],
          [
           2
          ],
          [
           2
          ],
          [
           2
          ],
          [
           2
          ],
          [
           2
          ],
          [
           2
          ],
          [
           2
          ],
          [
           2
          ],
          [
           2
          ],
          [
           2
          ],
          [
           2
          ],
          [
           2
          ],
          [
           2
          ],
          [
           2
          ],
          [
           2
          ],
          [
           2
          ],
          [
           2
          ],
          [
           2
          ],
          [
           2
          ],
          [
           2
          ],
          [
           2
          ],
          [
           2
          ],
          [
           2
          ],
          [
           2
          ],
          [
           2
          ],
          [
           2
          ],
          [
           2
          ],
          [
           2
          ],
          [
           2
          ],
          [
           2
          ],
          [
           2
          ],
          [
           2
          ],
          [
           2
          ],
          [
           2
          ],
          [
           2
          ],
          [
           2
          ],
          [
           2
          ],
          [
           2
          ],
          [
           2
          ],
          [
           2
          ],
          [
           2
          ],
          [
           2
          ],
          [
           2
          ],
          [
           2
          ],
          [
           2
          ],
          [
           2
          ],
          [
           2
          ],
          [
           2
          ],
          [
           2
          ],
          [
           2
          ],
          [
           2
          ],
          [
           2
          ],
          [
           2
          ],
          [
           2
          ],
          [
           2
          ],
          [
           2
          ],
          [
           2
          ],
          [
           2
          ],
          [
           2
          ],
          [
           2
          ],
          [
           2
          ],
          [
           2
          ],
          [
           2
          ],
          [
           2
          ],
          [
           2
          ],
          [
           2
          ],
          [
           2
          ],
          [
           2
          ],
          [
           2
          ],
          [
           2
          ],
          [
           2
          ],
          [
           2
          ],
          [
           2
          ],
          [
           2
          ],
          [
           2
          ],
          [
           2
          ],
          [
           2
          ],
          [
           2
          ],
          [
           2
          ],
          [
           2
          ],
          [
           2
          ],
          [
           2
          ],
          [
           2
          ],
          [
           2
          ],
          [
           2
          ],
          [
           2
          ],
          [
           2
          ],
          [
           2
          ],
          [
           2
          ],
          [
           2
          ],
          [
           2
          ],
          [
           2
          ],
          [
           2
          ],
          [
           2
          ],
          [
           2
          ],
          [
           2
          ],
          [
           3
          ],
          [
           3
          ],
          [
           3
          ],
          [
           3
          ],
          [
           3
          ],
          [
           3
          ],
          [
           3
          ],
          [
           3
          ],
          [
           3
          ],
          [
           3
          ],
          [
           3
          ],
          [
           3
          ],
          [
           3
          ],
          [
           3
          ],
          [
           3
          ],
          [
           3
          ],
          [
           3
          ],
          [
           3
          ],
          [
           3
          ],
          [
           3
          ],
          [
           3
          ],
          [
           3
          ],
          [
           3
          ],
          [
           3
          ],
          [
           3
          ],
          [
           3
          ],
          [
           3
          ],
          [
           3
          ],
          [
           3
          ],
          [
           3
          ],
          [
           3
          ],
          [
           3
          ],
          [
           3
          ],
          [
           3
          ],
          [
           3
          ],
          [
           3
          ],
          [
           3
          ],
          [
           3
          ],
          [
           3
          ],
          [
           3
          ],
          [
           3
          ],
          [
           3
          ],
          [
           3
          ],
          [
           3
          ],
          [
           3
          ],
          [
           3
          ],
          [
           3
          ],
          [
           3
          ],
          [
           3
          ],
          [
           3
          ],
          [
           3
          ],
          [
           3
          ],
          [
           3
          ],
          [
           3
          ],
          [
           3
          ],
          [
           3
          ],
          [
           3
          ],
          [
           3
          ],
          [
           3
          ],
          [
           3
          ],
          [
           3
          ],
          [
           3
          ],
          [
           3
          ],
          [
           3
          ],
          [
           3
          ],
          [
           3
          ],
          [
           3
          ],
          [
           3
          ],
          [
           3
          ],
          [
           3
          ],
          [
           3
          ],
          [
           3
          ],
          [
           3
          ],
          [
           3
          ],
          [
           3
          ],
          [
           3
          ],
          [
           3
          ],
          [
           3
          ],
          [
           3
          ],
          [
           3
          ],
          [
           3
          ],
          [
           3
          ],
          [
           3
          ],
          [
           3
          ],
          [
           3
          ],
          [
           3
          ],
          [
           3
          ],
          [
           3
          ],
          [
           3
          ],
          [
           3
          ],
          [
           3
          ],
          [
           3
          ],
          [
           3
          ],
          [
           3
          ],
          [
           3
          ],
          [
           3
          ],
          [
           3
          ],
          [
           3
          ],
          [
           3
          ],
          [
           3
          ],
          [
           3
          ],
          [
           3
          ],
          [
           3
          ],
          [
           3
          ],
          [
           3
          ],
          [
           3
          ],
          [
           3
          ],
          [
           3
          ],
          [
           3
          ],
          [
           3
          ],
          [
           3
          ],
          [
           3
          ],
          [
           3
          ],
          [
           3
          ],
          [
           3
          ],
          [
           3
          ],
          [
           3
          ],
          [
           3
          ],
          [
           3
          ],
          [
           3
          ],
          [
           3
          ],
          [
           3
          ],
          [
           3
          ],
          [
           3
          ],
          [
           3
          ],
          [
           3
          ],
          [
           3
          ],
          [
           3
          ],
          [
           3
          ],
          [
           3
          ],
          [
           3
          ],
          [
           3
          ],
          [
           3
          ],
          [
           3
          ],
          [
           3
          ],
          [
           3
          ],
          [
           3
          ],
          [
           3
          ],
          [
           3
          ],
          [
           3
          ],
          [
           3
          ],
          [
           3
          ],
          [
           3
          ],
          [
           3
          ],
          [
           3
          ],
          [
           3
          ],
          [
           3
          ],
          [
           3
          ],
          [
           3
          ],
          [
           3
          ],
          [
           3
          ],
          [
           3
          ],
          [
           3
          ],
          [
           3
          ],
          [
           3
          ],
          [
           3
          ],
          [
           3
          ],
          [
           3
          ],
          [
           3
          ],
          [
           3
          ],
          [
           3
          ],
          [
           3
          ],
          [
           3
          ],
          [
           3
          ],
          [
           3
          ],
          [
           3
          ],
          [
           3
          ],
          [
           3
          ],
          [
           3
          ],
          [
           3
          ],
          [
           3
          ],
          [
           3
          ],
          [
           3
          ],
          [
           3
          ],
          [
           3
          ],
          [
           3
          ],
          [
           3
          ],
          [
           3
          ],
          [
           3
          ],
          [
           3
          ],
          [
           3
          ],
          [
           3
          ],
          [
           3
          ],
          [
           3
          ],
          [
           3
          ],
          [
           3
          ],
          [
           3
          ],
          [
           3
          ],
          [
           3
          ],
          [
           3
          ],
          [
           3
          ],
          [
           3
          ],
          [
           3
          ],
          [
           3
          ],
          [
           3
          ],
          [
           3
          ],
          [
           3
          ],
          [
           3
          ],
          [
           3
          ],
          [
           3
          ],
          [
           3
          ],
          [
           3
          ],
          [
           3
          ],
          [
           3
          ],
          [
           3
          ],
          [
           3
          ],
          [
           3
          ],
          [
           3
          ],
          [
           3
          ],
          [
           3
          ],
          [
           3
          ],
          [
           3
          ],
          [
           3
          ],
          [
           3
          ],
          [
           3
          ],
          [
           3
          ],
          [
           3
          ],
          [
           3
          ],
          [
           3
          ],
          [
           3
          ],
          [
           3
          ],
          [
           3
          ],
          [
           3
          ],
          [
           3
          ],
          [
           3
          ],
          [
           3
          ],
          [
           3
          ],
          [
           3
          ],
          [
           3
          ],
          [
           3
          ],
          [
           3
          ],
          [
           3
          ],
          [
           3
          ],
          [
           3
          ],
          [
           3
          ],
          [
           3
          ],
          [
           3
          ],
          [
           3
          ],
          [
           3
          ],
          [
           3
          ],
          [
           3
          ],
          [
           3
          ],
          [
           3
          ],
          [
           3
          ],
          [
           3
          ],
          [
           3
          ],
          [
           3
          ],
          [
           3
          ],
          [
           3
          ],
          [
           3
          ],
          [
           3
          ],
          [
           3
          ],
          [
           3
          ],
          [
           3
          ],
          [
           3
          ],
          [
           3
          ],
          [
           3
          ],
          [
           3
          ],
          [
           3
          ],
          [
           3
          ],
          [
           3
          ],
          [
           3
          ],
          [
           3
          ],
          [
           3
          ],
          [
           3
          ],
          [
           3
          ],
          [
           3
          ],
          [
           3
          ],
          [
           3
          ],
          [
           3
          ],
          [
           3
          ],
          [
           3
          ],
          [
           3
          ],
          [
           3
          ],
          [
           3
          ],
          [
           3
          ],
          [
           3
          ],
          [
           3
          ],
          [
           3
          ],
          [
           3
          ],
          [
           3
          ],
          [
           3
          ],
          [
           3
          ],
          [
           3
          ],
          [
           3
          ],
          [
           3
          ],
          [
           3
          ],
          [
           3
          ],
          [
           3
          ],
          [
           3
          ],
          [
           3
          ],
          [
           3
          ],
          [
           3
          ],
          [
           3
          ],
          [
           3
          ],
          [
           3
          ],
          [
           3
          ],
          [
           3
          ],
          [
           3
          ],
          [
           3
          ],
          [
           3
          ],
          [
           3
          ],
          [
           3
          ],
          [
           3
          ],
          [
           3
          ],
          [
           3
          ],
          [
           3
          ],
          [
           3
          ],
          [
           3
          ],
          [
           3
          ],
          [
           3
          ],
          [
           3
          ],
          [
           3
          ],
          [
           3
          ],
          [
           3
          ],
          [
           3
          ],
          [
           3
          ],
          [
           3
          ],
          [
           3
          ],
          [
           3
          ],
          [
           3
          ],
          [
           3
          ],
          [
           3
          ],
          [
           3
          ],
          [
           3
          ],
          [
           3
          ],
          [
           3
          ],
          [
           3
          ],
          [
           3
          ],
          [
           3
          ],
          [
           3
          ],
          [
           3
          ],
          [
           3
          ],
          [
           3
          ],
          [
           3
          ],
          [
           3
          ],
          [
           3
          ],
          [
           3
          ],
          [
           3
          ],
          [
           3
          ],
          [
           3
          ],
          [
           3
          ],
          [
           3
          ],
          [
           3
          ],
          [
           3
          ],
          [
           3
          ],
          [
           3
          ],
          [
           3
          ],
          [
           3
          ],
          [
           3
          ],
          [
           3
          ],
          [
           3
          ],
          [
           3
          ],
          [
           3
          ],
          [
           3
          ],
          [
           3
          ],
          [
           3
          ],
          [
           3
          ],
          [
           3
          ],
          [
           3
          ],
          [
           3
          ],
          [
           3
          ],
          [
           3
          ],
          [
           3
          ],
          [
           3
          ],
          [
           3
          ],
          [
           3
          ],
          [
           3
          ],
          [
           3
          ],
          [
           3
          ],
          [
           3
          ],
          [
           3
          ],
          [
           3
          ],
          [
           3
          ],
          [
           3
          ],
          [
           3
          ],
          [
           3
          ],
          [
           3
          ],
          [
           3
          ],
          [
           3
          ],
          [
           3
          ],
          [
           3
          ],
          [
           3
          ],
          [
           3
          ],
          [
           3
          ],
          [
           3
          ],
          [
           3
          ],
          [
           3
          ],
          [
           3
          ],
          [
           3
          ],
          [
           3
          ],
          [
           3
          ],
          [
           3
          ],
          [
           3
          ],
          [
           3
          ],
          [
           3
          ],
          [
           3
          ],
          [
           3
          ],
          [
           3
          ],
          [
           3
          ],
          [
           3
          ],
          [
           3
          ],
          [
           3
          ],
          [
           4
          ],
          [
           4
          ],
          [
           4
          ],
          [
           4
          ],
          [
           4
          ],
          [
           4
          ],
          [
           4
          ],
          [
           4
          ],
          [
           4
          ],
          [
           4
          ],
          [
           4
          ],
          [
           4
          ],
          [
           4
          ],
          [
           4
          ],
          [
           4
          ],
          [
           4
          ],
          [
           4
          ],
          [
           4
          ],
          [
           4
          ],
          [
           4
          ],
          [
           4
          ],
          [
           4
          ],
          [
           4
          ],
          [
           4
          ],
          [
           4
          ],
          [
           4
          ],
          [
           4
          ],
          [
           4
          ],
          [
           4
          ]
         ],
         "hovertemplate": "Cidade=%{x}<br>Quantidade de Acidentes=%{marker.color}<br>Severity=%{customdata[0]}<extra></extra>",
         "legendgroup": "",
         "marker": {
          "color": [
           1,
           1,
           1,
           1,
           1,
           1,
           1,
           1,
           2,
           1,
           1,
           1,
           1,
           1,
           1,
           1,
           2,
           1,
           1,
           1,
           1,
           1,
           1,
           1,
           1,
           1,
           1,
           1,
           1,
           1,
           1,
           8,
           1,
           1,
           1,
           1,
           1,
           1,
           1,
           1,
           1,
           1,
           1,
           1,
           2,
           1,
           1,
           1,
           1,
           1,
           2,
           1,
           2,
           2,
           3,
           5,
           3,
           1,
           1,
           1,
           1,
           1,
           1,
           1,
           1,
           2,
           1,
           1,
           1,
           1,
           1,
           1,
           1,
           1,
           1,
           1,
           90,
           191,
           1,
           90,
           20,
           4,
           3,
           37,
           1,
           1,
           20,
           12,
           41,
           1,
           98,
           10,
           1,
           37,
           782,
           27,
           9,
           6,
           3,
           150,
           171,
           7,
           16,
           1,
           119,
           5,
           25,
           1,
           25,
           90,
           2,
           38,
           218,
           92,
           33,
           1,
           13,
           2,
           8,
           34,
           43,
           2,
           2,
           2,
           8,
           187,
           1,
           66,
           9,
           19,
           9,
           16,
           6,
           1,
           3,
           4,
           72,
           8,
           1,
           3,
           2,
           1,
           107,
           2,
           2,
           23,
           4,
           52,
           54,
           6,
           28,
           11,
           3,
           131,
           1,
           108,
           51,
           7,
           1,
           142,
           91,
           73,
           1,
           58,
           16,
           158,
           2,
           72,
           164,
           49,
           21,
           1,
           112,
           9,
           10,
           5,
           8,
           181,
           5,
           2,
           29,
           2,
           69,
           60,
           18,
           257,
           70,
           2,
           85,
           1,
           65,
           240,
           66,
           13,
           8,
           4,
           45,
           333,
           1,
           82,
           9,
           254,
           53,
           2,
           41,
           1,
           37,
           61,
           74,
           13,
           14,
           3,
           11,
           4,
           32,
           1,
           9,
           29,
           71,
           3,
           38,
           2,
           415,
           331,
           20,
           21,
           804,
           1,
           14,
           61,
           123,
           43,
           5,
           115,
           13,
           23,
           14,
           8,
           48,
           91,
           1,
           27,
           2,
           23,
           10,
           46,
           282,
           8,
           1,
           14,
           10,
           9,
           35,
           1,
           597,
           14,
           1,
           35,
           58,
           1,
           13,
           20,
           3,
           16,
           26,
           10,
           7,
           1,
           4,
           221,
           3,
           23,
           137,
           1,
           16,
           7,
           73,
           245,
           24,
           1,
           2,
           10,
           7,
           217,
           47,
           118,
           13,
           231,
           3,
           2,
           84,
           153,
           6,
           20,
           3,
           35,
           1,
           3,
           96,
           199,
           6,
           6,
           28,
           44,
           5,
           1,
           10,
           1,
           1,
           8,
           137,
           33,
           158,
           13,
           1,
           1,
           117,
           155,
           10,
           219,
           17,
           24,
           183,
           31,
           253,
           74,
           1,
           1,
           6,
           1,
           80,
           32,
           4,
           118,
           1,
           79,
           182,
           2,
           40,
           7,
           5,
           1,
           1,
           3,
           4,
           33,
           1,
           21,
           421,
           76,
           33,
           60,
           344,
           61,
           133,
           7,
           18,
           26,
           3,
           2,
           39,
           2,
           1,
           17,
           160,
           31,
           10,
           7,
           7,
           99,
           24,
           1,
           14,
           142,
           4,
           40,
           131,
           1,
           38,
           46,
           4,
           45,
           16,
           2,
           15,
           28,
           14,
           10,
           6,
           2,
           2,
           70,
           40,
           1,
           7,
           5,
           19,
           10,
           104,
           19,
           28,
           390,
           2,
           60,
           75,
           140,
           10,
           4,
           4,
           12,
           79,
           8,
           13,
           144,
           5,
           8,
           38,
           37,
           23,
           1,
           92,
           1,
           46,
           34,
           3,
           20,
           164,
           7,
           21,
           2,
           17,
           191,
           6,
           8,
           1,
           356,
           22,
           13,
           33,
           4603,
           31,
           524,
           9,
           8,
           12,
           24,
           21,
           3,
           4,
           1,
           82,
           1,
           194,
           1,
           16,
           20,
           51,
           24,
           2,
           157,
           6,
           1,
           9,
           3,
           17,
           8,
           9,
           2,
           4,
           12,
           166,
           21,
           5,
           1,
           13,
           19,
           11,
           4,
           108,
           74,
           43,
           76,
           72,
           7,
           225,
           16,
           17,
           2,
           8,
           10,
           2,
           143,
           66,
           64,
           17,
           61,
           5,
           190,
           155,
           12,
           2,
           15,
           29,
           6,
           15,
           10,
           261,
           4,
           2,
           71,
           1,
           345,
           44,
           101,
           1,
           1,
           37,
           74,
           24,
           231,
           6,
           20,
           3,
           27,
           2,
           2,
           5,
           1,
           239,
           6,
           320,
           1,
           4,
           3,
           6,
           27,
           185,
           16,
           11,
           10,
           11,
           34,
           393,
           13,
           1,
           17,
           40,
           30,
           5,
           204,
           355,
           77,
           1,
           140,
           48,
           1,
           140,
           6,
           11,
           29,
           81,
           4,
           24,
           4,
           24,
           10,
           80,
           257,
           5,
           7,
           8,
           194,
           2,
           19,
           23,
           4,
           12,
           1,
           37,
           25,
           8,
           153,
           15,
           416,
           47,
           2,
           13,
           4,
           21,
           8,
           10,
           26,
           13,
           5,
           293,
           34,
           208,
           1,
           1,
           8,
           11,
           40,
           18,
           6,
           14,
           26,
           372,
           21,
           1,
           1,
           92,
           12,
           9,
           3,
           20,
           4,
           134,
           2,
           242,
           164,
           4,
           5,
           2,
           1,
           26,
           12,
           87,
           4,
           304,
           5,
           8,
           8,
           4,
           69,
           45,
           4,
           88,
           44,
           90,
           724,
           52,
           46,
           63,
           3,
           82,
           136,
           5,
           2,
           540,
           35,
           2,
           27,
           1,
           3512,
           62,
           58,
           318,
           47,
           1,
           346,
           35,
           46,
           9,
           1027,
           130,
           19,
           555,
           48,
           6,
           35,
           1725,
           71,
           42,
           110,
           79,
           194,
           11,
           40,
           487,
           45,
           60,
           3,
           249,
           21,
           21,
           292,
           222,
           324,
           99,
           207,
           50,
           35,
           47,
           739,
           3,
           13,
           86,
           59,
           1,
           102,
           74,
           18,
           31,
           95,
           9,
           310,
           106,
           4,
           6,
           16,
           104,
           8,
           25,
           4,
           2,
           52,
           8,
           29,
           177,
           60,
           142,
           17,
           44,
           142,
           6,
           245,
           3,
           10,
           3,
           53,
           7,
           621,
           1,
           121,
           2,
           25,
           5,
           12,
           53,
           1,
           4,
           312,
           43,
           1,
           1,
           12,
           49,
           98,
           3,
           90,
           10,
           2,
           51,
           30,
           1,
           33,
           5,
           35,
           173,
           17,
           235,
           1,
           18,
           79,
           129,
           13,
           29,
           5,
           9,
           88,
           11,
           1,
           50,
           57,
           149,
           65,
           1,
           84,
           100,
           71,
           14,
           5,
           212,
           1,
           14,
           13,
           29,
           20,
           164,
           5,
           132,
           105,
           30,
           6,
           6,
           197,
           1,
           79,
           1,
           2,
           2,
           62,
           8,
           75,
           49,
           4,
           2,
           504,
           8,
           6,
           1,
           31,
           4,
           15,
           49,
           68,
           50,
           2,
           5,
           22,
           24,
           2,
           3,
           68,
           194,
           5,
           17,
           1,
           19,
           3,
           7,
           6,
           14,
           21,
           4,
           3,
           2,
           11,
           146,
           224,
           23,
           11,
           2,
           51,
           170,
           2,
           7,
           1,
           3,
           156,
           57,
           212,
           711,
           46,
           5,
           40,
           120,
           2,
           27,
           108,
           394,
           1,
           100,
           7,
           15,
           12,
           4,
           2,
           2,
           1,
           29,
           234,
           42,
           1,
           31,
           6,
           29,
           2,
           3,
           60,
           2,
           5,
           5,
           13,
           2,
           68,
           145,
           1,
           1,
           252,
           75,
           192,
           2,
           1,
           1,
           202,
           4,
           3,
           1,
           160,
           66,
           44,
           88,
           12,
           23,
           315,
           98,
           3,
           72,
           72,
           1,
           290,
           3,
           118,
           90,
           61,
           258,
           119,
           118,
           121,
           227,
           39,
           59,
           4,
           42,
           6,
           1,
           157,
           523,
           117,
           182,
           20,
           5,
           158,
           17,
           3,
           207,
           42,
           1,
           82,
           2,
           283,
           5,
           128,
           4,
           1,
           252,
           2,
           2,
           578,
           108,
           1,
           1,
           21,
           1,
           226,
           1,
           90,
           632,
           65,
           2,
           3,
           6,
           428,
           3,
           79,
           256,
           1,
           56,
           45,
           1,
           6,
           12,
           5,
           24,
           18,
           229,
           589,
           1,
           66,
           137,
           3,
           4,
           50,
           1,
           6,
           12,
           336,
           464,
           1,
           67,
           72,
           88,
           107,
           6,
           1,
           142,
           4,
           2,
           34,
           18,
           99,
           66,
           2,
           56,
           135,
           117,
           4,
           2,
           1,
           519,
           1,
           43,
           23,
           986,
           18,
           82,
           125,
           5178,
           11,
           8,
           302,
           2,
           1,
           4,
           2,
           42,
           1,
           118,
           2,
           1,
           12,
           52,
           5,
           3,
           1,
           2,
           8,
           1,
           248,
           145,
           120,
           106,
           2,
           147,
           1,
           100,
           1,
           58,
           28,
           40,
           3,
           2,
           3,
           5,
           108,
           3,
           151,
           199,
           40,
           137,
           11,
           59,
           1,
           74,
           148,
           7,
           1,
           427,
           6,
           2,
           1407,
           168,
           545,
           114,
           1,
           1,
           2,
           1,
           1,
           1,
           1,
           230,
           33,
           1,
           9,
           153,
           394,
           36,
           16,
           82,
           4,
           6,
           5,
           4,
           1,
           18,
           102,
           1,
           3,
           1,
           4,
           90,
           478,
           1,
           266,
           2,
           13,
           1,
           2,
           3,
           74,
           1,
           220,
           8,
           140,
           1,
           2,
           321,
           1,
           1,
           535,
           55,
           21,
           83,
           208,
           17,
           1708,
           1,
           3,
           606,
           114,
           8,
           183,
           2244,
           111,
           47,
           729,
           56,
           1,
           1294,
           61,
           368,
           98,
           11,
           2,
           19,
           200,
           40,
           22,
           33,
           87,
           42,
           198,
           5,
           27,
           2,
           263,
           135,
           2,
           5,
           1,
           1,
           4,
           154,
           1,
           257,
           2,
           21,
           8,
           25,
           2,
           65,
           123,
           1,
           68,
           1,
           2,
           14,
           265,
           1,
           3,
           46,
           233,
           1,
           48,
           2,
           151,
           387,
           1,
           274,
           1,
           33,
           1,
           173,
           517,
           1,
           6,
           1,
           206,
           1,
           171,
           29,
           1,
           222,
           115,
           283,
           2,
           1,
           1,
           245,
           1,
           4,
           35,
           27,
           2,
           265,
           8,
           1,
           1,
           332,
           196,
           5,
           1,
           131,
           27,
           515,
           28,
           9,
           44,
           1,
           14,
           57,
           5,
           2,
           22,
           4,
           1,
           1,
           1,
           1,
           1,
           1,
           1,
           1,
           1,
           1,
           1,
           1,
           1,
           1,
           1,
           1,
           1,
           1,
           3,
           1,
           1,
           1,
           1,
           1,
           1,
           2,
           2,
           1,
           1,
           1
          ],
          "coloraxis": "coloraxis",
          "pattern": {
           "shape": ""
          }
         },
         "name": "",
         "offsetgroup": "",
         "orientation": "v",
         "showlegend": false,
         "textposition": "auto",
         "type": "bar",
         "x": [
          "Alpine",
          "American Canyon",
          "Bellflower",
          "Cambridge",
          "Canyon Country",
          "Carlsbad",
          "Chula Vista",
          "Compton",
          "Concord",
          "Corona",
          "Cotati",
          "Culver City",
          "Cupertino",
          "Danville",
          "Diamond Bar",
          "El Sobrante",
          "Elk Grove",
          "Fairfield",
          "Fallbrook",
          "Fontana",
          "Fremont",
          "Fullerton",
          "Gilroy",
          "Greenbrae",
          "Hacienda Heights",
          "Hayward",
          "Hollister",
          "Irwindale",
          "Lake Elsinore",
          "Livermore",
          "Los Altos",
          "Los Angeles",
          "Lucerne Valley",
          "Manteca",
          "Millbrae",
          "Milpitas",
          "Modesto",
          "Mountain View",
          "Murrieta",
          "Newark",
          "Newport Beach",
          "Norco",
          "North Olmsted",
          "Oak Hills",
          "Oakland",
          "Oxnard",
          "Pittsburg",
          "Plymouth",
          "Pomona",
          "Redwood City",
          "Riverside",
          "Rowland Heights",
          "Sacramento",
          "San Diego",
          "San Francisco",
          "San Jose",
          "San Leandro",
          "San Rafael",
          "San Ramon",
          "Santa Cruz",
          "Santa Rosa",
          "Sausalito",
          "Signal Hill",
          "Spring Valley",
          "Stanford",
          "Sunnyvale",
          "Sunol",
          "Tarzana",
          "Tracy",
          "Union City",
          "Vacaville",
          "Valley Center",
          "Valyermo",
          "Windsor",
          "Winnetka",
          "Yorba Linda",
          "Acampo",
          "Acton",
          "Adelanto",
          "Agoura Hills",
          "Aguanga",
          "Akron",
          "Alameda",
          "Alamo",
          "Albany",
          "Albion",
          "Alhambra",
          "Aliso Viejo",
          "Alpine",
          "Alta",
          "Altadena",
          "Alviso",
          "Amelia",
          "American Canyon",
          "Anaheim",
          "Angels Camp",
          "Angelus Oaks",
          "Angwin",
          "Annapolis",
          "Antelope",
          "Antioch",
          "Anza",
          "Apple Valley",
          "Applegate",
          "Aptos",
          "Arbuckle",
          "Arcadia",
          "Arleta",
          "Aromas",
          "Artesia",
          "Atherton",
          "Atwater",
          "Auburn",
          "Azusa",
          "Baldwin Park",
          "Ballico",
          "Banning",
          "Barberton",
          "Batavia",
          "Bay Point",
          "Beaumont",
          "Beavercreek",
          "Bell",
          "Bell Canyon",
          "Bell Gardens",
          "Bellflower",
          "Bellville",
          "Belmont",
          "Belvedere Tiburon",
          "Ben Lomond",
          "Benicia",
          "Berkeley",
          "Bermuda Dunes",
          "Berry Creek",
          "Bethel",
          "Beverly Hills",
          "Big Bear City",
          "Big Bear Lake",
          "Big Sur",
          "Biggs",
          "Birds Landing",
          "Blanchester",
          "Bloomington",
          "Blue Jay",
          "Bodega",
          "Bodega Bay",
          "Bolinas",
          "Bonita",
          "Bonsall",
          "Borrego Springs",
          "Boulder Creek",
          "Boulevard",
          "Bowling Green",
          "Brea",
          "Brecksville",
          "Brentwood",
          "Brisbane",
          "Brooks",
          "Browns Valley",
          "Buena Park",
          "Burbank",
          "Burlingame",
          "Butte City",
          "Byron",
          "Cabazon",
          "Calabasas",
          "Calimesa",
          "Calistoga",
          "Camarillo",
          "Cameron Park",
          "Camino",
          "Camp Pendleton",
          "Campbell",
          "Campo",
          "Camptonville",
          "Canal Winchester",
          "Canoga Park",
          "Canyon Country",
          "Capay",
          "Capistrano Beach",
          "Capitola",
          "Cardiff By the Sea",
          "Carlsbad",
          "Carmel",
          "Carmel Valley",
          "Carmichael",
          "Carpinteria",
          "Carroll",
          "Carson",
          "Casstown",
          "Castaic",
          "Castro Valley",
          "Castroville",
          "Cazadero",
          "Cedar Glen",
          "Cedarpines Park",
          "Ceres",
          "Cerritos",
          "Challenge",
          "Chatsworth",
          "Cherry Valley",
          "Chino",
          "Chino Hills",
          "Chualar",
          "Chula Vista",
          "Circleville",
          "Citrus Heights",
          "City Of Industry",
          "Claremont",
          "Clarksburg",
          "Clayton",
          "Clearlake",
          "Clearlake Oaks",
          "Cleveland",
          "Cloverdale",
          "Cobb",
          "Colfax",
          "Colton",
          "Columbus",
          "Colusa",
          "Commerce",
          "Comptche",
          "Compton",
          "Concord",
          "Cool",
          "Copperopolis",
          "Corona",
          "Corona del Mar",
          "Coronado",
          "Corte Madera",
          "Costa Mesa",
          "Cotati",
          "Courtland",
          "Covina",
          "Coyote",
          "Crestline",
          "Crockett",
          "Crows Landing",
          "Culver City",
          "Cupertino",
          "Cypress",
          "Daly City",
          "Dana Point",
          "Danville",
          "Davenport",
          "Davis",
          "Dayton",
          "Del Mar",
          "Delaware",
          "Delhi",
          "Denair",
          "Descanso",
          "Desert Hot Springs",
          "Diablo",
          "Diamond Bar",
          "Diamond Springs",
          "Dillon Beach",
          "Discovery Bay",
          "Dixon",
          "Dobbins",
          "Dos Palos",
          "Downey",
          "Downieville",
          "Duarte",
          "Dublin",
          "Dulzura",
          "Dunnigan",
          "Dutch Flat",
          "East Palo Alto",
          "El Cajon",
          "El Cerrito",
          "El Dorado",
          "El Dorado Hills",
          "El Macero",
          "El Monte",
          "El Segundo",
          "El Sobrante",
          "Elk Grove",
          "Elverta",
          "Elyria",
          "Emerald Hills",
          "Emeryville",
          "Encinitas",
          "Encino",
          "Escalon",
          "Escondido",
          "Esparto",
          "Fair Oaks",
          "Fairborn",
          "Fairfax",
          "Fairfield",
          "Fallbrook",
          "Farmington",
          "Felton",
          "Fiddletown",
          "Fillmore",
          "Findlay",
          "Firebaugh",
          "Folsom",
          "Fontana",
          "Foothill Ranch",
          "Forest Falls",
          "Foresthill",
          "Forestville",
          "Fort Bragg",
          "Foster City",
          "Fountain Valley",
          "Frankfort",
          "Fraziers Bottom",
          "Freedom",
          "Fremont",
          "French Camp",
          "Fullerton",
          "Fulton",
          "Gallipolis",
          "Galloway",
          "Galt",
          "Garden Grove",
          "Garden Valley",
          "Gardena",
          "Georgetown",
          "Geyserville",
          "Gilroy",
          "Glen Ellen",
          "Glendale",
          "Glendora",
          "Glenhaven",
          "Glenn",
          "Gold River",
          "Gold Run",
          "Goleta",
          "Gonzales",
          "Goshen",
          "Granada Hills",
          "Grand Terrace",
          "Granite Bay",
          "Grass Valley",
          "Graton",
          "Greenbrae",
          "Greenwood",
          "Gridley",
          "Grizzly Flats",
          "Grove City",
          "Groveport",
          "Gualala",
          "Guerneville",
          "Guinda",
          "Gustine",
          "Hacienda Heights",
          "Half Moon Bay",
          "Harbor City",
          "Hawthorne",
          "Hayward",
          "Healdsburg",
          "Hemet",
          "Herald",
          "Hercules",
          "Hesperia",
          "Hickman",
          "Hidden Hills",
          "Highland",
          "Hilliard",
          "Hillsborough",
          "Hilmar",
          "Hollister",
          "Homeland",
          "Hopland",
          "Hughson",
          "Huntington Beach",
          "Huntington Park",
          "Idyllwild",
          "Imperial Beach",
          "Indio",
          "Inglewood",
          "Inverness",
          "Ione",
          "Irvine",
          "Irwindale",
          "Isleton",
          "Jackson",
          "Jamestown",
          "Jamul",
          "Jenner",
          "Johnstown",
          "Joshua Tree",
          "Julian",
          "Kelseyville",
          "Kentfield",
          "Kenwood",
          "Keyes",
          "Knights Landing",
          "La Canada Flintridge",
          "La Crescenta",
          "La Grange",
          "La Habra",
          "La Habra Heights",
          "La Honda",
          "La Jolla",
          "La Mesa",
          "La Mirada",
          "La Palma",
          "La Puente",
          "La Quinta",
          "La Verne",
          "Ladera Ranch",
          "Lafayette",
          "Laguna Beach",
          "Laguna Hills",
          "Laguna Niguel",
          "Lake Arrowhead",
          "Lake Elsinore",
          "Lake Forest",
          "Lakeport",
          "Lakeside",
          "Lakewood",
          "Landers",
          "Larkspur",
          "Lathrop",
          "Lawndale",
          "Lebanon",
          "Lemon Grove",
          "Lewis Center",
          "Lincoln",
          "Linden",
          "Little River",
          "Littlerock",
          "Livermore",
          "Livingston",
          "Llano",
          "Lockbourne",
          "Lockeford",
          "Lodi",
          "Loma Linda",
          "Lompoc",
          "London",
          "Long Beach",
          "Loomis",
          "Los Alamitos",
          "Los Altos",
          "Los Angeles",
          "Los Banos",
          "Los Gatos",
          "Lotus",
          "Lower Lake",
          "Lucerne",
          "Lucerne Valley",
          "Lynwood",
          "Lytle Creek",
          "Madison",
          "Maineville",
          "Malibu",
          "Mansfield",
          "Manteca",
          "Maple Heights",
          "March Air Reserve Base",
          "Marina",
          "Marina Del Rey",
          "Marina del Rey",
          "Marshall",
          "Martinez",
          "Marysville",
          "Mason",
          "Mather",
          "Maywood",
          "McClellan",
          "Mcclellan",
          "Meadow Vista",
          "Mendocino",
          "Mendota",
          "Menifee",
          "Menlo Park",
          "Mentone",
          "Merced",
          "Meridian",
          "Miamisburg",
          "Middletown",
          "Midway City",
          "Milford",
          "Mill Valley",
          "Millbrae",
          "Milpitas",
          "Mira Loma",
          "Mission Hills",
          "Mission Viejo",
          "Modesto",
          "Mokelumne Hill",
          "Monrovia",
          "Montara",
          "Montclair",
          "Monte Rio",
          "Monte Sereno",
          "Montebello",
          "Monterey",
          "Monterey Park",
          "Montrose",
          "Moorpark",
          "Moraine",
          "Moreno Valley",
          "Morgan Hill",
          "Morongo Valley",
          "Moscow",
          "Moss Beach",
          "Moss Landing",
          "Mount Hamilton",
          "Mountain Center",
          "Mountain Ranch",
          "Mountain View",
          "Mt Baldy",
          "Muir Beach",
          "Murrieta",
          "N/A",
          "Napa",
          "National City",
          "Nevada City",
          "New Carlisle",
          "New Richmond",
          "Newark",
          "Newbury Park",
          "Newcastle",
          "Newhall",
          "Newman",
          "Newport Beach",
          "Newport Coast",
          "Nicasio",
          "Nice",
          "Nicolaus",
          "Norco",
          "North Baltimore",
          "North Highlands",
          "North Hills",
          "North Hollywood",
          "North Olmsted",
          "North Palm Springs",
          "North San Juan",
          "Northridge",
          "Norwalk",
          "Novato",
          "Nuevo",
          "Oak Hills",
          "Oak Park",
          "Oak View",
          "Oakdale",
          "Oakland",
          "Oakley",
          "Oberlin",
          "Occidental",
          "Oceanside",
          "Ojai",
          "Olivehurst",
          "Ontario",
          "Orange",
          "Orangevale",
          "Oregon House",
          "Orinda",
          "Oroville",
          "Owensville",
          "Oxnard",
          "Pacheco",
          "Pacific Palisades",
          "Pacifica",
          "Pacoima",
          "Paicines",
          "Pala",
          "Palermo",
          "Palm Desert",
          "Palm Springs",
          "Palmdale",
          "Palo Alto",
          "Palos Verdes Peninsula",
          "Panorama City",
          "Paramount",
          "Pasadena",
          "Pataskala",
          "Patterson",
          "Pauma Valley",
          "Pearblossom",
          "Pebble Beach",
          "Peebles",
          "Penn Valley",
          "Penngrove",
          "Penryn",
          "Perris",
          "Pescadero",
          "Petaluma",
          "Phelan",
          "Pickerington",
          "Pico Rivera",
          "Pilot Hill",
          "Pine Grove",
          "Pine Valley",
          "Pinole",
          "Pinon Hills",
          "Pioneer",
          "Piru",
          "Pittsburg",
          "Placentia",
          "Placerville",
          "Playa Del Rey",
          "Playa del Rey",
          "Pleasant Grove",
          "Pleasant Hill",
          "Pleasanton",
          "Plymouth",
          "Point Mugu Nawc",
          "Point Reyes Station",
          "Pollock Pines",
          "Pomona",
          "Pope Valley",
          "Port Costa",
          "Port Hueneme",
          "Porter Ranch",
          "Portola Valley",
          "Potrero",
          "Potter Valley",
          "Poway",
          "Princeton",
          "Ramona",
          "Ranchita",
          "Rancho Cordova",
          "Rancho Cucamonga",
          "Rancho Dominguez",
          "Rancho Mirage",
          "Rancho Murieta",
          "Rancho Palos Verdes",
          "Rancho Santa Fe",
          "Rancho Santa Margarita",
          "Redlands",
          "Redondo Beach",
          "Redwood City",
          "Redwood Valley",
          "Rescue",
          "Reseda",
          "Reynoldsburg",
          "Rialto",
          "Richmond",
          "Rimforest",
          "Rio Linda",
          "Rio Vista",
          "Ripon",
          "Riverside",
          "Rocklin",
          "Rodeo",
          "Rohnert Park",
          "Rolling Hills Estates",
          "Rosemead",
          "Roseville",
          "Rough And Ready",
          "Rough and Ready",
          "Rowland Heights",
          "Royal Oaks",
          "Rumsey",
          "Running Springs",
          "Sabina",
          "Sacramento",
          "Saint Helena",
          "Salida",
          "Salinas",
          "San Andreas",
          "San Anselmo",
          "San Bernardino",
          "San Bruno",
          "San Carlos",
          "San Clemente",
          "San Diego",
          "San Dimas",
          "San Fernando",
          "San Francisco",
          "San Gabriel",
          "San Gregorio",
          "San Jacinto",
          "San Jose",
          "San Juan Bautista",
          "San Juan Capistrano",
          "San Leandro",
          "San Lorenzo",
          "San Marcos",
          "San Marino",
          "San Martin",
          "San Mateo",
          "San Pablo",
          "San Pedro",
          "San Quentin",
          "San Rafael",
          "San Ramon",
          "San Ysidro",
          "Santa Ana",
          "Santa Barbara",
          "Santa Clara",
          "Santa Clarita",
          "Santa Cruz",
          "Santa Fe Springs",
          "Santa Monica",
          "Santa Paula",
          "Santa Rosa",
          "Santa Rosa Valley",
          "Santa Ysabel",
          "Santee",
          "Saratoga",
          "Sardinia",
          "Sausalito",
          "Scotts Valley",
          "Seal Beach",
          "Seaside",
          "Sebastopol",
          "Sheridan",
          "Sherman Oaks",
          "Shingle Springs",
          "Sierra City",
          "Signal Hill",
          "Silverado",
          "Simi Valley",
          "Skyforest",
          "Sloughhouse",
          "Smartsville",
          "Solana Beach",
          "Soledad",
          "Somerset",
          "Somis",
          "Sonoma",
          "Soquel",
          "South El Monte",
          "South Gate",
          "South Pasadena",
          "South San Francisco",
          "Southeast Marin",
          "Spring Valley",
          "Springboro",
          "Stanford",
          "Stanton",
          "Stevenson Ranch",
          "Stevinson",
          "Stockton",
          "Stonyford",
          "Studio City",
          "Sugarloaf",
          "Suisun City",
          "Summerland",
          "Sun City",
          "Sun Valley",
          "Sunbury",
          "Sunland",
          "Sunnyvale",
          "Sunol",
          "Sunset Beach",
          "Sutter",
          "Sutter Creek",
          "Sylmar",
          "Tarzana",
          "Tecate",
          "Temecula",
          "Temple City",
          "The Sea Ranch",
          "Thousand Oaks",
          "Thousand Palms",
          "Tiro",
          "Toluca Lake",
          "Tomales",
          "Topanga",
          "Torrance",
          "Trabuco Canyon",
          "Tracy",
          "Travis Afb",
          "Tujunga",
          "Turlock",
          "Tustin",
          "Twin Peaks",
          "Ukiah",
          "Union City",
          "Universal City",
          "Upland",
          "Upper Lake",
          "Urbancrest",
          "Vacaville",
          "Valencia",
          "Vallejo",
          "Valley Center",
          "Valley Ford",
          "Valley Springs",
          "Valley Village",
          "Valyermo",
          "Van Nuys",
          "Venice",
          "Ventura",
          "Vermilion",
          "Vernalis",
          "Vernon",
          "Victorville",
          "View Park",
          "Vista",
          "Volcano",
          "Walnut",
          "Walnut Creek",
          "Walnut Grove",
          "Warner Springs",
          "Waterford",
          "Watsonville",
          "Waynesville",
          "West Covina",
          "West Hills",
          "West Hollywood",
          "West Point",
          "West Sacramento",
          "Westerville",
          "Westlake Village",
          "Westminster",
          "Wheatland",
          "Whitewater",
          "Whittier",
          "Wildomar",
          "Williams",
          "Williamsburg",
          "Willits",
          "Willows",
          "Wilmington",
          "Wilton",
          "Winchester",
          "Windsor",
          "Windsor Hills",
          "Winnetka",
          "Winters",
          "Winton",
          "Woodacre",
          "Woodbridge",
          "Woodland",
          "Woodland Hills",
          "Woodside",
          "Wrightwood",
          "Xenia",
          "Yorba Linda",
          "Yorkville",
          "Yountville",
          "Yuba City",
          "Yucaipa",
          "Yucca Valley",
          "Zamora",
          "Acton",
          "Agoura Hills",
          "Akron",
          "Alamo",
          "Alhambra",
          "Alpine",
          "Alta",
          "Altadena",
          "American Canyon",
          "Anaheim",
          "Antelope",
          "Applegate",
          "Aptos",
          "Arbuckle",
          "Arcadia",
          "Auburn",
          "Azusa",
          "Baldwin Park",
          "Banning",
          "Barberton",
          "Beaumont",
          "Bell Gardens",
          "Bellflower",
          "Belmont",
          "Benicia",
          "Berkeley",
          "Bloomingburg",
          "Bloomington",
          "Bonita",
          "Bonsall",
          "Boulevard",
          "Bowling Green",
          "Brea",
          "Brentwood",
          "Brookpark",
          "Buena Park",
          "Burbank",
          "Burlingame",
          "Byron",
          "Cabazon",
          "Calabasas",
          "Calimesa",
          "Calistoga",
          "Camarillo",
          "Camp Pendleton",
          "Campbell",
          "Campo",
          "Canyon Country",
          "Capistrano Beach",
          "Capitola",
          "Cardiff By the Sea",
          "Carlsbad",
          "Carmichael",
          "Carpinteria",
          "Carson",
          "Castaic",
          "Castro Valley",
          "Cathedral City",
          "Cedar Glen",
          "Ceres",
          "Cerritos",
          "Chatsworth",
          "Chino",
          "Chino Hills",
          "Chula Vista",
          "Citrus Heights",
          "City Of Industry",
          "Claremont",
          "Cleveland",
          "Colfax",
          "Colton",
          "Columbus",
          "Commerce",
          "Compton",
          "Concord",
          "Cool",
          "Corona",
          "Corte Madera",
          "Costa Mesa",
          "Covina",
          "Crockett",
          "Culver City",
          "Cupertino",
          "Daly City",
          "Danville",
          "Davis",
          "Dayton",
          "Del Mar",
          "Descanso",
          "Desert Hot Springs",
          "Diamond Bar",
          "Diamond Springs",
          "Dixon",
          "Downey",
          "Duarte",
          "Dublin",
          "Dunnigan",
          "Dutch Flat",
          "El Cajon",
          "El Cerrito",
          "El Dorado Hills",
          "El Monte",
          "El Segundo",
          "El Sobrante",
          "Elk Grove",
          "Elyria",
          "Emeryville",
          "Emigrant Gap",
          "Encinitas",
          "Encino",
          "Escalon",
          "Escondido",
          "Fair Oaks",
          "Fairborn",
          "Fairfield",
          "Fallbrook",
          "Fillmore",
          "Findlay",
          "Firebaugh",
          "Folsom",
          "Fontana",
          "Foresthill",
          "Fountain Valley",
          "Fremont",
          "French Camp",
          "Galena",
          "Galt",
          "Garden Grove",
          "Gardena",
          "Gilroy",
          "Glendale",
          "Glendora",
          "Goleta",
          "Granada Hills",
          "Grand Terrace",
          "Grass Valley",
          "Grove City",
          "Gustine",
          "Hacienda Heights",
          "Half Moon Bay",
          "Hawaiian Gardens",
          "Hawthorne",
          "Hayward",
          "Healdsburg",
          "Hercules",
          "Hesperia",
          "Highland",
          "Hollister",
          "Huntington Beach",
          "Hurricane",
          "Independence",
          "Indio",
          "Inglewood",
          "Irvine",
          "Julian",
          "La Canada Flintridge",
          "La Crescenta",
          "La Jolla",
          "La Mesa",
          "La Mirada",
          "La Palma",
          "La Puente",
          "La Verne",
          "Lafayette",
          "Laguna Hills",
          "Laguna Niguel",
          "Lake Elsinore",
          "Lake Forest",
          "Lakeside",
          "Lakewood",
          "Lathrop",
          "Lawndale",
          "Lemon Grove",
          "Lima",
          "Linden",
          "Livermore",
          "Livingston",
          "Lodi",
          "Loma Linda",
          "Long Beach",
          "Loomis",
          "Los Alamitos",
          "Los Altos",
          "Los Angeles",
          "Los Banos",
          "Los Gatos",
          "Lynwood",
          "Madison",
          "Mansfield",
          "Manteca",
          "Maple Heights",
          "March Air Reserve Base",
          "Marina",
          "Martinez",
          "Maxwell",
          "McClellan",
          "Mendota",
          "Menifee",
          "Menlo Park",
          "Miamisburg",
          "Milan",
          "Mill Valley",
          "Millbrae",
          "Millersport",
          "Milpitas",
          "Mira Loma",
          "Mission Hills",
          "Mission Viejo",
          "Modesto",
          "Monrovia",
          "Montara",
          "Montclair",
          "Montebello",
          "Monterey Park",
          "Montrose",
          "Moreno Valley",
          "Morgan Hill",
          "Mount Sterling",
          "Mountain View",
          "Mt Baldy",
          "Murrieta",
          "Napa",
          "National City",
          "Newark",
          "Newcastle",
          "Newhall",
          "Newman",
          "Norco",
          "Norden",
          "North Highlands",
          "North Hills",
          "North Hollywood",
          "North Olmsted",
          "Norwalk",
          "Novato",
          "Oak Hills",
          "Oakland",
          "Oceanside",
          "Ontario",
          "Orange",
          "Orangevale",
          "Oregonia",
          "Orient",
          "Oroville",
          "Oxnard",
          "Pacheco",
          "Pacifica",
          "Pacoima",
          "Palm Desert",
          "Palmdale",
          "Palo Alto",
          "Paramount",
          "Pasadena",
          "Patterson",
          "Penryn",
          "Perris",
          "Petaluma",
          "Phelan",
          "Pickerington",
          "Pico Rivera",
          "Pine Grove",
          "Pine Valley",
          "Pinole",
          "Pinon Hills",
          "Piqua",
          "Pittsburg",
          "Placerville",
          "Pleasant Hill",
          "Pleasanton",
          "Plymouth",
          "Pomona",
          "Porter Ranch",
          "Portola Valley",
          "Potrero",
          "Ramona",
          "Rancho Cordova",
          "Rancho Cucamonga",
          "Rancho Mirage",
          "Redlands",
          "Redondo Beach",
          "Redwood City",
          "Reynoldsburg",
          "Rialto",
          "Richmond",
          "Rio Vista",
          "Ripon",
          "Riverside",
          "Rocklin",
          "Rodeo",
          "Rosemead",
          "Roseville",
          "Rowland Heights",
          "Sacramento",
          "Saint Helena",
          "Salinas",
          "San Bernardino",
          "San Bruno",
          "San Carlos",
          "San Clemente",
          "San Diego",
          "San Dimas",
          "San Fernando",
          "San Francisco",
          "San Gabriel",
          "San Jacinto",
          "San Jose",
          "San Juan Capistrano",
          "San Leandro",
          "San Lorenzo",
          "San Marcos",
          "San Martin",
          "San Mateo",
          "San Pablo",
          "San Pedro",
          "San Quentin",
          "San Rafael",
          "San Ramon",
          "San Ysidro",
          "Santa Ana",
          "Santa Barbara",
          "Santa Clara",
          "Santa Cruz",
          "Santa Fe Springs",
          "Santa Monica",
          "Santa Paula",
          "Santa Rosa",
          "Santee",
          "Saratoga",
          "Sausalito",
          "Seal Beach",
          "Seville",
          "Sherman Oaks",
          "Shingle Springs",
          "Signal Hill",
          "Soda Springs",
          "Solana Beach",
          "Soledad",
          "South El Monte",
          "South Gate",
          "South Pasadena",
          "South San Francisco",
          "Spring Valley",
          "Springfield",
          "Stevenson Ranch",
          "Stockton",
          "Strongsville",
          "Studio City",
          "Sun City",
          "Sun Valley",
          "Sunbury",
          "Sunland",
          "Sunnyvale",
          "Sunol",
          "Sylmar",
          "Tarzana",
          "Temecula",
          "Thousand Oaks",
          "Thousand Palms",
          "Tipp City",
          "Torrance",
          "Tracy",
          "Troy",
          "Tujunga",
          "Turlock",
          "Tustin",
          "Twin Peaks",
          "Union City",
          "Upland",
          "Upper Lake",
          "Vacaville",
          "Valencia",
          "Vallejo",
          "Valley Center",
          "Valley Village",
          "Valyermo",
          "Van Nuys",
          "Vandalia",
          "Ventura",
          "Victorville",
          "Vista",
          "Walnut",
          "Walnut Creek",
          "Walnut Grove",
          "Watsonville",
          "West Contra Costa",
          "West Covina",
          "West Sacramento",
          "Westerville",
          "Westlake Village",
          "Westminster",
          "Whitewater",
          "Whittier",
          "Wildomar",
          "Willows",
          "Wilmington",
          "Winchester",
          "Winters",
          "Woodland",
          "Woodland Hills",
          "Woodside",
          "Yucaipa",
          "Zamora",
          "Zanesville",
          "Burbank",
          "Calistoga",
          "Colton",
          "Columbus",
          "Crockett",
          "Culver City",
          "Danville",
          "Downey",
          "Dublin",
          "El Monte",
          "Emeryville",
          "Fairfield",
          "Hawthorne",
          "Hercules",
          "Irvine",
          "Livermore",
          "Long Beach",
          "Los Angeles",
          "Monterey Park",
          "Montrose",
          "Pacoima",
          "Royal Oaks",
          "Sacramento",
          "San Bruno",
          "San Diego",
          "San Jose",
          "San Leandro",
          "Santa Ana",
          "Sylmar"
         ],
         "xaxis": "x",
         "y": [
          1,
          1,
          1,
          1,
          1,
          1,
          1,
          1,
          2,
          1,
          1,
          1,
          1,
          1,
          1,
          1,
          2,
          1,
          1,
          1,
          1,
          1,
          1,
          1,
          1,
          1,
          1,
          1,
          1,
          1,
          1,
          8,
          1,
          1,
          1,
          1,
          1,
          1,
          1,
          1,
          1,
          1,
          1,
          1,
          2,
          1,
          1,
          1,
          1,
          1,
          2,
          1,
          2,
          2,
          3,
          5,
          3,
          1,
          1,
          1,
          1,
          1,
          1,
          1,
          1,
          2,
          1,
          1,
          1,
          1,
          1,
          1,
          1,
          1,
          1,
          1,
          90,
          191,
          1,
          90,
          20,
          4,
          3,
          37,
          1,
          1,
          20,
          12,
          41,
          1,
          98,
          10,
          1,
          37,
          782,
          27,
          9,
          6,
          3,
          150,
          171,
          7,
          16,
          1,
          119,
          5,
          25,
          1,
          25,
          90,
          2,
          38,
          218,
          92,
          33,
          1,
          13,
          2,
          8,
          34,
          43,
          2,
          2,
          2,
          8,
          187,
          1,
          66,
          9,
          19,
          9,
          16,
          6,
          1,
          3,
          4,
          72,
          8,
          1,
          3,
          2,
          1,
          107,
          2,
          2,
          23,
          4,
          52,
          54,
          6,
          28,
          11,
          3,
          131,
          1,
          108,
          51,
          7,
          1,
          142,
          91,
          73,
          1,
          58,
          16,
          158,
          2,
          72,
          164,
          49,
          21,
          1,
          112,
          9,
          10,
          5,
          8,
          181,
          5,
          2,
          29,
          2,
          69,
          60,
          18,
          257,
          70,
          2,
          85,
          1,
          65,
          240,
          66,
          13,
          8,
          4,
          45,
          333,
          1,
          82,
          9,
          254,
          53,
          2,
          41,
          1,
          37,
          61,
          74,
          13,
          14,
          3,
          11,
          4,
          32,
          1,
          9,
          29,
          71,
          3,
          38,
          2,
          415,
          331,
          20,
          21,
          804,
          1,
          14,
          61,
          123,
          43,
          5,
          115,
          13,
          23,
          14,
          8,
          48,
          91,
          1,
          27,
          2,
          23,
          10,
          46,
          282,
          8,
          1,
          14,
          10,
          9,
          35,
          1,
          597,
          14,
          1,
          35,
          58,
          1,
          13,
          20,
          3,
          16,
          26,
          10,
          7,
          1,
          4,
          221,
          3,
          23,
          137,
          1,
          16,
          7,
          73,
          245,
          24,
          1,
          2,
          10,
          7,
          217,
          47,
          118,
          13,
          231,
          3,
          2,
          84,
          153,
          6,
          20,
          3,
          35,
          1,
          3,
          96,
          199,
          6,
          6,
          28,
          44,
          5,
          1,
          10,
          1,
          1,
          8,
          137,
          33,
          158,
          13,
          1,
          1,
          117,
          155,
          10,
          219,
          17,
          24,
          183,
          31,
          253,
          74,
          1,
          1,
          6,
          1,
          80,
          32,
          4,
          118,
          1,
          79,
          182,
          2,
          40,
          7,
          5,
          1,
          1,
          3,
          4,
          33,
          1,
          21,
          421,
          76,
          33,
          60,
          344,
          61,
          133,
          7,
          18,
          26,
          3,
          2,
          39,
          2,
          1,
          17,
          160,
          31,
          10,
          7,
          7,
          99,
          24,
          1,
          14,
          142,
          4,
          40,
          131,
          1,
          38,
          46,
          4,
          45,
          16,
          2,
          15,
          28,
          14,
          10,
          6,
          2,
          2,
          70,
          40,
          1,
          7,
          5,
          19,
          10,
          104,
          19,
          28,
          390,
          2,
          60,
          75,
          140,
          10,
          4,
          4,
          12,
          79,
          8,
          13,
          144,
          5,
          8,
          38,
          37,
          23,
          1,
          92,
          1,
          46,
          34,
          3,
          20,
          164,
          7,
          21,
          2,
          17,
          191,
          6,
          8,
          1,
          356,
          22,
          13,
          33,
          4603,
          31,
          524,
          9,
          8,
          12,
          24,
          21,
          3,
          4,
          1,
          82,
          1,
          194,
          1,
          16,
          20,
          51,
          24,
          2,
          157,
          6,
          1,
          9,
          3,
          17,
          8,
          9,
          2,
          4,
          12,
          166,
          21,
          5,
          1,
          13,
          19,
          11,
          4,
          108,
          74,
          43,
          76,
          72,
          7,
          225,
          16,
          17,
          2,
          8,
          10,
          2,
          143,
          66,
          64,
          17,
          61,
          5,
          190,
          155,
          12,
          2,
          15,
          29,
          6,
          15,
          10,
          261,
          4,
          2,
          71,
          1,
          345,
          44,
          101,
          1,
          1,
          37,
          74,
          24,
          231,
          6,
          20,
          3,
          27,
          2,
          2,
          5,
          1,
          239,
          6,
          320,
          1,
          4,
          3,
          6,
          27,
          185,
          16,
          11,
          10,
          11,
          34,
          393,
          13,
          1,
          17,
          40,
          30,
          5,
          204,
          355,
          77,
          1,
          140,
          48,
          1,
          140,
          6,
          11,
          29,
          81,
          4,
          24,
          4,
          24,
          10,
          80,
          257,
          5,
          7,
          8,
          194,
          2,
          19,
          23,
          4,
          12,
          1,
          37,
          25,
          8,
          153,
          15,
          416,
          47,
          2,
          13,
          4,
          21,
          8,
          10,
          26,
          13,
          5,
          293,
          34,
          208,
          1,
          1,
          8,
          11,
          40,
          18,
          6,
          14,
          26,
          372,
          21,
          1,
          1,
          92,
          12,
          9,
          3,
          20,
          4,
          134,
          2,
          242,
          164,
          4,
          5,
          2,
          1,
          26,
          12,
          87,
          4,
          304,
          5,
          8,
          8,
          4,
          69,
          45,
          4,
          88,
          44,
          90,
          724,
          52,
          46,
          63,
          3,
          82,
          136,
          5,
          2,
          540,
          35,
          2,
          27,
          1,
          3512,
          62,
          58,
          318,
          47,
          1,
          346,
          35,
          46,
          9,
          1027,
          130,
          19,
          555,
          48,
          6,
          35,
          1725,
          71,
          42,
          110,
          79,
          194,
          11,
          40,
          487,
          45,
          60,
          3,
          249,
          21,
          21,
          292,
          222,
          324,
          99,
          207,
          50,
          35,
          47,
          739,
          3,
          13,
          86,
          59,
          1,
          102,
          74,
          18,
          31,
          95,
          9,
          310,
          106,
          4,
          6,
          16,
          104,
          8,
          25,
          4,
          2,
          52,
          8,
          29,
          177,
          60,
          142,
          17,
          44,
          142,
          6,
          245,
          3,
          10,
          3,
          53,
          7,
          621,
          1,
          121,
          2,
          25,
          5,
          12,
          53,
          1,
          4,
          312,
          43,
          1,
          1,
          12,
          49,
          98,
          3,
          90,
          10,
          2,
          51,
          30,
          1,
          33,
          5,
          35,
          173,
          17,
          235,
          1,
          18,
          79,
          129,
          13,
          29,
          5,
          9,
          88,
          11,
          1,
          50,
          57,
          149,
          65,
          1,
          84,
          100,
          71,
          14,
          5,
          212,
          1,
          14,
          13,
          29,
          20,
          164,
          5,
          132,
          105,
          30,
          6,
          6,
          197,
          1,
          79,
          1,
          2,
          2,
          62,
          8,
          75,
          49,
          4,
          2,
          504,
          8,
          6,
          1,
          31,
          4,
          15,
          49,
          68,
          50,
          2,
          5,
          22,
          24,
          2,
          3,
          68,
          194,
          5,
          17,
          1,
          19,
          3,
          7,
          6,
          14,
          21,
          4,
          3,
          2,
          11,
          146,
          224,
          23,
          11,
          2,
          51,
          170,
          2,
          7,
          1,
          3,
          156,
          57,
          212,
          711,
          46,
          5,
          40,
          120,
          2,
          27,
          108,
          394,
          1,
          100,
          7,
          15,
          12,
          4,
          2,
          2,
          1,
          29,
          234,
          42,
          1,
          31,
          6,
          29,
          2,
          3,
          60,
          2,
          5,
          5,
          13,
          2,
          68,
          145,
          1,
          1,
          252,
          75,
          192,
          2,
          1,
          1,
          202,
          4,
          3,
          1,
          160,
          66,
          44,
          88,
          12,
          23,
          315,
          98,
          3,
          72,
          72,
          1,
          290,
          3,
          118,
          90,
          61,
          258,
          119,
          118,
          121,
          227,
          39,
          59,
          4,
          42,
          6,
          1,
          157,
          523,
          117,
          182,
          20,
          5,
          158,
          17,
          3,
          207,
          42,
          1,
          82,
          2,
          283,
          5,
          128,
          4,
          1,
          252,
          2,
          2,
          578,
          108,
          1,
          1,
          21,
          1,
          226,
          1,
          90,
          632,
          65,
          2,
          3,
          6,
          428,
          3,
          79,
          256,
          1,
          56,
          45,
          1,
          6,
          12,
          5,
          24,
          18,
          229,
          589,
          1,
          66,
          137,
          3,
          4,
          50,
          1,
          6,
          12,
          336,
          464,
          1,
          67,
          72,
          88,
          107,
          6,
          1,
          142,
          4,
          2,
          34,
          18,
          99,
          66,
          2,
          56,
          135,
          117,
          4,
          2,
          1,
          519,
          1,
          43,
          23,
          986,
          18,
          82,
          125,
          5178,
          11,
          8,
          302,
          2,
          1,
          4,
          2,
          42,
          1,
          118,
          2,
          1,
          12,
          52,
          5,
          3,
          1,
          2,
          8,
          1,
          248,
          145,
          120,
          106,
          2,
          147,
          1,
          100,
          1,
          58,
          28,
          40,
          3,
          2,
          3,
          5,
          108,
          3,
          151,
          199,
          40,
          137,
          11,
          59,
          1,
          74,
          148,
          7,
          1,
          427,
          6,
          2,
          1407,
          168,
          545,
          114,
          1,
          1,
          2,
          1,
          1,
          1,
          1,
          230,
          33,
          1,
          9,
          153,
          394,
          36,
          16,
          82,
          4,
          6,
          5,
          4,
          1,
          18,
          102,
          1,
          3,
          1,
          4,
          90,
          478,
          1,
          266,
          2,
          13,
          1,
          2,
          3,
          74,
          1,
          220,
          8,
          140,
          1,
          2,
          321,
          1,
          1,
          535,
          55,
          21,
          83,
          208,
          17,
          1708,
          1,
          3,
          606,
          114,
          8,
          183,
          2244,
          111,
          47,
          729,
          56,
          1,
          1294,
          61,
          368,
          98,
          11,
          2,
          19,
          200,
          40,
          22,
          33,
          87,
          42,
          198,
          5,
          27,
          2,
          263,
          135,
          2,
          5,
          1,
          1,
          4,
          154,
          1,
          257,
          2,
          21,
          8,
          25,
          2,
          65,
          123,
          1,
          68,
          1,
          2,
          14,
          265,
          1,
          3,
          46,
          233,
          1,
          48,
          2,
          151,
          387,
          1,
          274,
          1,
          33,
          1,
          173,
          517,
          1,
          6,
          1,
          206,
          1,
          171,
          29,
          1,
          222,
          115,
          283,
          2,
          1,
          1,
          245,
          1,
          4,
          35,
          27,
          2,
          265,
          8,
          1,
          1,
          332,
          196,
          5,
          1,
          131,
          27,
          515,
          28,
          9,
          44,
          1,
          14,
          57,
          5,
          2,
          22,
          4,
          1,
          1,
          1,
          1,
          1,
          1,
          1,
          1,
          1,
          1,
          1,
          1,
          1,
          1,
          1,
          1,
          1,
          1,
          3,
          1,
          1,
          1,
          1,
          1,
          1,
          2,
          2,
          1,
          1,
          1
         ],
         "yaxis": "y"
        }
       ],
       "layout": {
        "barmode": "relative",
        "coloraxis": {
         "colorbar": {
          "title": {
           "text": "Quantidade de Acidentes"
          }
         },
         "colorscale": [
          [
           0,
           "#0d0887"
          ],
          [
           0.1111111111111111,
           "#46039f"
          ],
          [
           0.2222222222222222,
           "#7201a8"
          ],
          [
           0.3333333333333333,
           "#9c179e"
          ],
          [
           0.4444444444444444,
           "#bd3786"
          ],
          [
           0.5555555555555556,
           "#d8576b"
          ],
          [
           0.6666666666666666,
           "#ed7953"
          ],
          [
           0.7777777777777778,
           "#fb9f3a"
          ],
          [
           0.8888888888888888,
           "#fdca26"
          ],
          [
           1,
           "#f0f921"
          ]
         ]
        },
        "legend": {
         "tracegroupgap": 0
        },
        "margin": {
         "t": 60
        },
        "template": {
         "data": {
          "bar": [
           {
            "error_x": {
             "color": "#2a3f5f"
            },
            "error_y": {
             "color": "#2a3f5f"
            },
            "marker": {
             "line": {
              "color": "#E5ECF6",
              "width": 0.5
             },
             "pattern": {
              "fillmode": "overlay",
              "size": 10,
              "solidity": 0.2
             }
            },
            "type": "bar"
           }
          ],
          "barpolar": [
           {
            "marker": {
             "line": {
              "color": "#E5ECF6",
              "width": 0.5
             },
             "pattern": {
              "fillmode": "overlay",
              "size": 10,
              "solidity": 0.2
             }
            },
            "type": "barpolar"
           }
          ],
          "carpet": [
           {
            "aaxis": {
             "endlinecolor": "#2a3f5f",
             "gridcolor": "white",
             "linecolor": "white",
             "minorgridcolor": "white",
             "startlinecolor": "#2a3f5f"
            },
            "baxis": {
             "endlinecolor": "#2a3f5f",
             "gridcolor": "white",
             "linecolor": "white",
             "minorgridcolor": "white",
             "startlinecolor": "#2a3f5f"
            },
            "type": "carpet"
           }
          ],
          "choropleth": [
           {
            "colorbar": {
             "outlinewidth": 0,
             "ticks": ""
            },
            "type": "choropleth"
           }
          ],
          "contour": [
           {
            "colorbar": {
             "outlinewidth": 0,
             "ticks": ""
            },
            "colorscale": [
             [
              0,
              "#0d0887"
             ],
             [
              0.1111111111111111,
              "#46039f"
             ],
             [
              0.2222222222222222,
              "#7201a8"
             ],
             [
              0.3333333333333333,
              "#9c179e"
             ],
             [
              0.4444444444444444,
              "#bd3786"
             ],
             [
              0.5555555555555556,
              "#d8576b"
             ],
             [
              0.6666666666666666,
              "#ed7953"
             ],
             [
              0.7777777777777778,
              "#fb9f3a"
             ],
             [
              0.8888888888888888,
              "#fdca26"
             ],
             [
              1,
              "#f0f921"
             ]
            ],
            "type": "contour"
           }
          ],
          "contourcarpet": [
           {
            "colorbar": {
             "outlinewidth": 0,
             "ticks": ""
            },
            "type": "contourcarpet"
           }
          ],
          "heatmap": [
           {
            "colorbar": {
             "outlinewidth": 0,
             "ticks": ""
            },
            "colorscale": [
             [
              0,
              "#0d0887"
             ],
             [
              0.1111111111111111,
              "#46039f"
             ],
             [
              0.2222222222222222,
              "#7201a8"
             ],
             [
              0.3333333333333333,
              "#9c179e"
             ],
             [
              0.4444444444444444,
              "#bd3786"
             ],
             [
              0.5555555555555556,
              "#d8576b"
             ],
             [
              0.6666666666666666,
              "#ed7953"
             ],
             [
              0.7777777777777778,
              "#fb9f3a"
             ],
             [
              0.8888888888888888,
              "#fdca26"
             ],
             [
              1,
              "#f0f921"
             ]
            ],
            "type": "heatmap"
           }
          ],
          "heatmapgl": [
           {
            "colorbar": {
             "outlinewidth": 0,
             "ticks": ""
            },
            "colorscale": [
             [
              0,
              "#0d0887"
             ],
             [
              0.1111111111111111,
              "#46039f"
             ],
             [
              0.2222222222222222,
              "#7201a8"
             ],
             [
              0.3333333333333333,
              "#9c179e"
             ],
             [
              0.4444444444444444,
              "#bd3786"
             ],
             [
              0.5555555555555556,
              "#d8576b"
             ],
             [
              0.6666666666666666,
              "#ed7953"
             ],
             [
              0.7777777777777778,
              "#fb9f3a"
             ],
             [
              0.8888888888888888,
              "#fdca26"
             ],
             [
              1,
              "#f0f921"
             ]
            ],
            "type": "heatmapgl"
           }
          ],
          "histogram": [
           {
            "marker": {
             "pattern": {
              "fillmode": "overlay",
              "size": 10,
              "solidity": 0.2
             }
            },
            "type": "histogram"
           }
          ],
          "histogram2d": [
           {
            "colorbar": {
             "outlinewidth": 0,
             "ticks": ""
            },
            "colorscale": [
             [
              0,
              "#0d0887"
             ],
             [
              0.1111111111111111,
              "#46039f"
             ],
             [
              0.2222222222222222,
              "#7201a8"
             ],
             [
              0.3333333333333333,
              "#9c179e"
             ],
             [
              0.4444444444444444,
              "#bd3786"
             ],
             [
              0.5555555555555556,
              "#d8576b"
             ],
             [
              0.6666666666666666,
              "#ed7953"
             ],
             [
              0.7777777777777778,
              "#fb9f3a"
             ],
             [
              0.8888888888888888,
              "#fdca26"
             ],
             [
              1,
              "#f0f921"
             ]
            ],
            "type": "histogram2d"
           }
          ],
          "histogram2dcontour": [
           {
            "colorbar": {
             "outlinewidth": 0,
             "ticks": ""
            },
            "colorscale": [
             [
              0,
              "#0d0887"
             ],
             [
              0.1111111111111111,
              "#46039f"
             ],
             [
              0.2222222222222222,
              "#7201a8"
             ],
             [
              0.3333333333333333,
              "#9c179e"
             ],
             [
              0.4444444444444444,
              "#bd3786"
             ],
             [
              0.5555555555555556,
              "#d8576b"
             ],
             [
              0.6666666666666666,
              "#ed7953"
             ],
             [
              0.7777777777777778,
              "#fb9f3a"
             ],
             [
              0.8888888888888888,
              "#fdca26"
             ],
             [
              1,
              "#f0f921"
             ]
            ],
            "type": "histogram2dcontour"
           }
          ],
          "mesh3d": [
           {
            "colorbar": {
             "outlinewidth": 0,
             "ticks": ""
            },
            "type": "mesh3d"
           }
          ],
          "parcoords": [
           {
            "line": {
             "colorbar": {
              "outlinewidth": 0,
              "ticks": ""
             }
            },
            "type": "parcoords"
           }
          ],
          "pie": [
           {
            "automargin": true,
            "type": "pie"
           }
          ],
          "scatter": [
           {
            "fillpattern": {
             "fillmode": "overlay",
             "size": 10,
             "solidity": 0.2
            },
            "type": "scatter"
           }
          ],
          "scatter3d": [
           {
            "line": {
             "colorbar": {
              "outlinewidth": 0,
              "ticks": ""
             }
            },
            "marker": {
             "colorbar": {
              "outlinewidth": 0,
              "ticks": ""
             }
            },
            "type": "scatter3d"
           }
          ],
          "scattercarpet": [
           {
            "marker": {
             "colorbar": {
              "outlinewidth": 0,
              "ticks": ""
             }
            },
            "type": "scattercarpet"
           }
          ],
          "scattergeo": [
           {
            "marker": {
             "colorbar": {
              "outlinewidth": 0,
              "ticks": ""
             }
            },
            "type": "scattergeo"
           }
          ],
          "scattergl": [
           {
            "marker": {
             "colorbar": {
              "outlinewidth": 0,
              "ticks": ""
             }
            },
            "type": "scattergl"
           }
          ],
          "scattermapbox": [
           {
            "marker": {
             "colorbar": {
              "outlinewidth": 0,
              "ticks": ""
             }
            },
            "type": "scattermapbox"
           }
          ],
          "scatterpolar": [
           {
            "marker": {
             "colorbar": {
              "outlinewidth": 0,
              "ticks": ""
             }
            },
            "type": "scatterpolar"
           }
          ],
          "scatterpolargl": [
           {
            "marker": {
             "colorbar": {
              "outlinewidth": 0,
              "ticks": ""
             }
            },
            "type": "scatterpolargl"
           }
          ],
          "scatterternary": [
           {
            "marker": {
             "colorbar": {
              "outlinewidth": 0,
              "ticks": ""
             }
            },
            "type": "scatterternary"
           }
          ],
          "surface": [
           {
            "colorbar": {
             "outlinewidth": 0,
             "ticks": ""
            },
            "colorscale": [
             [
              0,
              "#0d0887"
             ],
             [
              0.1111111111111111,
              "#46039f"
             ],
             [
              0.2222222222222222,
              "#7201a8"
             ],
             [
              0.3333333333333333,
              "#9c179e"
             ],
             [
              0.4444444444444444,
              "#bd3786"
             ],
             [
              0.5555555555555556,
              "#d8576b"
             ],
             [
              0.6666666666666666,
              "#ed7953"
             ],
             [
              0.7777777777777778,
              "#fb9f3a"
             ],
             [
              0.8888888888888888,
              "#fdca26"
             ],
             [
              1,
              "#f0f921"
             ]
            ],
            "type": "surface"
           }
          ],
          "table": [
           {
            "cells": {
             "fill": {
              "color": "#EBF0F8"
             },
             "line": {
              "color": "white"
             }
            },
            "header": {
             "fill": {
              "color": "#C8D4E3"
             },
             "line": {
              "color": "white"
             }
            },
            "type": "table"
           }
          ]
         },
         "layout": {
          "annotationdefaults": {
           "arrowcolor": "#2a3f5f",
           "arrowhead": 0,
           "arrowwidth": 1
          },
          "autotypenumbers": "strict",
          "coloraxis": {
           "colorbar": {
            "outlinewidth": 0,
            "ticks": ""
           }
          },
          "colorscale": {
           "diverging": [
            [
             0,
             "#8e0152"
            ],
            [
             0.1,
             "#c51b7d"
            ],
            [
             0.2,
             "#de77ae"
            ],
            [
             0.3,
             "#f1b6da"
            ],
            [
             0.4,
             "#fde0ef"
            ],
            [
             0.5,
             "#f7f7f7"
            ],
            [
             0.6,
             "#e6f5d0"
            ],
            [
             0.7,
             "#b8e186"
            ],
            [
             0.8,
             "#7fbc41"
            ],
            [
             0.9,
             "#4d9221"
            ],
            [
             1,
             "#276419"
            ]
           ],
           "sequential": [
            [
             0,
             "#0d0887"
            ],
            [
             0.1111111111111111,
             "#46039f"
            ],
            [
             0.2222222222222222,
             "#7201a8"
            ],
            [
             0.3333333333333333,
             "#9c179e"
            ],
            [
             0.4444444444444444,
             "#bd3786"
            ],
            [
             0.5555555555555556,
             "#d8576b"
            ],
            [
             0.6666666666666666,
             "#ed7953"
            ],
            [
             0.7777777777777778,
             "#fb9f3a"
            ],
            [
             0.8888888888888888,
             "#fdca26"
            ],
            [
             1,
             "#f0f921"
            ]
           ],
           "sequentialminus": [
            [
             0,
             "#0d0887"
            ],
            [
             0.1111111111111111,
             "#46039f"
            ],
            [
             0.2222222222222222,
             "#7201a8"
            ],
            [
             0.3333333333333333,
             "#9c179e"
            ],
            [
             0.4444444444444444,
             "#bd3786"
            ],
            [
             0.5555555555555556,
             "#d8576b"
            ],
            [
             0.6666666666666666,
             "#ed7953"
            ],
            [
             0.7777777777777778,
             "#fb9f3a"
            ],
            [
             0.8888888888888888,
             "#fdca26"
            ],
            [
             1,
             "#f0f921"
            ]
           ]
          },
          "colorway": [
           "#636efa",
           "#EF553B",
           "#00cc96",
           "#ab63fa",
           "#FFA15A",
           "#19d3f3",
           "#FF6692",
           "#B6E880",
           "#FF97FF",
           "#FECB52"
          ],
          "font": {
           "color": "#2a3f5f"
          },
          "geo": {
           "bgcolor": "white",
           "lakecolor": "white",
           "landcolor": "#E5ECF6",
           "showlakes": true,
           "showland": true,
           "subunitcolor": "white"
          },
          "hoverlabel": {
           "align": "left"
          },
          "hovermode": "closest",
          "mapbox": {
           "style": "light"
          },
          "paper_bgcolor": "white",
          "plot_bgcolor": "#E5ECF6",
          "polar": {
           "angularaxis": {
            "gridcolor": "white",
            "linecolor": "white",
            "ticks": ""
           },
           "bgcolor": "#E5ECF6",
           "radialaxis": {
            "gridcolor": "white",
            "linecolor": "white",
            "ticks": ""
           }
          },
          "scene": {
           "xaxis": {
            "backgroundcolor": "#E5ECF6",
            "gridcolor": "white",
            "gridwidth": 2,
            "linecolor": "white",
            "showbackground": true,
            "ticks": "",
            "zerolinecolor": "white"
           },
           "yaxis": {
            "backgroundcolor": "#E5ECF6",
            "gridcolor": "white",
            "gridwidth": 2,
            "linecolor": "white",
            "showbackground": true,
            "ticks": "",
            "zerolinecolor": "white"
           },
           "zaxis": {
            "backgroundcolor": "#E5ECF6",
            "gridcolor": "white",
            "gridwidth": 2,
            "linecolor": "white",
            "showbackground": true,
            "ticks": "",
            "zerolinecolor": "white"
           }
          },
          "shapedefaults": {
           "line": {
            "color": "#2a3f5f"
           }
          },
          "ternary": {
           "aaxis": {
            "gridcolor": "white",
            "linecolor": "white",
            "ticks": ""
           },
           "baxis": {
            "gridcolor": "white",
            "linecolor": "white",
            "ticks": ""
           },
           "bgcolor": "#E5ECF6",
           "caxis": {
            "gridcolor": "white",
            "linecolor": "white",
            "ticks": ""
           }
          },
          "title": {
           "x": 0.05
          },
          "xaxis": {
           "automargin": true,
           "gridcolor": "white",
           "linecolor": "white",
           "ticks": "",
           "title": {
            "standoff": 15
           },
           "zerolinecolor": "white",
           "zerolinewidth": 2
          },
          "yaxis": {
           "automargin": true,
           "gridcolor": "white",
           "linecolor": "white",
           "ticks": "",
           "title": {
            "standoff": 15
           },
           "zerolinecolor": "white",
           "zerolinewidth": 2
          }
         }
        },
        "xaxis": {
         "anchor": "y",
         "domain": [
          0,
          1
         ],
         "title": {
          "text": "Cidade"
         }
        },
        "yaxis": {
         "anchor": "x",
         "domain": [
          0,
          1
         ],
         "title": {
          "text": "Quantidade de Acidentes"
         }
        }
       }
      }
     },
     "metadata": {},
     "output_type": "display_data"
    }
   ],
   "source": [
    "# análise gráfica interativa\n",
    "fig = px.bar(acidente_regiao, x = 'City', y = 'Qtd', hover_data = ['Severity'], labels= {'City': 'Cidade', 'Qtd':  'Quantidade de Acidentes'}, color = 'Qtd')\n",
    "fig.show()\n"
   ]
  },
  {
   "cell_type": "markdown",
   "metadata": {},
   "source": [
    "Análise da Severidade do Acidente Versus Região Versus Horário do Dia"
   ]
  },
  {
   "cell_type": "code",
   "execution_count": 33,
   "metadata": {},
   "outputs": [
    {
     "data": {
      "text/html": [
       "<div>\n",
       "<style scoped>\n",
       "    .dataframe tbody tr th:only-of-type {\n",
       "        vertical-align: middle;\n",
       "    }\n",
       "\n",
       "    .dataframe tbody tr th {\n",
       "        vertical-align: top;\n",
       "    }\n",
       "\n",
       "    .dataframe thead th {\n",
       "        text-align: right;\n",
       "    }\n",
       "</style>\n",
       "<table border=\"1\" class=\"dataframe\">\n",
       "  <thead>\n",
       "    <tr style=\"text-align: right;\">\n",
       "      <th></th>\n",
       "      <th>Severity</th>\n",
       "      <th>City</th>\n",
       "      <th>Sunrise_Sunset</th>\n",
       "      <th>Qtd</th>\n",
       "    </tr>\n",
       "  </thead>\n",
       "  <tbody>\n",
       "    <tr>\n",
       "      <th>0</th>\n",
       "      <td>1</td>\n",
       "      <td>Alpine</td>\n",
       "      <td>Day</td>\n",
       "      <td>1</td>\n",
       "    </tr>\n",
       "    <tr>\n",
       "      <th>1</th>\n",
       "      <td>1</td>\n",
       "      <td>American Canyon</td>\n",
       "      <td>Day</td>\n",
       "      <td>1</td>\n",
       "    </tr>\n",
       "    <tr>\n",
       "      <th>2</th>\n",
       "      <td>1</td>\n",
       "      <td>Bellflower</td>\n",
       "      <td>Day</td>\n",
       "      <td>1</td>\n",
       "    </tr>\n",
       "    <tr>\n",
       "      <th>3</th>\n",
       "      <td>1</td>\n",
       "      <td>Cambridge</td>\n",
       "      <td>Day</td>\n",
       "      <td>1</td>\n",
       "    </tr>\n",
       "    <tr>\n",
       "      <th>4</th>\n",
       "      <td>1</td>\n",
       "      <td>Canyon Country</td>\n",
       "      <td>Night</td>\n",
       "      <td>1</td>\n",
       "    </tr>\n",
       "    <tr>\n",
       "      <th>...</th>\n",
       "      <td>...</td>\n",
       "      <td>...</td>\n",
       "      <td>...</td>\n",
       "      <td>...</td>\n",
       "    </tr>\n",
       "    <tr>\n",
       "      <th>2182</th>\n",
       "      <td>4</td>\n",
       "      <td>San Jose</td>\n",
       "      <td>Day</td>\n",
       "      <td>1</td>\n",
       "    </tr>\n",
       "    <tr>\n",
       "      <th>2183</th>\n",
       "      <td>4</td>\n",
       "      <td>San Jose</td>\n",
       "      <td>Night</td>\n",
       "      <td>1</td>\n",
       "    </tr>\n",
       "    <tr>\n",
       "      <th>2184</th>\n",
       "      <td>4</td>\n",
       "      <td>San Leandro</td>\n",
       "      <td>Day</td>\n",
       "      <td>1</td>\n",
       "    </tr>\n",
       "    <tr>\n",
       "      <th>2185</th>\n",
       "      <td>4</td>\n",
       "      <td>Santa Ana</td>\n",
       "      <td>Night</td>\n",
       "      <td>1</td>\n",
       "    </tr>\n",
       "    <tr>\n",
       "      <th>2186</th>\n",
       "      <td>4</td>\n",
       "      <td>Sylmar</td>\n",
       "      <td>Day</td>\n",
       "      <td>1</td>\n",
       "    </tr>\n",
       "  </tbody>\n",
       "</table>\n",
       "<p>2187 rows × 4 columns</p>\n",
       "</div>"
      ],
      "text/plain": [
       "      Severity             City Sunrise_Sunset  Qtd\n",
       "0            1           Alpine            Day    1\n",
       "1            1  American Canyon            Day    1\n",
       "2            1       Bellflower            Day    1\n",
       "3            1        Cambridge            Day    1\n",
       "4            1   Canyon Country          Night    1\n",
       "...        ...              ...            ...  ...\n",
       "2182         4         San Jose            Day    1\n",
       "2183         4         San Jose          Night    1\n",
       "2184         4      San Leandro            Day    1\n",
       "2185         4        Santa Ana          Night    1\n",
       "2186         4           Sylmar            Day    1\n",
       "\n",
       "[2187 rows x 4 columns]"
      ]
     },
     "execution_count": 33,
     "metadata": {},
     "output_type": "execute_result"
    }
   ],
   "source": [
    "# análise de severidade do acidente versus região versus horário do dia (manhã/noite)\n",
    "acidente_sunrise = acidentes.groupby(['Severity', 'City', 'Sunrise_Sunset'])['Severity'].count().reset_index(name='Qtd')\n",
    "acidente_sunrise\n",
    "\n"
   ]
  },
  {
   "cell_type": "code",
   "execution_count": 39,
   "metadata": {},
   "outputs": [
    {
     "data": {
      "application/vnd.plotly.v1+json": {
       "config": {
        "plotlyServerURL": "https://plot.ly"
       },
       "data": [
        {
         "customdata": [
          [
           1
          ],
          [
           1
          ],
          [
           1
          ],
          [
           1
          ],
          [
           1
          ],
          [
           1
          ],
          [
           1
          ],
          [
           1
          ],
          [
           1
          ],
          [
           1
          ],
          [
           1
          ],
          [
           1
          ],
          [
           1
          ],
          [
           1
          ],
          [
           1
          ],
          [
           1
          ],
          [
           1
          ],
          [
           1
          ],
          [
           1
          ],
          [
           1
          ],
          [
           1
          ],
          [
           1
          ],
          [
           1
          ],
          [
           1
          ],
          [
           1
          ],
          [
           1
          ],
          [
           1
          ],
          [
           1
          ],
          [
           1
          ],
          [
           1
          ],
          [
           1
          ],
          [
           1
          ],
          [
           1
          ],
          [
           1
          ],
          [
           1
          ],
          [
           1
          ],
          [
           1
          ],
          [
           1
          ],
          [
           1
          ],
          [
           1
          ],
          [
           1
          ],
          [
           1
          ],
          [
           1
          ],
          [
           1
          ],
          [
           1
          ],
          [
           1
          ],
          [
           1
          ],
          [
           1
          ],
          [
           1
          ],
          [
           1
          ],
          [
           1
          ],
          [
           1
          ],
          [
           1
          ],
          [
           1
          ],
          [
           1
          ],
          [
           1
          ],
          [
           1
          ],
          [
           1
          ],
          [
           1
          ],
          [
           1
          ],
          [
           1
          ],
          [
           1
          ],
          [
           1
          ],
          [
           1
          ],
          [
           1
          ],
          [
           1
          ],
          [
           1
          ],
          [
           1
          ],
          [
           1
          ],
          [
           1
          ],
          [
           1
          ],
          [
           1
          ],
          [
           1
          ],
          [
           1
          ],
          [
           1
          ],
          [
           1
          ],
          [
           1
          ],
          [
           1
          ],
          [
           1
          ],
          [
           1
          ],
          [
           1
          ],
          [
           1
          ],
          [
           2
          ],
          [
           2
          ],
          [
           2
          ],
          [
           2
          ],
          [
           2
          ],
          [
           2
          ],
          [
           2
          ],
          [
           2
          ],
          [
           2
          ],
          [
           2
          ],
          [
           2
          ],
          [
           2
          ],
          [
           2
          ],
          [
           2
          ],
          [
           2
          ],
          [
           2
          ],
          [
           2
          ],
          [
           2
          ],
          [
           2
          ],
          [
           2
          ],
          [
           2
          ],
          [
           2
          ],
          [
           2
          ],
          [
           2
          ],
          [
           2
          ],
          [
           2
          ],
          [
           2
          ],
          [
           2
          ],
          [
           2
          ],
          [
           2
          ],
          [
           2
          ],
          [
           2
          ],
          [
           2
          ],
          [
           2
          ],
          [
           2
          ],
          [
           2
          ],
          [
           2
          ],
          [
           2
          ],
          [
           2
          ],
          [
           2
          ],
          [
           2
          ],
          [
           2
          ],
          [
           2
          ],
          [
           2
          ],
          [
           2
          ],
          [
           2
          ],
          [
           2
          ],
          [
           2
          ],
          [
           2
          ],
          [
           2
          ],
          [
           2
          ],
          [
           2
          ],
          [
           2
          ],
          [
           2
          ],
          [
           2
          ],
          [
           2
          ],
          [
           2
          ],
          [
           2
          ],
          [
           2
          ],
          [
           2
          ],
          [
           2
          ],
          [
           2
          ],
          [
           2
          ],
          [
           2
          ],
          [
           2
          ],
          [
           2
          ],
          [
           2
          ],
          [
           2
          ],
          [
           2
          ],
          [
           2
          ],
          [
           2
          ],
          [
           2
          ],
          [
           2
          ],
          [
           2
          ],
          [
           2
          ],
          [
           2
          ],
          [
           2
          ],
          [
           2
          ],
          [
           2
          ],
          [
           2
          ],
          [
           2
          ],
          [
           2
          ],
          [
           2
          ],
          [
           2
          ],
          [
           2
          ],
          [
           2
          ],
          [
           2
          ],
          [
           2
          ],
          [
           2
          ],
          [
           2
          ],
          [
           2
          ],
          [
           2
          ],
          [
           2
          ],
          [
           2
          ],
          [
           2
          ],
          [
           2
          ],
          [
           2
          ],
          [
           2
          ],
          [
           2
          ],
          [
           2
          ],
          [
           2
          ],
          [
           2
          ],
          [
           2
          ],
          [
           2
          ],
          [
           2
          ],
          [
           2
          ],
          [
           2
          ],
          [
           2
          ],
          [
           2
          ],
          [
           2
          ],
          [
           2
          ],
          [
           2
          ],
          [
           2
          ],
          [
           2
          ],
          [
           2
          ],
          [
           2
          ],
          [
           2
          ],
          [
           2
          ],
          [
           2
          ],
          [
           2
          ],
          [
           2
          ],
          [
           2
          ],
          [
           2
          ],
          [
           2
          ],
          [
           2
          ],
          [
           2
          ],
          [
           2
          ],
          [
           2
          ],
          [
           2
          ],
          [
           2
          ],
          [
           2
          ],
          [
           2
          ],
          [
           2
          ],
          [
           2
          ],
          [
           2
          ],
          [
           2
          ],
          [
           2
          ],
          [
           2
          ],
          [
           2
          ],
          [
           2
          ],
          [
           2
          ],
          [
           2
          ],
          [
           2
          ],
          [
           2
          ],
          [
           2
          ],
          [
           2
          ],
          [
           2
          ],
          [
           2
          ],
          [
           2
          ],
          [
           2
          ],
          [
           2
          ],
          [
           2
          ],
          [
           2
          ],
          [
           2
          ],
          [
           2
          ],
          [
           2
          ],
          [
           2
          ],
          [
           2
          ],
          [
           2
          ],
          [
           2
          ],
          [
           2
          ],
          [
           2
          ],
          [
           2
          ],
          [
           2
          ],
          [
           2
          ],
          [
           2
          ],
          [
           2
          ],
          [
           2
          ],
          [
           2
          ],
          [
           2
          ],
          [
           2
          ],
          [
           2
          ],
          [
           2
          ],
          [
           2
          ],
          [
           2
          ],
          [
           2
          ],
          [
           2
          ],
          [
           2
          ],
          [
           2
          ],
          [
           2
          ],
          [
           2
          ],
          [
           2
          ],
          [
           2
          ],
          [
           2
          ],
          [
           2
          ],
          [
           2
          ],
          [
           2
          ],
          [
           2
          ],
          [
           2
          ],
          [
           2
          ],
          [
           2
          ],
          [
           2
          ],
          [
           2
          ],
          [
           2
          ],
          [
           2
          ],
          [
           2
          ],
          [
           2
          ],
          [
           2
          ],
          [
           2
          ],
          [
           2
          ],
          [
           2
          ],
          [
           2
          ],
          [
           2
          ],
          [
           2
          ],
          [
           2
          ],
          [
           2
          ],
          [
           2
          ],
          [
           2
          ],
          [
           2
          ],
          [
           2
          ],
          [
           2
          ],
          [
           2
          ],
          [
           2
          ],
          [
           2
          ],
          [
           2
          ],
          [
           2
          ],
          [
           2
          ],
          [
           2
          ],
          [
           2
          ],
          [
           2
          ],
          [
           2
          ],
          [
           2
          ],
          [
           2
          ],
          [
           2
          ],
          [
           2
          ],
          [
           2
          ],
          [
           2
          ],
          [
           2
          ],
          [
           2
          ],
          [
           2
          ],
          [
           2
          ],
          [
           2
          ],
          [
           2
          ],
          [
           2
          ],
          [
           2
          ],
          [
           2
          ],
          [
           2
          ],
          [
           2
          ],
          [
           2
          ],
          [
           2
          ],
          [
           2
          ],
          [
           2
          ],
          [
           2
          ],
          [
           2
          ],
          [
           2
          ],
          [
           2
          ],
          [
           2
          ],
          [
           2
          ],
          [
           2
          ],
          [
           2
          ],
          [
           2
          ],
          [
           2
          ],
          [
           2
          ],
          [
           2
          ],
          [
           2
          ],
          [
           2
          ],
          [
           2
          ],
          [
           2
          ],
          [
           2
          ],
          [
           2
          ],
          [
           2
          ],
          [
           2
          ],
          [
           2
          ],
          [
           2
          ],
          [
           2
          ],
          [
           2
          ],
          [
           2
          ],
          [
           2
          ],
          [
           2
          ],
          [
           2
          ],
          [
           2
          ],
          [
           2
          ],
          [
           2
          ],
          [
           2
          ],
          [
           2
          ],
          [
           2
          ],
          [
           2
          ],
          [
           2
          ],
          [
           2
          ],
          [
           2
          ],
          [
           2
          ],
          [
           2
          ],
          [
           2
          ],
          [
           2
          ],
          [
           2
          ],
          [
           2
          ],
          [
           2
          ],
          [
           2
          ],
          [
           2
          ],
          [
           2
          ],
          [
           2
          ],
          [
           2
          ],
          [
           2
          ],
          [
           2
          ],
          [
           2
          ],
          [
           2
          ],
          [
           2
          ],
          [
           2
          ],
          [
           2
          ],
          [
           2
          ],
          [
           2
          ],
          [
           2
          ],
          [
           2
          ],
          [
           2
          ],
          [
           2
          ],
          [
           2
          ],
          [
           2
          ],
          [
           2
          ],
          [
           2
          ],
          [
           2
          ],
          [
           2
          ],
          [
           2
          ],
          [
           2
          ],
          [
           2
          ],
          [
           2
          ],
          [
           2
          ],
          [
           2
          ],
          [
           2
          ],
          [
           2
          ],
          [
           2
          ],
          [
           2
          ],
          [
           2
          ],
          [
           2
          ],
          [
           2
          ],
          [
           2
          ],
          [
           2
          ],
          [
           2
          ],
          [
           2
          ],
          [
           2
          ],
          [
           2
          ],
          [
           2
          ],
          [
           2
          ],
          [
           2
          ],
          [
           2
          ],
          [
           2
          ],
          [
           2
          ],
          [
           2
          ],
          [
           2
          ],
          [
           2
          ],
          [
           2
          ],
          [
           2
          ],
          [
           2
          ],
          [
           2
          ],
          [
           2
          ],
          [
           2
          ],
          [
           2
          ],
          [
           2
          ],
          [
           2
          ],
          [
           2
          ],
          [
           2
          ],
          [
           2
          ],
          [
           2
          ],
          [
           2
          ],
          [
           2
          ],
          [
           2
          ],
          [
           2
          ],
          [
           2
          ],
          [
           2
          ],
          [
           2
          ],
          [
           2
          ],
          [
           2
          ],
          [
           2
          ],
          [
           2
          ],
          [
           2
          ],
          [
           2
          ],
          [
           2
          ],
          [
           2
          ],
          [
           2
          ],
          [
           2
          ],
          [
           2
          ],
          [
           2
          ],
          [
           2
          ],
          [
           2
          ],
          [
           2
          ],
          [
           2
          ],
          [
           2
          ],
          [
           2
          ],
          [
           2
          ],
          [
           2
          ],
          [
           2
          ],
          [
           2
          ],
          [
           2
          ],
          [
           2
          ],
          [
           2
          ],
          [
           2
          ],
          [
           2
          ],
          [
           2
          ],
          [
           2
          ],
          [
           2
          ],
          [
           2
          ],
          [
           2
          ],
          [
           2
          ],
          [
           2
          ],
          [
           2
          ],
          [
           2
          ],
          [
           2
          ],
          [
           2
          ],
          [
           2
          ],
          [
           2
          ],
          [
           2
          ],
          [
           2
          ],
          [
           2
          ],
          [
           2
          ],
          [
           2
          ],
          [
           2
          ],
          [
           2
          ],
          [
           2
          ],
          [
           2
          ],
          [
           2
          ],
          [
           2
          ],
          [
           2
          ],
          [
           2
          ],
          [
           2
          ],
          [
           2
          ],
          [
           2
          ],
          [
           2
          ],
          [
           2
          ],
          [
           2
          ],
          [
           2
          ],
          [
           2
          ],
          [
           2
          ],
          [
           2
          ],
          [
           2
          ],
          [
           2
          ],
          [
           2
          ],
          [
           2
          ],
          [
           2
          ],
          [
           2
          ],
          [
           2
          ],
          [
           2
          ],
          [
           2
          ],
          [
           2
          ],
          [
           2
          ],
          [
           2
          ],
          [
           2
          ],
          [
           2
          ],
          [
           2
          ],
          [
           2
          ],
          [
           2
          ],
          [
           2
          ],
          [
           2
          ],
          [
           2
          ],
          [
           2
          ],
          [
           2
          ],
          [
           2
          ],
          [
           2
          ],
          [
           2
          ],
          [
           2
          ],
          [
           2
          ],
          [
           2
          ],
          [
           2
          ],
          [
           2
          ],
          [
           2
          ],
          [
           2
          ],
          [
           2
          ],
          [
           2
          ],
          [
           2
          ],
          [
           2
          ],
          [
           2
          ],
          [
           2
          ],
          [
           2
          ],
          [
           2
          ],
          [
           2
          ],
          [
           2
          ],
          [
           2
          ],
          [
           2
          ],
          [
           2
          ],
          [
           2
          ],
          [
           2
          ],
          [
           2
          ],
          [
           2
          ],
          [
           2
          ],
          [
           2
          ],
          [
           2
          ],
          [
           2
          ],
          [
           2
          ],
          [
           2
          ],
          [
           2
          ],
          [
           2
          ],
          [
           2
          ],
          [
           2
          ],
          [
           2
          ],
          [
           2
          ],
          [
           2
          ],
          [
           2
          ],
          [
           2
          ],
          [
           2
          ],
          [
           2
          ],
          [
           2
          ],
          [
           2
          ],
          [
           2
          ],
          [
           2
          ],
          [
           2
          ],
          [
           2
          ],
          [
           2
          ],
          [
           2
          ],
          [
           2
          ],
          [
           2
          ],
          [
           2
          ],
          [
           2
          ],
          [
           2
          ],
          [
           2
          ],
          [
           2
          ],
          [
           2
          ],
          [
           2
          ],
          [
           2
          ],
          [
           2
          ],
          [
           2
          ],
          [
           2
          ],
          [
           2
          ],
          [
           2
          ],
          [
           2
          ],
          [
           2
          ],
          [
           2
          ],
          [
           2
          ],
          [
           2
          ],
          [
           2
          ],
          [
           2
          ],
          [
           2
          ],
          [
           2
          ],
          [
           2
          ],
          [
           2
          ],
          [
           2
          ],
          [
           2
          ],
          [
           2
          ],
          [
           2
          ],
          [
           2
          ],
          [
           2
          ],
          [
           2
          ],
          [
           2
          ],
          [
           2
          ],
          [
           2
          ],
          [
           2
          ],
          [
           2
          ],
          [
           2
          ],
          [
           2
          ],
          [
           2
          ],
          [
           2
          ],
          [
           2
          ],
          [
           2
          ],
          [
           2
          ],
          [
           2
          ],
          [
           2
          ],
          [
           2
          ],
          [
           2
          ],
          [
           2
          ],
          [
           2
          ],
          [
           2
          ],
          [
           2
          ],
          [
           2
          ],
          [
           2
          ],
          [
           2
          ],
          [
           2
          ],
          [
           2
          ],
          [
           2
          ],
          [
           2
          ],
          [
           2
          ],
          [
           2
          ],
          [
           2
          ],
          [
           2
          ],
          [
           2
          ],
          [
           2
          ],
          [
           2
          ],
          [
           2
          ],
          [
           2
          ],
          [
           2
          ],
          [
           2
          ],
          [
           2
          ],
          [
           2
          ],
          [
           2
          ],
          [
           2
          ],
          [
           2
          ],
          [
           2
          ],
          [
           2
          ],
          [
           2
          ],
          [
           2
          ],
          [
           2
          ],
          [
           2
          ],
          [
           2
          ],
          [
           2
          ],
          [
           2
          ],
          [
           2
          ],
          [
           2
          ],
          [
           2
          ],
          [
           2
          ],
          [
           2
          ],
          [
           2
          ],
          [
           2
          ],
          [
           2
          ],
          [
           2
          ],
          [
           2
          ],
          [
           2
          ],
          [
           2
          ],
          [
           2
          ],
          [
           2
          ],
          [
           2
          ],
          [
           2
          ],
          [
           2
          ],
          [
           2
          ],
          [
           2
          ],
          [
           2
          ],
          [
           2
          ],
          [
           2
          ],
          [
           2
          ],
          [
           2
          ],
          [
           2
          ],
          [
           2
          ],
          [
           2
          ],
          [
           2
          ],
          [
           2
          ],
          [
           2
          ],
          [
           2
          ],
          [
           2
          ],
          [
           2
          ],
          [
           2
          ],
          [
           2
          ],
          [
           2
          ],
          [
           2
          ],
          [
           2
          ],
          [
           2
          ],
          [
           2
          ],
          [
           2
          ],
          [
           2
          ],
          [
           2
          ],
          [
           2
          ],
          [
           2
          ],
          [
           2
          ],
          [
           2
          ],
          [
           2
          ],
          [
           2
          ],
          [
           2
          ],
          [
           2
          ],
          [
           2
          ],
          [
           2
          ],
          [
           2
          ],
          [
           2
          ],
          [
           2
          ],
          [
           2
          ],
          [
           2
          ],
          [
           2
          ],
          [
           2
          ],
          [
           2
          ],
          [
           2
          ],
          [
           2
          ],
          [
           2
          ],
          [
           2
          ],
          [
           2
          ],
          [
           2
          ],
          [
           2
          ],
          [
           2
          ],
          [
           2
          ],
          [
           2
          ],
          [
           2
          ],
          [
           2
          ],
          [
           2
          ],
          [
           2
          ],
          [
           2
          ],
          [
           2
          ],
          [
           2
          ],
          [
           2
          ],
          [
           2
          ],
          [
           2
          ],
          [
           2
          ],
          [
           2
          ],
          [
           2
          ],
          [
           2
          ],
          [
           2
          ],
          [
           2
          ],
          [
           2
          ],
          [
           2
          ],
          [
           2
          ],
          [
           2
          ],
          [
           2
          ],
          [
           2
          ],
          [
           2
          ],
          [
           2
          ],
          [
           2
          ],
          [
           2
          ],
          [
           2
          ],
          [
           2
          ],
          [
           2
          ],
          [
           2
          ],
          [
           2
          ],
          [
           2
          ],
          [
           2
          ],
          [
           2
          ],
          [
           2
          ],
          [
           2
          ],
          [
           2
          ],
          [
           2
          ],
          [
           2
          ],
          [
           2
          ],
          [
           2
          ],
          [
           2
          ],
          [
           2
          ],
          [
           2
          ],
          [
           2
          ],
          [
           2
          ],
          [
           2
          ],
          [
           2
          ],
          [
           2
          ],
          [
           2
          ],
          [
           2
          ],
          [
           2
          ],
          [
           2
          ],
          [
           2
          ],
          [
           2
          ],
          [
           2
          ],
          [
           2
          ],
          [
           2
          ],
          [
           2
          ],
          [
           2
          ],
          [
           2
          ],
          [
           2
          ],
          [
           2
          ],
          [
           2
          ],
          [
           2
          ],
          [
           2
          ],
          [
           2
          ],
          [
           2
          ],
          [
           2
          ],
          [
           2
          ],
          [
           2
          ],
          [
           2
          ],
          [
           2
          ],
          [
           2
          ],
          [
           2
          ],
          [
           2
          ],
          [
           2
          ],
          [
           2
          ],
          [
           2
          ],
          [
           2
          ],
          [
           2
          ],
          [
           2
          ],
          [
           2
          ],
          [
           2
          ],
          [
           2
          ],
          [
           2
          ],
          [
           2
          ],
          [
           2
          ],
          [
           2
          ],
          [
           2
          ],
          [
           2
          ],
          [
           2
          ],
          [
           2
          ],
          [
           2
          ],
          [
           2
          ],
          [
           2
          ],
          [
           2
          ],
          [
           2
          ],
          [
           2
          ],
          [
           2
          ],
          [
           2
          ],
          [
           2
          ],
          [
           2
          ],
          [
           2
          ],
          [
           2
          ],
          [
           2
          ],
          [
           2
          ],
          [
           2
          ],
          [
           2
          ],
          [
           2
          ],
          [
           2
          ],
          [
           2
          ],
          [
           2
          ],
          [
           2
          ],
          [
           2
          ],
          [
           2
          ],
          [
           2
          ],
          [
           2
          ],
          [
           2
          ],
          [
           2
          ],
          [
           2
          ],
          [
           2
          ],
          [
           2
          ],
          [
           2
          ],
          [
           2
          ],
          [
           2
          ],
          [
           2
          ],
          [
           2
          ],
          [
           2
          ],
          [
           2
          ],
          [
           2
          ],
          [
           2
          ],
          [
           2
          ],
          [
           2
          ],
          [
           2
          ],
          [
           2
          ],
          [
           2
          ],
          [
           2
          ],
          [
           2
          ],
          [
           2
          ],
          [
           2
          ],
          [
           2
          ],
          [
           2
          ],
          [
           2
          ],
          [
           2
          ],
          [
           2
          ],
          [
           2
          ],
          [
           2
          ],
          [
           2
          ],
          [
           2
          ],
          [
           2
          ],
          [
           2
          ],
          [
           2
          ],
          [
           2
          ],
          [
           2
          ],
          [
           2
          ],
          [
           2
          ],
          [
           2
          ],
          [
           2
          ],
          [
           2
          ],
          [
           2
          ],
          [
           2
          ],
          [
           2
          ],
          [
           2
          ],
          [
           2
          ],
          [
           2
          ],
          [
           2
          ],
          [
           2
          ],
          [
           2
          ],
          [
           2
          ],
          [
           2
          ],
          [
           2
          ],
          [
           2
          ],
          [
           2
          ],
          [
           2
          ],
          [
           2
          ],
          [
           2
          ],
          [
           2
          ],
          [
           2
          ],
          [
           2
          ],
          [
           2
          ],
          [
           2
          ],
          [
           2
          ],
          [
           2
          ],
          [
           2
          ],
          [
           2
          ],
          [
           2
          ],
          [
           2
          ],
          [
           2
          ],
          [
           2
          ],
          [
           2
          ],
          [
           2
          ],
          [
           2
          ],
          [
           2
          ],
          [
           2
          ],
          [
           2
          ],
          [
           2
          ],
          [
           2
          ],
          [
           2
          ],
          [
           2
          ],
          [
           2
          ],
          [
           2
          ],
          [
           2
          ],
          [
           2
          ],
          [
           2
          ],
          [
           2
          ],
          [
           2
          ],
          [
           2
          ],
          [
           2
          ],
          [
           2
          ],
          [
           2
          ],
          [
           2
          ],
          [
           2
          ],
          [
           2
          ],
          [
           2
          ],
          [
           2
          ],
          [
           2
          ],
          [
           2
          ],
          [
           2
          ],
          [
           2
          ],
          [
           2
          ],
          [
           2
          ],
          [
           2
          ],
          [
           2
          ],
          [
           2
          ],
          [
           2
          ],
          [
           2
          ],
          [
           2
          ],
          [
           2
          ],
          [
           2
          ],
          [
           2
          ],
          [
           2
          ],
          [
           2
          ],
          [
           2
          ],
          [
           2
          ],
          [
           2
          ],
          [
           2
          ],
          [
           2
          ],
          [
           2
          ],
          [
           2
          ],
          [
           2
          ],
          [
           2
          ],
          [
           2
          ],
          [
           2
          ],
          [
           2
          ],
          [
           2
          ],
          [
           2
          ],
          [
           2
          ],
          [
           2
          ],
          [
           2
          ],
          [
           2
          ],
          [
           2
          ],
          [
           2
          ],
          [
           2
          ],
          [
           2
          ],
          [
           2
          ],
          [
           2
          ],
          [
           2
          ],
          [
           2
          ],
          [
           2
          ],
          [
           2
          ],
          [
           2
          ],
          [
           2
          ],
          [
           2
          ],
          [
           2
          ],
          [
           2
          ],
          [
           2
          ],
          [
           2
          ],
          [
           2
          ],
          [
           2
          ],
          [
           2
          ],
          [
           2
          ],
          [
           2
          ],
          [
           2
          ],
          [
           2
          ],
          [
           2
          ],
          [
           2
          ],
          [
           2
          ],
          [
           2
          ],
          [
           2
          ],
          [
           2
          ],
          [
           2
          ],
          [
           2
          ],
          [
           2
          ],
          [
           2
          ],
          [
           2
          ],
          [
           2
          ],
          [
           2
          ],
          [
           2
          ],
          [
           2
          ],
          [
           2
          ],
          [
           2
          ],
          [
           2
          ],
          [
           2
          ],
          [
           2
          ],
          [
           2
          ],
          [
           2
          ],
          [
           2
          ],
          [
           2
          ],
          [
           2
          ],
          [
           2
          ],
          [
           2
          ],
          [
           2
          ],
          [
           2
          ],
          [
           2
          ],
          [
           2
          ],
          [
           2
          ],
          [
           2
          ],
          [
           2
          ],
          [
           2
          ],
          [
           2
          ],
          [
           2
          ],
          [
           2
          ],
          [
           2
          ],
          [
           2
          ],
          [
           2
          ],
          [
           2
          ],
          [
           2
          ],
          [
           2
          ],
          [
           2
          ],
          [
           2
          ],
          [
           2
          ],
          [
           2
          ],
          [
           2
          ],
          [
           2
          ],
          [
           2
          ],
          [
           2
          ],
          [
           2
          ],
          [
           2
          ],
          [
           2
          ],
          [
           2
          ],
          [
           2
          ],
          [
           2
          ],
          [
           2
          ],
          [
           2
          ],
          [
           2
          ],
          [
           2
          ],
          [
           2
          ],
          [
           2
          ],
          [
           2
          ],
          [
           2
          ],
          [
           2
          ],
          [
           2
          ],
          [
           2
          ],
          [
           2
          ],
          [
           2
          ],
          [
           2
          ],
          [
           2
          ],
          [
           2
          ],
          [
           2
          ],
          [
           2
          ],
          [
           2
          ],
          [
           2
          ],
          [
           2
          ],
          [
           2
          ],
          [
           2
          ],
          [
           2
          ],
          [
           2
          ],
          [
           2
          ],
          [
           2
          ],
          [
           2
          ],
          [
           2
          ],
          [
           2
          ],
          [
           2
          ],
          [
           2
          ],
          [
           2
          ],
          [
           2
          ],
          [
           2
          ],
          [
           2
          ],
          [
           2
          ],
          [
           2
          ],
          [
           2
          ],
          [
           2
          ],
          [
           2
          ],
          [
           2
          ],
          [
           2
          ],
          [
           2
          ],
          [
           2
          ],
          [
           2
          ],
          [
           2
          ],
          [
           2
          ],
          [
           2
          ],
          [
           2
          ],
          [
           2
          ],
          [
           2
          ],
          [
           2
          ],
          [
           2
          ],
          [
           2
          ],
          [
           2
          ],
          [
           2
          ],
          [
           2
          ],
          [
           2
          ],
          [
           2
          ],
          [
           2
          ],
          [
           2
          ],
          [
           2
          ],
          [
           2
          ],
          [
           2
          ],
          [
           2
          ],
          [
           2
          ],
          [
           2
          ],
          [
           2
          ],
          [
           2
          ],
          [
           2
          ],
          [
           2
          ],
          [
           2
          ],
          [
           2
          ],
          [
           2
          ],
          [
           2
          ],
          [
           2
          ],
          [
           2
          ],
          [
           2
          ],
          [
           2
          ],
          [
           2
          ],
          [
           2
          ],
          [
           2
          ],
          [
           2
          ],
          [
           2
          ],
          [
           2
          ],
          [
           2
          ],
          [
           2
          ],
          [
           2
          ],
          [
           2
          ],
          [
           2
          ],
          [
           2
          ],
          [
           2
          ],
          [
           2
          ],
          [
           2
          ],
          [
           2
          ],
          [
           2
          ],
          [
           2
          ],
          [
           2
          ],
          [
           2
          ],
          [
           2
          ],
          [
           2
          ],
          [
           2
          ],
          [
           2
          ],
          [
           2
          ],
          [
           2
          ],
          [
           2
          ],
          [
           2
          ],
          [
           2
          ],
          [
           2
          ],
          [
           2
          ],
          [
           2
          ],
          [
           2
          ],
          [
           2
          ],
          [
           2
          ],
          [
           2
          ],
          [
           2
          ],
          [
           2
          ],
          [
           2
          ],
          [
           2
          ],
          [
           2
          ],
          [
           2
          ],
          [
           2
          ],
          [
           2
          ],
          [
           2
          ],
          [
           2
          ],
          [
           2
          ],
          [
           2
          ],
          [
           2
          ],
          [
           2
          ],
          [
           2
          ],
          [
           2
          ],
          [
           2
          ],
          [
           2
          ],
          [
           2
          ],
          [
           2
          ],
          [
           2
          ],
          [
           2
          ],
          [
           2
          ],
          [
           2
          ],
          [
           2
          ],
          [
           2
          ],
          [
           2
          ],
          [
           2
          ],
          [
           2
          ],
          [
           2
          ],
          [
           2
          ],
          [
           2
          ],
          [
           2
          ],
          [
           2
          ],
          [
           2
          ],
          [
           2
          ],
          [
           2
          ],
          [
           2
          ],
          [
           2
          ],
          [
           2
          ],
          [
           2
          ],
          [
           2
          ],
          [
           2
          ],
          [
           2
          ],
          [
           2
          ],
          [
           2
          ],
          [
           2
          ],
          [
           2
          ],
          [
           2
          ],
          [
           2
          ],
          [
           2
          ],
          [
           2
          ],
          [
           2
          ],
          [
           2
          ],
          [
           2
          ],
          [
           2
          ],
          [
           2
          ],
          [
           2
          ],
          [
           2
          ],
          [
           2
          ],
          [
           2
          ],
          [
           2
          ],
          [
           2
          ],
          [
           2
          ],
          [
           2
          ],
          [
           2
          ],
          [
           2
          ],
          [
           2
          ],
          [
           2
          ],
          [
           2
          ],
          [
           2
          ],
          [
           2
          ],
          [
           2
          ],
          [
           2
          ],
          [
           2
          ],
          [
           2
          ],
          [
           2
          ],
          [
           2
          ],
          [
           2
          ],
          [
           2
          ],
          [
           2
          ],
          [
           2
          ],
          [
           2
          ],
          [
           2
          ],
          [
           2
          ],
          [
           2
          ],
          [
           2
          ],
          [
           2
          ],
          [
           2
          ],
          [
           2
          ],
          [
           2
          ],
          [
           2
          ],
          [
           2
          ],
          [
           2
          ],
          [
           2
          ],
          [
           2
          ],
          [
           2
          ],
          [
           2
          ],
          [
           2
          ],
          [
           2
          ],
          [
           2
          ],
          [
           2
          ],
          [
           2
          ],
          [
           2
          ],
          [
           2
          ],
          [
           2
          ],
          [
           2
          ],
          [
           2
          ],
          [
           2
          ],
          [
           2
          ],
          [
           2
          ],
          [
           2
          ],
          [
           2
          ],
          [
           2
          ],
          [
           2
          ],
          [
           2
          ],
          [
           2
          ],
          [
           2
          ],
          [
           2
          ],
          [
           2
          ],
          [
           2
          ],
          [
           2
          ],
          [
           2
          ],
          [
           2
          ],
          [
           2
          ],
          [
           2
          ],
          [
           2
          ],
          [
           2
          ],
          [
           2
          ],
          [
           2
          ],
          [
           2
          ],
          [
           2
          ],
          [
           2
          ],
          [
           2
          ],
          [
           2
          ],
          [
           2
          ],
          [
           2
          ],
          [
           2
          ],
          [
           2
          ],
          [
           2
          ],
          [
           2
          ],
          [
           2
          ],
          [
           2
          ],
          [
           2
          ],
          [
           2
          ],
          [
           2
          ],
          [
           2
          ],
          [
           2
          ],
          [
           2
          ],
          [
           2
          ],
          [
           2
          ],
          [
           2
          ],
          [
           2
          ],
          [
           2
          ],
          [
           2
          ],
          [
           2
          ],
          [
           2
          ],
          [
           2
          ],
          [
           2
          ],
          [
           2
          ],
          [
           2
          ],
          [
           2
          ],
          [
           2
          ],
          [
           2
          ],
          [
           2
          ],
          [
           2
          ],
          [
           2
          ],
          [
           2
          ],
          [
           2
          ],
          [
           2
          ],
          [
           2
          ],
          [
           2
          ],
          [
           2
          ],
          [
           2
          ],
          [
           2
          ],
          [
           2
          ],
          [
           2
          ],
          [
           2
          ],
          [
           2
          ],
          [
           2
          ],
          [
           2
          ],
          [
           2
          ],
          [
           2
          ],
          [
           2
          ],
          [
           2
          ],
          [
           2
          ],
          [
           2
          ],
          [
           2
          ],
          [
           2
          ],
          [
           2
          ],
          [
           2
          ],
          [
           2
          ],
          [
           2
          ],
          [
           2
          ],
          [
           2
          ],
          [
           2
          ],
          [
           2
          ],
          [
           2
          ],
          [
           2
          ],
          [
           2
          ],
          [
           2
          ],
          [
           2
          ],
          [
           2
          ],
          [
           2
          ],
          [
           2
          ],
          [
           2
          ],
          [
           2
          ],
          [
           2
          ],
          [
           2
          ],
          [
           2
          ],
          [
           2
          ],
          [
           2
          ],
          [
           2
          ],
          [
           2
          ],
          [
           2
          ],
          [
           2
          ],
          [
           2
          ],
          [
           2
          ],
          [
           2
          ],
          [
           2
          ],
          [
           2
          ],
          [
           2
          ],
          [
           2
          ],
          [
           2
          ],
          [
           2
          ],
          [
           2
          ],
          [
           2
          ],
          [
           2
          ],
          [
           2
          ],
          [
           2
          ],
          [
           2
          ],
          [
           2
          ],
          [
           2
          ],
          [
           2
          ],
          [
           2
          ],
          [
           2
          ],
          [
           2
          ],
          [
           2
          ],
          [
           2
          ],
          [
           2
          ],
          [
           2
          ],
          [
           2
          ],
          [
           2
          ],
          [
           2
          ],
          [
           2
          ],
          [
           2
          ],
          [
           2
          ],
          [
           2
          ],
          [
           2
          ],
          [
           2
          ],
          [
           2
          ],
          [
           2
          ],
          [
           2
          ],
          [
           2
          ],
          [
           2
          ],
          [
           2
          ],
          [
           2
          ],
          [
           2
          ],
          [
           2
          ],
          [
           2
          ],
          [
           2
          ],
          [
           2
          ],
          [
           2
          ],
          [
           2
          ],
          [
           2
          ],
          [
           2
          ],
          [
           2
          ],
          [
           2
          ],
          [
           2
          ],
          [
           2
          ],
          [
           2
          ],
          [
           2
          ],
          [
           2
          ],
          [
           2
          ],
          [
           2
          ],
          [
           2
          ],
          [
           2
          ],
          [
           2
          ],
          [
           2
          ],
          [
           3
          ],
          [
           3
          ],
          [
           3
          ],
          [
           3
          ],
          [
           3
          ],
          [
           3
          ],
          [
           3
          ],
          [
           3
          ],
          [
           3
          ],
          [
           3
          ],
          [
           3
          ],
          [
           3
          ],
          [
           3
          ],
          [
           3
          ],
          [
           3
          ],
          [
           3
          ],
          [
           3
          ],
          [
           3
          ],
          [
           3
          ],
          [
           3
          ],
          [
           3
          ],
          [
           3
          ],
          [
           3
          ],
          [
           3
          ],
          [
           3
          ],
          [
           3
          ],
          [
           3
          ],
          [
           3
          ],
          [
           3
          ],
          [
           3
          ],
          [
           3
          ],
          [
           3
          ],
          [
           3
          ],
          [
           3
          ],
          [
           3
          ],
          [
           3
          ],
          [
           3
          ],
          [
           3
          ],
          [
           3
          ],
          [
           3
          ],
          [
           3
          ],
          [
           3
          ],
          [
           3
          ],
          [
           3
          ],
          [
           3
          ],
          [
           3
          ],
          [
           3
          ],
          [
           3
          ],
          [
           3
          ],
          [
           3
          ],
          [
           3
          ],
          [
           3
          ],
          [
           3
          ],
          [
           3
          ],
          [
           3
          ],
          [
           3
          ],
          [
           3
          ],
          [
           3
          ],
          [
           3
          ],
          [
           3
          ],
          [
           3
          ],
          [
           3
          ],
          [
           3
          ],
          [
           3
          ],
          [
           3
          ],
          [
           3
          ],
          [
           3
          ],
          [
           3
          ],
          [
           3
          ],
          [
           3
          ],
          [
           3
          ],
          [
           3
          ],
          [
           3
          ],
          [
           3
          ],
          [
           3
          ],
          [
           3
          ],
          [
           3
          ],
          [
           3
          ],
          [
           3
          ],
          [
           3
          ],
          [
           3
          ],
          [
           3
          ],
          [
           3
          ],
          [
           3
          ],
          [
           3
          ],
          [
           3
          ],
          [
           3
          ],
          [
           3
          ],
          [
           3
          ],
          [
           3
          ],
          [
           3
          ],
          [
           3
          ],
          [
           3
          ],
          [
           3
          ],
          [
           3
          ],
          [
           3
          ],
          [
           3
          ],
          [
           3
          ],
          [
           3
          ],
          [
           3
          ],
          [
           3
          ],
          [
           3
          ],
          [
           3
          ],
          [
           3
          ],
          [
           3
          ],
          [
           3
          ],
          [
           3
          ],
          [
           3
          ],
          [
           3
          ],
          [
           3
          ],
          [
           3
          ],
          [
           3
          ],
          [
           3
          ],
          [
           3
          ],
          [
           3
          ],
          [
           3
          ],
          [
           3
          ],
          [
           3
          ],
          [
           3
          ],
          [
           3
          ],
          [
           3
          ],
          [
           3
          ],
          [
           3
          ],
          [
           3
          ],
          [
           3
          ],
          [
           3
          ],
          [
           3
          ],
          [
           3
          ],
          [
           3
          ],
          [
           3
          ],
          [
           3
          ],
          [
           3
          ],
          [
           3
          ],
          [
           3
          ],
          [
           3
          ],
          [
           3
          ],
          [
           3
          ],
          [
           3
          ],
          [
           3
          ],
          [
           3
          ],
          [
           3
          ],
          [
           3
          ],
          [
           3
          ],
          [
           3
          ],
          [
           3
          ],
          [
           3
          ],
          [
           3
          ],
          [
           3
          ],
          [
           3
          ],
          [
           3
          ],
          [
           3
          ],
          [
           3
          ],
          [
           3
          ],
          [
           3
          ],
          [
           3
          ],
          [
           3
          ],
          [
           3
          ],
          [
           3
          ],
          [
           3
          ],
          [
           3
          ],
          [
           3
          ],
          [
           3
          ],
          [
           3
          ],
          [
           3
          ],
          [
           3
          ],
          [
           3
          ],
          [
           3
          ],
          [
           3
          ],
          [
           3
          ],
          [
           3
          ],
          [
           3
          ],
          [
           3
          ],
          [
           3
          ],
          [
           3
          ],
          [
           3
          ],
          [
           3
          ],
          [
           3
          ],
          [
           3
          ],
          [
           3
          ],
          [
           3
          ],
          [
           3
          ],
          [
           3
          ],
          [
           3
          ],
          [
           3
          ],
          [
           3
          ],
          [
           3
          ],
          [
           3
          ],
          [
           3
          ],
          [
           3
          ],
          [
           3
          ],
          [
           3
          ],
          [
           3
          ],
          [
           3
          ],
          [
           3
          ],
          [
           3
          ],
          [
           3
          ],
          [
           3
          ],
          [
           3
          ],
          [
           3
          ],
          [
           3
          ],
          [
           3
          ],
          [
           3
          ],
          [
           3
          ],
          [
           3
          ],
          [
           3
          ],
          [
           3
          ],
          [
           3
          ],
          [
           3
          ],
          [
           3
          ],
          [
           3
          ],
          [
           3
          ],
          [
           3
          ],
          [
           3
          ],
          [
           3
          ],
          [
           3
          ],
          [
           3
          ],
          [
           3
          ],
          [
           3
          ],
          [
           3
          ],
          [
           3
          ],
          [
           3
          ],
          [
           3
          ],
          [
           3
          ],
          [
           3
          ],
          [
           3
          ],
          [
           3
          ],
          [
           3
          ],
          [
           3
          ],
          [
           3
          ],
          [
           3
          ],
          [
           3
          ],
          [
           3
          ],
          [
           3
          ],
          [
           3
          ],
          [
           3
          ],
          [
           3
          ],
          [
           3
          ],
          [
           3
          ],
          [
           3
          ],
          [
           3
          ],
          [
           3
          ],
          [
           3
          ],
          [
           3
          ],
          [
           3
          ],
          [
           3
          ],
          [
           3
          ],
          [
           3
          ],
          [
           3
          ],
          [
           3
          ],
          [
           3
          ],
          [
           3
          ],
          [
           3
          ],
          [
           3
          ],
          [
           3
          ],
          [
           3
          ],
          [
           3
          ],
          [
           3
          ],
          [
           3
          ],
          [
           3
          ],
          [
           3
          ],
          [
           3
          ],
          [
           3
          ],
          [
           3
          ],
          [
           3
          ],
          [
           3
          ],
          [
           3
          ],
          [
           3
          ],
          [
           3
          ],
          [
           3
          ],
          [
           3
          ],
          [
           3
          ],
          [
           3
          ],
          [
           3
          ],
          [
           3
          ],
          [
           3
          ],
          [
           3
          ],
          [
           3
          ],
          [
           3
          ],
          [
           3
          ],
          [
           3
          ],
          [
           3
          ],
          [
           3
          ],
          [
           3
          ],
          [
           3
          ],
          [
           3
          ],
          [
           3
          ],
          [
           3
          ],
          [
           3
          ],
          [
           3
          ],
          [
           3
          ],
          [
           3
          ],
          [
           3
          ],
          [
           3
          ],
          [
           3
          ],
          [
           3
          ],
          [
           3
          ],
          [
           3
          ],
          [
           3
          ],
          [
           3
          ],
          [
           3
          ],
          [
           3
          ],
          [
           3
          ],
          [
           3
          ],
          [
           3
          ],
          [
           3
          ],
          [
           3
          ],
          [
           3
          ],
          [
           3
          ],
          [
           3
          ],
          [
           3
          ],
          [
           3
          ],
          [
           3
          ],
          [
           3
          ],
          [
           3
          ],
          [
           3
          ],
          [
           3
          ],
          [
           3
          ],
          [
           3
          ],
          [
           3
          ],
          [
           3
          ],
          [
           3
          ],
          [
           3
          ],
          [
           3
          ],
          [
           3
          ],
          [
           3
          ],
          [
           3
          ],
          [
           3
          ],
          [
           3
          ],
          [
           3
          ],
          [
           3
          ],
          [
           3
          ],
          [
           3
          ],
          [
           3
          ],
          [
           3
          ],
          [
           3
          ],
          [
           3
          ],
          [
           3
          ],
          [
           3
          ],
          [
           3
          ],
          [
           3
          ],
          [
           3
          ],
          [
           3
          ],
          [
           3
          ],
          [
           3
          ],
          [
           3
          ],
          [
           3
          ],
          [
           3
          ],
          [
           3
          ],
          [
           3
          ],
          [
           3
          ],
          [
           3
          ],
          [
           3
          ],
          [
           3
          ],
          [
           3
          ],
          [
           3
          ],
          [
           3
          ],
          [
           3
          ],
          [
           3
          ],
          [
           3
          ],
          [
           3
          ],
          [
           3
          ],
          [
           3
          ],
          [
           3
          ],
          [
           3
          ],
          [
           3
          ],
          [
           3
          ],
          [
           3
          ],
          [
           3
          ],
          [
           3
          ],
          [
           3
          ],
          [
           3
          ],
          [
           3
          ],
          [
           3
          ],
          [
           3
          ],
          [
           3
          ],
          [
           3
          ],
          [
           3
          ],
          [
           3
          ],
          [
           3
          ],
          [
           3
          ],
          [
           3
          ],
          [
           3
          ],
          [
           3
          ],
          [
           3
          ],
          [
           3
          ],
          [
           3
          ],
          [
           3
          ],
          [
           3
          ],
          [
           3
          ],
          [
           3
          ],
          [
           3
          ],
          [
           3
          ],
          [
           3
          ],
          [
           3
          ],
          [
           3
          ],
          [
           3
          ],
          [
           3
          ],
          [
           3
          ],
          [
           3
          ],
          [
           3
          ],
          [
           3
          ],
          [
           3
          ],
          [
           3
          ],
          [
           3
          ],
          [
           3
          ],
          [
           3
          ],
          [
           3
          ],
          [
           3
          ],
          [
           3
          ],
          [
           3
          ],
          [
           3
          ],
          [
           3
          ],
          [
           3
          ],
          [
           3
          ],
          [
           3
          ],
          [
           3
          ],
          [
           3
          ],
          [
           3
          ],
          [
           3
          ],
          [
           3
          ],
          [
           3
          ],
          [
           3
          ],
          [
           3
          ],
          [
           3
          ],
          [
           3
          ],
          [
           3
          ],
          [
           3
          ],
          [
           3
          ],
          [
           3
          ],
          [
           3
          ],
          [
           3
          ],
          [
           3
          ],
          [
           3
          ],
          [
           3
          ],
          [
           3
          ],
          [
           3
          ],
          [
           3
          ],
          [
           3
          ],
          [
           3
          ],
          [
           3
          ],
          [
           3
          ],
          [
           3
          ],
          [
           3
          ],
          [
           3
          ],
          [
           3
          ],
          [
           3
          ],
          [
           3
          ],
          [
           3
          ],
          [
           3
          ],
          [
           3
          ],
          [
           3
          ],
          [
           3
          ],
          [
           3
          ],
          [
           3
          ],
          [
           3
          ],
          [
           3
          ],
          [
           3
          ],
          [
           3
          ],
          [
           3
          ],
          [
           3
          ],
          [
           3
          ],
          [
           3
          ],
          [
           3
          ],
          [
           3
          ],
          [
           3
          ],
          [
           3
          ],
          [
           3
          ],
          [
           3
          ],
          [
           3
          ],
          [
           3
          ],
          [
           3
          ],
          [
           3
          ],
          [
           3
          ],
          [
           3
          ],
          [
           3
          ],
          [
           3
          ],
          [
           3
          ],
          [
           3
          ],
          [
           3
          ],
          [
           3
          ],
          [
           3
          ],
          [
           3
          ],
          [
           3
          ],
          [
           3
          ],
          [
           3
          ],
          [
           3
          ],
          [
           3
          ],
          [
           3
          ],
          [
           3
          ],
          [
           3
          ],
          [
           3
          ],
          [
           3
          ],
          [
           3
          ],
          [
           3
          ],
          [
           3
          ],
          [
           3
          ],
          [
           3
          ],
          [
           3
          ],
          [
           3
          ],
          [
           3
          ],
          [
           3
          ],
          [
           3
          ],
          [
           3
          ],
          [
           3
          ],
          [
           3
          ],
          [
           3
          ],
          [
           3
          ],
          [
           3
          ],
          [
           3
          ],
          [
           3
          ],
          [
           3
          ],
          [
           3
          ],
          [
           3
          ],
          [
           3
          ],
          [
           3
          ],
          [
           3
          ],
          [
           3
          ],
          [
           3
          ],
          [
           3
          ],
          [
           3
          ],
          [
           3
          ],
          [
           3
          ],
          [
           3
          ],
          [
           3
          ],
          [
           3
          ],
          [
           3
          ],
          [
           3
          ],
          [
           3
          ],
          [
           3
          ],
          [
           3
          ],
          [
           3
          ],
          [
           3
          ],
          [
           3
          ],
          [
           3
          ],
          [
           3
          ],
          [
           3
          ],
          [
           3
          ],
          [
           3
          ],
          [
           3
          ],
          [
           3
          ],
          [
           3
          ],
          [
           3
          ],
          [
           3
          ],
          [
           3
          ],
          [
           3
          ],
          [
           3
          ],
          [
           3
          ],
          [
           3
          ],
          [
           3
          ],
          [
           3
          ],
          [
           3
          ],
          [
           3
          ],
          [
           3
          ],
          [
           3
          ],
          [
           3
          ],
          [
           3
          ],
          [
           3
          ],
          [
           3
          ],
          [
           3
          ],
          [
           3
          ],
          [
           3
          ],
          [
           3
          ],
          [
           3
          ],
          [
           3
          ],
          [
           3
          ],
          [
           3
          ],
          [
           3
          ],
          [
           3
          ],
          [
           3
          ],
          [
           3
          ],
          [
           3
          ],
          [
           3
          ],
          [
           3
          ],
          [
           3
          ],
          [
           3
          ],
          [
           3
          ],
          [
           3
          ],
          [
           3
          ],
          [
           3
          ],
          [
           3
          ],
          [
           3
          ],
          [
           3
          ],
          [
           3
          ],
          [
           3
          ],
          [
           3
          ],
          [
           3
          ],
          [
           3
          ],
          [
           3
          ],
          [
           3
          ],
          [
           3
          ],
          [
           3
          ],
          [
           3
          ],
          [
           3
          ],
          [
           3
          ],
          [
           3
          ],
          [
           3
          ],
          [
           3
          ],
          [
           3
          ],
          [
           3
          ],
          [
           3
          ],
          [
           3
          ],
          [
           3
          ],
          [
           3
          ],
          [
           3
          ],
          [
           3
          ],
          [
           3
          ],
          [
           3
          ],
          [
           3
          ],
          [
           3
          ],
          [
           3
          ],
          [
           3
          ],
          [
           3
          ],
          [
           3
          ],
          [
           3
          ],
          [
           3
          ],
          [
           3
          ],
          [
           3
          ],
          [
           3
          ],
          [
           3
          ],
          [
           3
          ],
          [
           3
          ],
          [
           3
          ],
          [
           3
          ],
          [
           3
          ],
          [
           3
          ],
          [
           3
          ],
          [
           3
          ],
          [
           3
          ],
          [
           3
          ],
          [
           3
          ],
          [
           3
          ],
          [
           3
          ],
          [
           3
          ],
          [
           3
          ],
          [
           3
          ],
          [
           3
          ],
          [
           3
          ],
          [
           3
          ],
          [
           3
          ],
          [
           3
          ],
          [
           3
          ],
          [
           3
          ],
          [
           3
          ],
          [
           3
          ],
          [
           3
          ],
          [
           3
          ],
          [
           3
          ],
          [
           3
          ],
          [
           3
          ],
          [
           3
          ],
          [
           3
          ],
          [
           3
          ],
          [
           3
          ],
          [
           3
          ],
          [
           3
          ],
          [
           3
          ],
          [
           3
          ],
          [
           3
          ],
          [
           3
          ],
          [
           3
          ],
          [
           3
          ],
          [
           3
          ],
          [
           3
          ],
          [
           3
          ],
          [
           3
          ],
          [
           3
          ],
          [
           3
          ],
          [
           3
          ],
          [
           3
          ],
          [
           3
          ],
          [
           3
          ],
          [
           3
          ],
          [
           3
          ],
          [
           3
          ],
          [
           3
          ],
          [
           3
          ],
          [
           3
          ],
          [
           3
          ],
          [
           3
          ],
          [
           3
          ],
          [
           3
          ],
          [
           3
          ],
          [
           3
          ],
          [
           3
          ],
          [
           3
          ],
          [
           3
          ],
          [
           3
          ],
          [
           3
          ],
          [
           3
          ],
          [
           3
          ],
          [
           3
          ],
          [
           3
          ],
          [
           3
          ],
          [
           3
          ],
          [
           4
          ],
          [
           4
          ],
          [
           4
          ],
          [
           4
          ],
          [
           4
          ],
          [
           4
          ],
          [
           4
          ],
          [
           4
          ],
          [
           4
          ],
          [
           4
          ],
          [
           4
          ],
          [
           4
          ],
          [
           4
          ],
          [
           4
          ],
          [
           4
          ],
          [
           4
          ],
          [
           4
          ],
          [
           4
          ],
          [
           4
          ],
          [
           4
          ],
          [
           4
          ],
          [
           4
          ],
          [
           4
          ],
          [
           4
          ],
          [
           4
          ],
          [
           4
          ],
          [
           4
          ],
          [
           4
          ],
          [
           4
          ],
          [
           4
          ],
          [
           4
          ]
         ],
         "hovertemplate": "City=%{x}<br>Sunrise_Sunset=%{y}<br>Qtd=%{marker.size}<br>Severity=%{marker.color}<extra></extra>",
         "legendgroup": "",
         "marker": {
          "color": [
           1,
           1,
           1,
           1,
           1,
           1,
           1,
           1,
           1,
           1,
           1,
           1,
           1,
           1,
           1,
           1,
           1,
           1,
           1,
           1,
           1,
           1,
           1,
           1,
           1,
           1,
           1,
           1,
           1,
           1,
           1,
           1,
           1,
           1,
           1,
           1,
           1,
           1,
           1,
           1,
           1,
           1,
           1,
           1,
           1,
           1,
           1,
           1,
           1,
           1,
           1,
           1,
           1,
           1,
           1,
           1,
           1,
           1,
           1,
           1,
           1,
           1,
           1,
           1,
           1,
           1,
           1,
           1,
           1,
           1,
           1,
           1,
           1,
           1,
           1,
           1,
           1,
           1,
           1,
           1,
           1,
           1,
           2,
           2,
           2,
           2,
           2,
           2,
           2,
           2,
           2,
           2,
           2,
           2,
           2,
           2,
           2,
           2,
           2,
           2,
           2,
           2,
           2,
           2,
           2,
           2,
           2,
           2,
           2,
           2,
           2,
           2,
           2,
           2,
           2,
           2,
           2,
           2,
           2,
           2,
           2,
           2,
           2,
           2,
           2,
           2,
           2,
           2,
           2,
           2,
           2,
           2,
           2,
           2,
           2,
           2,
           2,
           2,
           2,
           2,
           2,
           2,
           2,
           2,
           2,
           2,
           2,
           2,
           2,
           2,
           2,
           2,
           2,
           2,
           2,
           2,
           2,
           2,
           2,
           2,
           2,
           2,
           2,
           2,
           2,
           2,
           2,
           2,
           2,
           2,
           2,
           2,
           2,
           2,
           2,
           2,
           2,
           2,
           2,
           2,
           2,
           2,
           2,
           2,
           2,
           2,
           2,
           2,
           2,
           2,
           2,
           2,
           2,
           2,
           2,
           2,
           2,
           2,
           2,
           2,
           2,
           2,
           2,
           2,
           2,
           2,
           2,
           2,
           2,
           2,
           2,
           2,
           2,
           2,
           2,
           2,
           2,
           2,
           2,
           2,
           2,
           2,
           2,
           2,
           2,
           2,
           2,
           2,
           2,
           2,
           2,
           2,
           2,
           2,
           2,
           2,
           2,
           2,
           2,
           2,
           2,
           2,
           2,
           2,
           2,
           2,
           2,
           2,
           2,
           2,
           2,
           2,
           2,
           2,
           2,
           2,
           2,
           2,
           2,
           2,
           2,
           2,
           2,
           2,
           2,
           2,
           2,
           2,
           2,
           2,
           2,
           2,
           2,
           2,
           2,
           2,
           2,
           2,
           2,
           2,
           2,
           2,
           2,
           2,
           2,
           2,
           2,
           2,
           2,
           2,
           2,
           2,
           2,
           2,
           2,
           2,
           2,
           2,
           2,
           2,
           2,
           2,
           2,
           2,
           2,
           2,
           2,
           2,
           2,
           2,
           2,
           2,
           2,
           2,
           2,
           2,
           2,
           2,
           2,
           2,
           2,
           2,
           2,
           2,
           2,
           2,
           2,
           2,
           2,
           2,
           2,
           2,
           2,
           2,
           2,
           2,
           2,
           2,
           2,
           2,
           2,
           2,
           2,
           2,
           2,
           2,
           2,
           2,
           2,
           2,
           2,
           2,
           2,
           2,
           2,
           2,
           2,
           2,
           2,
           2,
           2,
           2,
           2,
           2,
           2,
           2,
           2,
           2,
           2,
           2,
           2,
           2,
           2,
           2,
           2,
           2,
           2,
           2,
           2,
           2,
           2,
           2,
           2,
           2,
           2,
           2,
           2,
           2,
           2,
           2,
           2,
           2,
           2,
           2,
           2,
           2,
           2,
           2,
           2,
           2,
           2,
           2,
           2,
           2,
           2,
           2,
           2,
           2,
           2,
           2,
           2,
           2,
           2,
           2,
           2,
           2,
           2,
           2,
           2,
           2,
           2,
           2,
           2,
           2,
           2,
           2,
           2,
           2,
           2,
           2,
           2,
           2,
           2,
           2,
           2,
           2,
           2,
           2,
           2,
           2,
           2,
           2,
           2,
           2,
           2,
           2,
           2,
           2,
           2,
           2,
           2,
           2,
           2,
           2,
           2,
           2,
           2,
           2,
           2,
           2,
           2,
           2,
           2,
           2,
           2,
           2,
           2,
           2,
           2,
           2,
           2,
           2,
           2,
           2,
           2,
           2,
           2,
           2,
           2,
           2,
           2,
           2,
           2,
           2,
           2,
           2,
           2,
           2,
           2,
           2,
           2,
           2,
           2,
           2,
           2,
           2,
           2,
           2,
           2,
           2,
           2,
           2,
           2,
           2,
           2,
           2,
           2,
           2,
           2,
           2,
           2,
           2,
           2,
           2,
           2,
           2,
           2,
           2,
           2,
           2,
           2,
           2,
           2,
           2,
           2,
           2,
           2,
           2,
           2,
           2,
           2,
           2,
           2,
           2,
           2,
           2,
           2,
           2,
           2,
           2,
           2,
           2,
           2,
           2,
           2,
           2,
           2,
           2,
           2,
           2,
           2,
           2,
           2,
           2,
           2,
           2,
           2,
           2,
           2,
           2,
           2,
           2,
           2,
           2,
           2,
           2,
           2,
           2,
           2,
           2,
           2,
           2,
           2,
           2,
           2,
           2,
           2,
           2,
           2,
           2,
           2,
           2,
           2,
           2,
           2,
           2,
           2,
           2,
           2,
           2,
           2,
           2,
           2,
           2,
           2,
           2,
           2,
           2,
           2,
           2,
           2,
           2,
           2,
           2,
           2,
           2,
           2,
           2,
           2,
           2,
           2,
           2,
           2,
           2,
           2,
           2,
           2,
           2,
           2,
           2,
           2,
           2,
           2,
           2,
           2,
           2,
           2,
           2,
           2,
           2,
           2,
           2,
           2,
           2,
           2,
           2,
           2,
           2,
           2,
           2,
           2,
           2,
           2,
           2,
           2,
           2,
           2,
           2,
           2,
           2,
           2,
           2,
           2,
           2,
           2,
           2,
           2,
           2,
           2,
           2,
           2,
           2,
           2,
           2,
           2,
           2,
           2,
           2,
           2,
           2,
           2,
           2,
           2,
           2,
           2,
           2,
           2,
           2,
           2,
           2,
           2,
           2,
           2,
           2,
           2,
           2,
           2,
           2,
           2,
           2,
           2,
           2,
           2,
           2,
           2,
           2,
           2,
           2,
           2,
           2,
           2,
           2,
           2,
           2,
           2,
           2,
           2,
           2,
           2,
           2,
           2,
           2,
           2,
           2,
           2,
           2,
           2,
           2,
           2,
           2,
           2,
           2,
           2,
           2,
           2,
           2,
           2,
           2,
           2,
           2,
           2,
           2,
           2,
           2,
           2,
           2,
           2,
           2,
           2,
           2,
           2,
           2,
           2,
           2,
           2,
           2,
           2,
           2,
           2,
           2,
           2,
           2,
           2,
           2,
           2,
           2,
           2,
           2,
           2,
           2,
           2,
           2,
           2,
           2,
           2,
           2,
           2,
           2,
           2,
           2,
           2,
           2,
           2,
           2,
           2,
           2,
           2,
           2,
           2,
           2,
           2,
           2,
           2,
           2,
           2,
           2,
           2,
           2,
           2,
           2,
           2,
           2,
           2,
           2,
           2,
           2,
           2,
           2,
           2,
           2,
           2,
           2,
           2,
           2,
           2,
           2,
           2,
           2,
           2,
           2,
           2,
           2,
           2,
           2,
           2,
           2,
           2,
           2,
           2,
           2,
           2,
           2,
           2,
           2,
           2,
           2,
           2,
           2,
           2,
           2,
           2,
           2,
           2,
           2,
           2,
           2,
           2,
           2,
           2,
           2,
           2,
           2,
           2,
           2,
           2,
           2,
           2,
           2,
           2,
           2,
           2,
           2,
           2,
           2,
           2,
           2,
           2,
           2,
           2,
           2,
           2,
           2,
           2,
           2,
           2,
           2,
           2,
           2,
           2,
           2,
           2,
           2,
           2,
           2,
           2,
           2,
           2,
           2,
           2,
           2,
           2,
           2,
           2,
           2,
           2,
           2,
           2,
           2,
           2,
           2,
           2,
           2,
           2,
           2,
           2,
           2,
           2,
           2,
           2,
           2,
           2,
           2,
           2,
           2,
           2,
           2,
           2,
           2,
           2,
           2,
           2,
           2,
           2,
           2,
           2,
           2,
           2,
           2,
           2,
           2,
           2,
           2,
           2,
           2,
           2,
           2,
           2,
           2,
           2,
           2,
           2,
           2,
           2,
           2,
           2,
           2,
           2,
           2,
           2,
           2,
           2,
           2,
           2,
           2,
           2,
           2,
           2,
           2,
           2,
           2,
           2,
           2,
           2,
           2,
           2,
           2,
           2,
           2,
           2,
           2,
           2,
           2,
           2,
           2,
           2,
           2,
           2,
           2,
           2,
           2,
           2,
           2,
           2,
           2,
           2,
           2,
           2,
           2,
           2,
           2,
           2,
           2,
           2,
           2,
           2,
           2,
           2,
           2,
           2,
           2,
           2,
           2,
           2,
           2,
           2,
           2,
           2,
           2,
           2,
           2,
           2,
           2,
           2,
           2,
           2,
           2,
           2,
           2,
           2,
           2,
           2,
           2,
           2,
           2,
           2,
           2,
           2,
           2,
           2,
           2,
           2,
           2,
           2,
           2,
           2,
           2,
           2,
           2,
           2,
           2,
           2,
           2,
           2,
           2,
           2,
           2,
           2,
           2,
           2,
           2,
           2,
           2,
           2,
           2,
           2,
           2,
           2,
           2,
           2,
           2,
           2,
           2,
           2,
           2,
           2,
           2,
           2,
           2,
           2,
           2,
           2,
           2,
           2,
           2,
           2,
           2,
           2,
           2,
           2,
           2,
           2,
           2,
           2,
           2,
           2,
           2,
           2,
           2,
           2,
           2,
           2,
           2,
           2,
           2,
           2,
           2,
           2,
           2,
           2,
           2,
           2,
           2,
           2,
           2,
           2,
           2,
           2,
           2,
           2,
           2,
           2,
           2,
           2,
           2,
           2,
           2,
           2,
           2,
           2,
           2,
           2,
           2,
           2,
           2,
           2,
           2,
           2,
           2,
           2,
           2,
           2,
           2,
           2,
           2,
           2,
           2,
           2,
           2,
           2,
           2,
           2,
           2,
           2,
           2,
           2,
           2,
           2,
           2,
           2,
           2,
           2,
           2,
           2,
           2,
           2,
           2,
           2,
           2,
           2,
           2,
           2,
           2,
           2,
           2,
           2,
           2,
           2,
           2,
           2,
           2,
           2,
           2,
           2,
           2,
           2,
           2,
           2,
           2,
           2,
           2,
           2,
           2,
           2,
           2,
           2,
           2,
           2,
           2,
           2,
           2,
           2,
           2,
           2,
           2,
           2,
           2,
           2,
           2,
           2,
           2,
           2,
           2,
           2,
           2,
           2,
           2,
           2,
           2,
           2,
           2,
           2,
           2,
           2,
           2,
           2,
           2,
           2,
           2,
           2,
           2,
           2,
           2,
           2,
           2,
           2,
           2,
           2,
           2,
           2,
           2,
           2,
           2,
           2,
           2,
           2,
           2,
           2,
           2,
           2,
           2,
           2,
           2,
           2,
           2,
           2,
           2,
           2,
           2,
           2,
           2,
           2,
           2,
           2,
           2,
           2,
           2,
           2,
           2,
           2,
           2,
           2,
           2,
           2,
           2,
           2,
           2,
           2,
           2,
           2,
           2,
           2,
           2,
           2,
           2,
           2,
           2,
           2,
           2,
           2,
           2,
           2,
           2,
           2,
           2,
           2,
           2,
           2,
           2,
           2,
           2,
           2,
           2,
           2,
           2,
           2,
           2,
           2,
           2,
           2,
           2,
           2,
           2,
           2,
           2,
           2,
           2,
           2,
           2,
           2,
           2,
           2,
           2,
           2,
           2,
           2,
           2,
           2,
           2,
           2,
           2,
           2,
           2,
           2,
           2,
           2,
           2,
           2,
           2,
           2,
           2,
           2,
           2,
           2,
           2,
           2,
           2,
           2,
           2,
           2,
           2,
           2,
           2,
           2,
           2,
           2,
           2,
           2,
           2,
           2,
           2,
           2,
           2,
           2,
           2,
           2,
           2,
           2,
           2,
           2,
           2,
           2,
           2,
           2,
           2,
           2,
           2,
           2,
           2,
           2,
           2,
           2,
           2,
           2,
           2,
           2,
           2,
           2,
           2,
           2,
           2,
           2,
           2,
           2,
           2,
           2,
           2,
           2,
           2,
           2,
           2,
           2,
           2,
           2,
           2,
           2,
           2,
           2,
           2,
           2,
           2,
           2,
           2,
           2,
           2,
           2,
           2,
           2,
           2,
           2,
           2,
           2,
           2,
           2,
           2,
           2,
           2,
           2,
           2,
           2,
           2,
           2,
           2,
           2,
           2,
           2,
           2,
           2,
           2,
           2,
           2,
           2,
           2,
           2,
           2,
           2,
           2,
           2,
           2,
           2,
           2,
           2,
           2,
           2,
           2,
           2,
           2,
           2,
           2,
           2,
           2,
           2,
           2,
           2,
           2,
           2,
           2,
           2,
           2,
           2,
           2,
           2,
           2,
           2,
           2,
           2,
           2,
           2,
           2,
           2,
           2,
           2,
           2,
           3,
           3,
           3,
           3,
           3,
           3,
           3,
           3,
           3,
           3,
           3,
           3,
           3,
           3,
           3,
           3,
           3,
           3,
           3,
           3,
           3,
           3,
           3,
           3,
           3,
           3,
           3,
           3,
           3,
           3,
           3,
           3,
           3,
           3,
           3,
           3,
           3,
           3,
           3,
           3,
           3,
           3,
           3,
           3,
           3,
           3,
           3,
           3,
           3,
           3,
           3,
           3,
           3,
           3,
           3,
           3,
           3,
           3,
           3,
           3,
           3,
           3,
           3,
           3,
           3,
           3,
           3,
           3,
           3,
           3,
           3,
           3,
           3,
           3,
           3,
           3,
           3,
           3,
           3,
           3,
           3,
           3,
           3,
           3,
           3,
           3,
           3,
           3,
           3,
           3,
           3,
           3,
           3,
           3,
           3,
           3,
           3,
           3,
           3,
           3,
           3,
           3,
           3,
           3,
           3,
           3,
           3,
           3,
           3,
           3,
           3,
           3,
           3,
           3,
           3,
           3,
           3,
           3,
           3,
           3,
           3,
           3,
           3,
           3,
           3,
           3,
           3,
           3,
           3,
           3,
           3,
           3,
           3,
           3,
           3,
           3,
           3,
           3,
           3,
           3,
           3,
           3,
           3,
           3,
           3,
           3,
           3,
           3,
           3,
           3,
           3,
           3,
           3,
           3,
           3,
           3,
           3,
           3,
           3,
           3,
           3,
           3,
           3,
           3,
           3,
           3,
           3,
           3,
           3,
           3,
           3,
           3,
           3,
           3,
           3,
           3,
           3,
           3,
           3,
           3,
           3,
           3,
           3,
           3,
           3,
           3,
           3,
           3,
           3,
           3,
           3,
           3,
           3,
           3,
           3,
           3,
           3,
           3,
           3,
           3,
           3,
           3,
           3,
           3,
           3,
           3,
           3,
           3,
           3,
           3,
           3,
           3,
           3,
           3,
           3,
           3,
           3,
           3,
           3,
           3,
           3,
           3,
           3,
           3,
           3,
           3,
           3,
           3,
           3,
           3,
           3,
           3,
           3,
           3,
           3,
           3,
           3,
           3,
           3,
           3,
           3,
           3,
           3,
           3,
           3,
           3,
           3,
           3,
           3,
           3,
           3,
           3,
           3,
           3,
           3,
           3,
           3,
           3,
           3,
           3,
           3,
           3,
           3,
           3,
           3,
           3,
           3,
           3,
           3,
           3,
           3,
           3,
           3,
           3,
           3,
           3,
           3,
           3,
           3,
           3,
           3,
           3,
           3,
           3,
           3,
           3,
           3,
           3,
           3,
           3,
           3,
           3,
           3,
           3,
           3,
           3,
           3,
           3,
           3,
           3,
           3,
           3,
           3,
           3,
           3,
           3,
           3,
           3,
           3,
           3,
           3,
           3,
           3,
           3,
           3,
           3,
           3,
           3,
           3,
           3,
           3,
           3,
           3,
           3,
           3,
           3,
           3,
           3,
           3,
           3,
           3,
           3,
           3,
           3,
           3,
           3,
           3,
           3,
           3,
           3,
           3,
           3,
           3,
           3,
           3,
           3,
           3,
           3,
           3,
           3,
           3,
           3,
           3,
           3,
           3,
           3,
           3,
           3,
           3,
           3,
           3,
           3,
           3,
           3,
           3,
           3,
           3,
           3,
           3,
           3,
           3,
           3,
           3,
           3,
           3,
           3,
           3,
           3,
           3,
           3,
           3,
           3,
           3,
           3,
           3,
           3,
           3,
           3,
           3,
           3,
           3,
           3,
           3,
           3,
           3,
           3,
           3,
           3,
           3,
           3,
           3,
           3,
           3,
           3,
           3,
           3,
           3,
           3,
           3,
           3,
           3,
           3,
           3,
           3,
           3,
           3,
           3,
           3,
           3,
           3,
           3,
           3,
           3,
           3,
           3,
           3,
           3,
           3,
           3,
           3,
           3,
           3,
           3,
           3,
           3,
           3,
           3,
           3,
           3,
           3,
           3,
           3,
           3,
           3,
           3,
           3,
           3,
           3,
           3,
           3,
           3,
           3,
           3,
           3,
           3,
           3,
           3,
           3,
           3,
           3,
           3,
           3,
           3,
           3,
           3,
           3,
           3,
           3,
           3,
           3,
           3,
           3,
           3,
           3,
           3,
           3,
           3,
           3,
           3,
           3,
           3,
           3,
           3,
           3,
           3,
           3,
           3,
           3,
           3,
           3,
           3,
           3,
           3,
           3,
           3,
           3,
           3,
           3,
           3,
           3,
           3,
           3,
           3,
           3,
           3,
           3,
           3,
           3,
           3,
           3,
           3,
           3,
           3,
           3,
           3,
           3,
           3,
           3,
           3,
           3,
           3,
           3,
           3,
           3,
           3,
           3,
           3,
           3,
           3,
           3,
           3,
           3,
           3,
           3,
           3,
           3,
           3,
           3,
           3,
           3,
           3,
           3,
           3,
           3,
           3,
           3,
           3,
           3,
           3,
           3,
           3,
           3,
           3,
           3,
           3,
           3,
           3,
           3,
           3,
           3,
           3,
           3,
           3,
           3,
           3,
           3,
           3,
           3,
           3,
           3,
           3,
           3,
           3,
           3,
           3,
           3,
           3,
           3,
           3,
           3,
           3,
           3,
           3,
           3,
           3,
           3,
           3,
           3,
           3,
           3,
           3,
           3,
           3,
           3,
           3,
           3,
           3,
           3,
           3,
           3,
           3,
           3,
           3,
           3,
           3,
           3,
           3,
           3,
           3,
           3,
           3,
           3,
           3,
           3,
           3,
           3,
           3,
           3,
           3,
           3,
           3,
           3,
           3,
           3,
           3,
           3,
           3,
           3,
           3,
           3,
           3,
           3,
           3,
           3,
           3,
           3,
           3,
           3,
           3,
           3,
           3,
           3,
           3,
           3,
           3,
           3,
           3,
           3,
           3,
           3,
           3,
           3,
           3,
           3,
           3,
           3,
           3,
           3,
           3,
           3,
           3,
           3,
           3,
           3,
           3,
           3,
           3,
           3,
           3,
           3,
           3,
           3,
           3,
           3,
           3,
           3,
           3,
           3,
           3,
           3,
           3,
           3,
           3,
           3,
           3,
           3,
           3,
           3,
           3,
           3,
           3,
           3,
           3,
           3,
           4,
           4,
           4,
           4,
           4,
           4,
           4,
           4,
           4,
           4,
           4,
           4,
           4,
           4,
           4,
           4,
           4,
           4,
           4,
           4,
           4,
           4,
           4,
           4,
           4,
           4,
           4,
           4,
           4,
           4,
           4
          ],
          "coloraxis": "coloraxis",
          "size": [
           1,
           1,
           1,
           1,
           1,
           1,
           1,
           1,
           2,
           1,
           1,
           1,
           1,
           1,
           1,
           1,
           2,
           1,
           1,
           1,
           1,
           1,
           1,
           1,
           1,
           1,
           1,
           1,
           1,
           1,
           1,
           6,
           2,
           1,
           1,
           1,
           1,
           1,
           1,
           1,
           1,
           1,
           1,
           1,
           1,
           1,
           1,
           1,
           1,
           1,
           1,
           1,
           1,
           1,
           1,
           2,
           2,
           2,
           1,
           4,
           1,
           1,
           2,
           1,
           1,
           1,
           1,
           1,
           1,
           1,
           1,
           2,
           1,
           1,
           1,
           1,
           1,
           1,
           1,
           1,
           1,
           1,
           67,
           23,
           122,
           69,
           1,
           43,
           47,
           11,
           9,
           2,
           2,
           2,
           1,
           26,
           11,
           1,
           1,
           13,
           7,
           9,
           3,
           28,
           13,
           1,
           54,
           44,
           7,
           3,
           1,
           23,
           14,
           461,
           321,
           21,
           6,
           7,
           2,
           4,
           2,
           3,
           100,
           50,
           98,
           73,
           6,
           1,
           7,
           9,
           1,
           83,
           36,
           3,
           2,
           15,
           10,
           1,
           16,
           9,
           57,
           33,
           2,
           18,
           20,
           154,
           64,
           58,
           34,
           21,
           12,
           1,
           8,
           5,
           2,
           6,
           2,
           19,
           15,
           28,
           15,
           1,
           1,
           2,
           1,
           1,
           5,
           3,
           121,
           66,
           1,
           38,
           28,
           6,
           3,
           11,
           8,
           4,
           5,
           11,
           5,
           5,
           1,
           1,
           1,
           2,
           3,
           1,
           51,
           21,
           4,
           4,
           1,
           3,
           2,
           1,
           67,
           40,
           2,
           2,
           15,
           8,
           2,
           2,
           39,
           13,
           41,
           13,
           4,
           2,
           21,
           7,
           6,
           5,
           2,
           1,
           91,
           40,
           1,
           67,
           41,
           42,
           9,
           5,
           2,
           1,
           95,
           47,
           50,
           41,
           33,
           40,
           1,
           38,
           20,
           8,
           8,
           79,
           79,
           1,
           1,
           44,
           28,
           90,
           74,
           30,
           19,
           17,
           4,
           1,
           66,
           46,
           3,
           6,
           8,
           2,
           1,
           4,
           3,
           5,
           116,
           65,
           4,
           1,
           1,
           1,
           17,
           12,
           2,
           43,
           26,
           37,
           23,
           15,
           3,
           186,
           71,
           54,
           16,
           2,
           48,
           37,
           1,
           35,
           30,
           153,
           87,
           52,
           14,
           8,
           5,
           5,
           3,
           3,
           1,
           24,
           21,
           234,
           99,
           1,
           46,
           36,
           6,
           3,
           161,
           93,
           32,
           21,
           2,
           25,
           16,
           1,
           27,
           10,
           33,
           28,
           48,
           26,
           9,
           4,
           11,
           3,
           3,
           4,
           7,
           3,
           1,
           17,
           15,
           1,
           4,
           5,
           19,
           10,
           47,
           24,
           1,
           2,
           24,
           14,
           2,
           239,
           176,
           186,
           145,
           14,
           6,
           13,
           8,
           526,
           278,
           1,
           11,
           3,
           31,
           30,
           67,
           56,
           26,
           17,
           3,
           2,
           76,
           39,
           6,
           7,
           9,
           14,
           10,
           4,
           5,
           3,
           27,
           21,
           51,
           40,
           1,
           17,
           10,
           2,
           19,
           4,
           5,
           5,
           27,
           19,
           237,
           45,
           6,
           2,
           1,
           4,
           10,
           8,
           2,
           7,
           2,
           20,
           15,
           1,
           384,
           213,
           12,
           2,
           1,
           19,
           16,
           37,
           21,
           1,
           7,
           6,
           14,
           6,
           1,
           2,
           11,
           5,
           18,
           8,
           4,
           6,
           5,
           2,
           1,
           3,
           1,
           157,
           64,
           3,
           15,
           8,
           94,
           43,
           1,
           7,
           9,
           4,
           3,
           44,
           29,
           189,
           56,
           13,
           11,
           1,
           2,
           8,
           2,
           6,
           1,
           143,
           74,
           35,
           12,
           90,
           28,
           9,
           4,
           162,
           69,
           2,
           1,
           1,
           1,
           51,
           33,
           108,
           45,
           6,
           15,
           5,
           3,
           24,
           11,
           1,
           1,
           2,
           61,
           35,
           121,
           78,
           4,
           2,
           3,
           3,
           20,
           8,
           27,
           17,
           2,
           3,
           1,
           4,
           6,
           1,
           1,
           3,
           5,
           86,
           51,
           28,
           5,
           106,
           52,
           8,
           5,
           1,
           1,
           78,
           39,
           108,
           47,
           8,
           2,
           143,
           76,
           13,
           4,
           9,
           15,
           101,
           82,
           21,
           10,
           152,
           101,
           52,
           22,
           1,
           1,
           5,
           1,
           1,
           47,
           33,
           22,
           10,
           2,
           2,
           49,
           69,
           1,
           55,
           24,
           119,
           63,
           1,
           1,
           29,
           11,
           5,
           2,
           3,
           2,
           1,
           1,
           3,
           2,
           2,
           17,
           16,
           1,
           4,
           17,
           266,
           155,
           48,
           28,
           19,
           14,
           33,
           27,
           213,
           131,
           38,
           23,
           71,
           62,
           6,
           1,
           13,
           5,
           18,
           8,
           1,
           2,
           1,
           1,
           22,
           17,
           2,
           1,
           5,
           12,
           104,
           56,
           17,
           14,
           4,
           6,
           5,
           2,
           5,
           2,
           65,
           34,
           11,
           13,
           1,
           7,
           7,
           65,
           77,
           2,
           2,
           25,
           15,
           84,
           47,
           1,
           27,
           11,
           33,
           13,
           4,
           34,
           11,
           9,
           7,
           2,
           8,
           7,
           21,
           7,
           6,
           8,
           7,
           3,
           5,
           1,
           2,
           2,
           43,
           27,
           24,
           16,
           1,
           2,
           5,
           2,
           3,
           12,
           7,
           8,
           2,
           64,
           40,
           6,
           13,
           18,
           10,
           220,
           170,
           2,
           35,
           25,
           46,
           29,
           80,
           60,
           8,
           2,
           2,
           2,
           4,
           10,
           2,
           50,
           29,
           3,
           5,
           9,
           4,
           110,
           34,
           4,
           1,
           5,
           3,
           30,
           8,
           33,
           4,
           19,
           4,
           1,
           64,
           28,
           1,
           33,
           13,
           31,
           3,
           1,
           2,
           10,
           10,
           120,
           44,
           5,
           2,
           9,
           12,
           2,
           14,
           3,
           151,
           40,
           4,
           2,
           6,
           2,
           1,
           221,
           135,
           11,
           11,
           13,
           18,
           15,
           2557,
           2046,
           17,
           14,
           311,
           213,
           8,
           1,
           1,
           7,
           4,
           8,
           10,
           14,
           11,
           10,
           2,
           1,
           3,
           1,
           1,
           45,
           37,
           1,
           151,
           43,
           1,
           11,
           5,
           12,
           8,
           31,
           20,
           15,
           9,
           1,
           1,
           91,
           66,
           5,
           1,
           1,
           7,
           2,
           2,
           1,
           14,
           3,
           5,
           3,
           6,
           3,
           2,
           4,
           4,
           8,
           114,
           52,
           12,
           9,
           3,
           2,
           1,
           9,
           4,
           10,
           9,
           7,
           4,
           2,
           2,
           63,
           45,
           36,
           38,
           30,
           13,
           53,
           23,
           39,
           33,
           3,
           4,
           116,
           109,
           12,
           4,
           8,
           9,
           1,
           1,
           5,
           3,
           7,
           3,
           1,
           1,
           81,
           62,
           47,
           19,
           32,
           32,
           9,
           8,
           42,
           19,
           3,
           2,
           122,
           68,
           97,
           58,
           7,
           5,
           2,
           5,
           10,
           23,
           6,
           4,
           2,
           7,
           8,
           8,
           2,
           160,
           101,
           3,
           1,
           2,
           48,
           23,
           1,
           201,
           144,
           33,
           11,
           66,
           35,
           1,
           1,
           23,
           14,
           48,
           26,
           17,
           7,
           145,
           86,
           4,
           2,
           10,
           10,
           3,
           21,
           6,
           1,
           1,
           2,
           3,
           2,
           1,
           172,
           67,
           5,
           1,
           203,
           117,
           1,
           2,
           2,
           2,
           1,
           4,
           2,
           20,
           7,
           114,
           71,
           11,
           5,
           8,
           3,
           5,
           5,
           3,
           8,
           18,
           16,
           239,
           154,
           10,
           3,
           1,
           7,
           10,
           30,
           10,
           14,
           16,
           2,
           3,
           149,
           55,
           215,
           140,
           54,
           23,
           1,
           81,
           59,
           16,
           32,
           1,
           86,
           54,
           5,
           1,
           8,
           3,
           20,
           9,
           46,
           35,
           2,
           2,
           18,
           6,
           4,
           13,
           11,
           8,
           2,
           46,
           34,
           145,
           112,
           1,
           4,
           4,
           3,
           5,
           3,
           116,
           78,
           2,
           10,
           9,
           17,
           6,
           2,
           2,
           10,
           2,
           1,
           21,
           16,
           14,
           11,
           6,
           2,
           97,
           56,
           11,
           4,
           288,
           128,
           29,
           18,
           1,
           1,
           6,
           7,
           2,
           2,
           14,
           7,
           8,
           5,
           5,
           18,
           8,
           11,
           2,
           2,
           3,
           199,
           94,
           22,
           12,
           146,
           62,
           1,
           1,
           6,
           2,
           9,
           2,
           26,
           14,
           11,
           7,
           3,
           3,
           8,
           6,
           12,
           14,
           232,
           140,
           18,
           3,
           1,
           1,
           55,
           37,
           11,
           1,
           9,
           1,
           2,
           16,
           4,
           2,
           2,
           96,
           38,
           2,
           152,
           90,
           116,
           48,
           3,
           1,
           3,
           2,
           1,
           1,
           1,
           17,
           9,
           9,
           3,
           38,
           49,
           3,
           1,
           180,
           124,
           2,
           3,
           6,
           2,
           4,
           4,
           2,
           2,
           45,
           24,
           28,
           17,
           1,
           3,
           58,
           30,
           24,
           20,
           59,
           31,
           457,
           267,
           37,
           15,
           33,
           13,
           35,
           28,
           2,
           1,
           49,
           33,
           86,
           50,
           4,
           1,
           2,
           310,
           230,
           23,
           12,
           2,
           18,
           9,
           1,
           2452,
           1060,
           43,
           19,
           28,
           30,
           226,
           92,
           34,
           13,
           1,
           203,
           143,
           24,
           11,
           21,
           25,
           5,
           4,
           660,
           367,
           74,
           56,
           11,
           8,
           337,
           218,
           28,
           20,
           5,
           1,
           21,
           14,
           1085,
           640,
           40,
           31,
           21,
           21,
           65,
           45,
           46,
           33,
           104,
           90,
           8,
           3,
           27,
           13,
           320,
           167,
           26,
           19,
           33,
           27,
           2,
           1,
           161,
           88,
           13,
           8,
           13,
           8,
           195,
           97,
           130,
           92,
           223,
           101,
           62,
           37,
           123,
           84,
           31,
           19,
           18,
           17,
           29,
           18,
           472,
           267,
           3,
           12,
           1,
           69,
           17,
           34,
           25,
           1,
           65,
           37,
           49,
           25,
           10,
           8,
           21,
           10,
           69,
           26,
           5,
           4,
           204,
           106,
           71,
           35,
           3,
           1,
           6,
           12,
           4,
           73,
           31,
           4,
           4,
           17,
           8,
           3,
           1,
           2,
           38,
           14,
           8,
           20,
           9,
           117,
           60,
           34,
           26,
           77,
           65,
           10,
           7,
           17,
           27,
           82,
           60,
           1,
           5,
           172,
           73,
           1,
           2,
           6,
           4,
           2,
           1,
           30,
           23,
           4,
           3,
           485,
           136,
           1,
           55,
           66,
           1,
           1,
           12,
           13,
           3,
           2,
           8,
           4,
           31,
           22,
           1,
           2,
           2,
           209,
           103,
           28,
           15,
           1,
           1,
           10,
           2,
           33,
           16,
           55,
           43,
           2,
           1,
           55,
           35,
           4,
           6,
           1,
           1,
           32,
           19,
           18,
           12,
           1,
           22,
           11,
           2,
           3,
           16,
           19,
           112,
           61,
           9,
           8,
           185,
           50,
           1,
           13,
           5,
           41,
           38,
           75,
           54,
           7,
           6,
           10,
           19,
           5,
           2,
           7,
           50,
           38,
           2,
           9,
           1,
           32,
           18,
           37,
           20,
           99,
           50,
           50,
           15,
           1,
           60,
           24,
           54,
           46,
           43,
           28,
           8,
           6,
           5,
           130,
           82,
           1,
           11,
           3,
           6,
           7,
           15,
           14,
           10,
           10,
           99,
           65,
           5,
           81,
           51,
           61,
           44,
           26,
           4,
           3,
           3,
           2,
           4,
           124,
           73,
           1,
           43,
           36,
           1,
           1,
           1,
           2,
           46,
           16,
           6,
           2,
           46,
           29,
           33,
           16,
           4,
           2,
           288,
           216,
           4,
           4,
           5,
           1,
           1,
           15,
           16,
           3,
           1,
           9,
           6,
           35,
           14,
           42,
           26,
           33,
           17,
           1,
           1,
           5,
           16,
           6,
           8,
           16,
           1,
           1,
           2,
           1,
           53,
           15,
           100,
           94,
           5,
           14,
           3,
           1,
           9,
           10,
           1,
           2,
           5,
           2,
           6,
           7,
           7,
           13,
           8,
           2,
           2,
           1,
           2,
           2,
           6,
           5,
           98,
           48,
           141,
           83,
           16,
           7,
           7,
           4,
           2,
           38,
           13,
           116,
           54,
           2,
           6,
           1,
           1,
           2,
           1,
           74,
           82,
           44,
           13,
           139,
           73,
           381,
           330,
           27,
           19,
           5,
           26,
           14,
           73,
           47,
           1,
           1,
           16,
           11,
           71,
           37,
           241,
           153,
           1,
           55,
           45,
           4,
           3,
           11,
           4,
           12,
           3,
           1,
           2,
           1,
           1,
           1,
           18,
           11,
           132,
           102,
           28,
           14,
           1,
           19,
           12,
           4,
           2,
           15,
           14,
           1,
           1,
           2,
           1,
           46,
           14,
           1,
           1,
           5,
           2,
           3,
           6,
           7,
           1,
           1,
           50,
           18,
           98,
           47,
           1,
           1,
           141,
           111,
           44,
           31,
           117,
           75,
           2,
           1,
           1,
           126,
           76,
           2,
           2,
           1,
           2,
           1,
           101,
           59,
           52,
           14,
           26,
           18,
           44,
           44,
           9,
           3,
           6,
           17,
           184,
           131,
           62,
           36,
           1,
           2,
           37,
           35,
           43,
           29,
           1,
           209,
           81,
           2,
           1,
           56,
           62,
           55,
           35,
           28,
           33,
           165,
           93,
           77,
           42,
           74,
           44,
           73,
           48,
           148,
           79,
           21,
           18,
           37,
           22,
           3,
           1,
           30,
           12,
           2,
           4,
           1,
           95,
           62,
           354,
           169,
           55,
           62,
           127,
           55,
           12,
           8,
           2,
           3,
           103,
           55,
           7,
           10,
           3,
           113,
           94,
           14,
           28,
           1,
           62,
           20,
           1,
           1,
           155,
           128,
           2,
           3,
           97,
           31,
           2,
           2,
           1,
           196,
           56,
           2,
           1,
           1,
           395,
           183,
           77,
           31,
           1,
           1,
           11,
           10,
           1,
           140,
           86,
           1,
           57,
           33,
           391,
           241,
           51,
           14,
           2,
           2,
           1,
           2,
           4,
           239,
           189,
           1,
           2,
           49,
           30,
           182,
           74,
           1,
           27,
           29,
           29,
           16,
           1,
           3,
           3,
           6,
           6,
           2,
           3,
           18,
           6,
           8,
           10,
           146,
           83,
           399,
           190,
           1,
           48,
           18,
           97,
           40,
           1,
           2,
           4,
           42,
           8,
           1,
           6,
           7,
           5,
           202,
           134,
           246,
           218,
           1,
           35,
           32,
           34,
           38,
           61,
           27,
           76,
           31,
           1,
           5,
           1,
           83,
           59,
           2,
           2,
           2,
           11,
           23,
           10,
           8,
           63,
           36,
           41,
           25,
           2,
           28,
           28,
           97,
           38,
           72,
           45,
           2,
           2,
           2,
           1,
           311,
           208,
           1,
           29,
           14,
           10,
           13,
           591,
           395,
           13,
           5,
           55,
           27,
           77,
           48,
           3006,
           2172,
           6,
           5,
           7,
           1,
           183,
           119,
           1,
           1,
           1,
           4,
           2,
           23,
           19,
           1,
           71,
           47,
           1,
           1,
           1,
           9,
           3,
           28,
           24,
           3,
           2,
           3,
           1,
           2,
           4,
           4,
           1,
           146,
           102,
           103,
           42,
           58,
           62,
           78,
           28,
           2,
           78,
           69,
           1,
           72,
           28,
           1,
           36,
           22,
           17,
           11,
           25,
           15,
           3,
           2,
           2,
           1,
           5,
           81,
           27,
           3,
           108,
           43,
           143,
           56,
           28,
           12,
           80,
           57,
           6,
           5,
           44,
           15,
           1,
           51,
           23,
           93,
           55,
           2,
           5,
           1,
           280,
           147,
           5,
           1,
           2,
           918,
           489,
           116,
           52,
           309,
           236,
           73,
           41,
           1,
           1,
           2,
           1,
           1,
           1,
           1,
           132,
           98,
           16,
           17,
           1,
           8,
           1,
           81,
           72,
           230,
           164,
           12,
           24,
           12,
           4,
           61,
           21,
           4,
           5,
           1,
           3,
           2,
           3,
           1,
           1,
           15,
           3,
           66,
           36,
           1,
           2,
           1,
           1,
           3,
           1,
           52,
           38,
           314,
           164,
           1,
           143,
           123,
           1,
           1,
           6,
           7,
           1,
           2,
           2,
           1,
           40,
           34,
           1,
           128,
           92,
           5,
           3,
           87,
           53,
           1,
           1,
           1,
           214,
           107,
           1,
           1,
           338,
           197,
           37,
           18,
           14,
           7,
           53,
           30,
           116,
           92,
           7,
           10,
           1142,
           566,
           1,
           3,
           336,
           270,
           70,
           44,
           4,
           4,
           131,
           52,
           1443,
           801,
           62,
           49,
           25,
           22,
           400,
           329,
           35,
           21,
           1,
           735,
           559,
           41,
           20,
           231,
           137,
           73,
           25,
           6,
           5,
           1,
           1,
           14,
           5,
           117,
           83,
           25,
           15,
           14,
           8,
           21,
           12,
           60,
           27,
           20,
           22,
           125,
           73,
           1,
           4,
           17,
           10,
           1,
           1,
           170,
           93,
           70,
           65,
           2,
           5,
           1,
           1,
           2,
           2,
           105,
           49,
           1,
           171,
           86,
           1,
           1,
           10,
           11,
           3,
           5,
           20,
           5,
           1,
           1,
           35,
           30,
           74,
           49,
           1,
           56,
           12,
           1,
           2,
           7,
           7,
           161,
           104,
           1,
           2,
           1,
           39,
           7,
           141,
           92,
           1,
           32,
           16,
           2,
           88,
           63,
           218,
           169,
           1,
           161,
           113,
           1,
           22,
           11,
           1,
           110,
           63,
           365,
           152,
           1,
           4,
           2,
           1,
           131,
           75,
           1,
           115,
           56,
           19,
           10,
           1,
           132,
           90,
           60,
           55,
           169,
           114,
           2,
           1,
           1,
           167,
           78,
           1,
           1,
           3,
           24,
           11,
           17,
           10,
           1,
           1,
           161,
           104,
           8,
           1,
           1,
           214,
           118,
           132,
           64,
           4,
           1,
           1,
           107,
           24,
           15,
           12,
           321,
           194,
           22,
           6,
           5,
           4,
           27,
           17,
           1,
           8,
           6,
           37,
           20,
           3,
           2,
           2,
           18,
           4,
           4,
           1,
           1,
           1,
           1,
           1,
           1,
           1,
           1,
           1,
           1,
           1,
           1,
           1,
           1,
           1,
           1,
           1,
           1,
           3,
           1,
           1,
           1,
           1,
           1,
           1,
           1,
           1,
           1,
           1,
           1,
           1,
           1
          ],
          "sizemode": "area",
          "sizeref": 7.515,
          "symbol": "circle"
         },
         "mode": "markers",
         "name": "",
         "showlegend": false,
         "type": "scattergl",
         "x": [
          "Alpine",
          "American Canyon",
          "Bellflower",
          "Cambridge",
          "Canyon Country",
          "Carlsbad",
          "Chula Vista",
          "Compton",
          "Concord",
          "Corona",
          "Cotati",
          "Culver City",
          "Cupertino",
          "Danville",
          "Diamond Bar",
          "El Sobrante",
          "Elk Grove",
          "Fairfield",
          "Fallbrook",
          "Fontana",
          "Fremont",
          "Fullerton",
          "Gilroy",
          "Greenbrae",
          "Hacienda Heights",
          "Hayward",
          "Hollister",
          "Irwindale",
          "Lake Elsinore",
          "Livermore",
          "Los Altos",
          "Los Angeles",
          "Los Angeles",
          "Lucerne Valley",
          "Manteca",
          "Millbrae",
          "Milpitas",
          "Modesto",
          "Mountain View",
          "Murrieta",
          "Newark",
          "Newport Beach",
          "Norco",
          "North Olmsted",
          "Oak Hills",
          "Oakland",
          "Oakland",
          "Oxnard",
          "Pittsburg",
          "Plymouth",
          "Pomona",
          "Redwood City",
          "Riverside",
          "Riverside",
          "Rowland Heights",
          "Sacramento",
          "San Diego",
          "San Francisco",
          "San Francisco",
          "San Jose",
          "San Jose",
          "San Leandro",
          "San Leandro",
          "San Rafael",
          "San Ramon",
          "Santa Cruz",
          "Santa Rosa",
          "Sausalito",
          "Signal Hill",
          "Spring Valley",
          "Stanford",
          "Sunnyvale",
          "Sunol",
          "Tarzana",
          "Tracy",
          "Union City",
          "Vacaville",
          "Valley Center",
          "Valyermo",
          "Windsor",
          "Winnetka",
          "Yorba Linda",
          "Acampo",
          "Acampo",
          "Acton",
          "Acton",
          "Adelanto",
          "Agoura Hills",
          "Agoura Hills",
          "Aguanga",
          "Aguanga",
          "Akron",
          "Akron",
          "Alameda",
          "Alameda",
          "Alamo",
          "Alamo",
          "Albany",
          "Albion",
          "Alhambra",
          "Alhambra",
          "Aliso Viejo",
          "Aliso Viejo",
          "Alpine",
          "Alpine",
          "Alta",
          "Altadena",
          "Altadena",
          "Alviso",
          "Alviso",
          "Amelia",
          "American Canyon",
          "American Canyon",
          "Anaheim",
          "Anaheim",
          "Angels Camp",
          "Angels Camp",
          "Angelus Oaks",
          "Angelus Oaks",
          "Angwin",
          "Angwin",
          "Annapolis",
          "Antelope",
          "Antelope",
          "Antioch",
          "Antioch",
          "Anza",
          "Anza",
          "Apple Valley",
          "Apple Valley",
          "Applegate",
          "Aptos",
          "Aptos",
          "Arbuckle",
          "Arbuckle",
          "Arcadia",
          "Arcadia",
          "Arleta",
          "Aromas",
          "Aromas",
          "Artesia",
          "Artesia",
          "Atherton",
          "Atwater",
          "Atwater",
          "Auburn",
          "Auburn",
          "Azusa",
          "Azusa",
          "Baldwin Park",
          "Baldwin Park",
          "Ballico",
          "Banning",
          "Banning",
          "Barberton",
          "Batavia",
          "Batavia",
          "Bay Point",
          "Bay Point",
          "Beaumont",
          "Beaumont",
          "Beavercreek",
          "Beavercreek",
          "Bell",
          "Bell Canyon",
          "Bell Canyon",
          "Bell Gardens",
          "Bell Gardens",
          "Bellflower",
          "Bellflower",
          "Bellville",
          "Belmont",
          "Belmont",
          "Belvedere Tiburon",
          "Belvedere Tiburon",
          "Ben Lomond",
          "Ben Lomond",
          "Benicia",
          "Benicia",
          "Berkeley",
          "Berkeley",
          "Bermuda Dunes",
          "Bermuda Dunes",
          "Berry Creek",
          "Bethel",
          "Bethel",
          "Beverly Hills",
          "Beverly Hills",
          "Big Bear City",
          "Big Bear City",
          "Big Bear Lake",
          "Big Bear Lake",
          "Big Sur",
          "Biggs",
          "Birds Landing",
          "Blanchester",
          "Bloomington",
          "Bloomington",
          "Blue Jay",
          "Bodega",
          "Bodega Bay",
          "Bodega Bay",
          "Bolinas",
          "Bolinas",
          "Bonita",
          "Bonita",
          "Bonsall",
          "Bonsall",
          "Borrego Springs",
          "Borrego Springs",
          "Boulder Creek",
          "Boulder Creek",
          "Boulevard",
          "Boulevard",
          "Bowling Green",
          "Bowling Green",
          "Brea",
          "Brea",
          "Brecksville",
          "Brentwood",
          "Brentwood",
          "Brisbane",
          "Brisbane",
          "Brooks",
          "Brooks",
          "Browns Valley",
          "Buena Park",
          "Buena Park",
          "Burbank",
          "Burbank",
          "Burlingame",
          "Burlingame",
          "Butte City",
          "Byron",
          "Byron",
          "Cabazon",
          "Cabazon",
          "Calabasas",
          "Calabasas",
          "Calimesa",
          "Calimesa",
          "Calistoga",
          "Calistoga",
          "Camarillo",
          "Camarillo",
          "Cameron Park",
          "Cameron Park",
          "Camino",
          "Camino",
          "Camp Pendleton",
          "Campbell",
          "Campbell",
          "Campo",
          "Campo",
          "Camptonville",
          "Camptonville",
          "Canal Winchester",
          "Canal Winchester",
          "Canoga Park",
          "Canoga Park",
          "Canyon Country",
          "Canyon Country",
          "Capay",
          "Capay",
          "Capistrano Beach",
          "Capistrano Beach",
          "Capitola",
          "Capitola",
          "Cardiff By the Sea",
          "Carlsbad",
          "Carlsbad",
          "Carmel",
          "Carmel",
          "Carmel Valley",
          "Carmel Valley",
          "Carmichael",
          "Carmichael",
          "Carpinteria",
          "Carpinteria",
          "Carroll",
          "Carson",
          "Carson",
          "Casstown",
          "Castaic",
          "Castaic",
          "Castro Valley",
          "Castro Valley",
          "Castroville",
          "Castroville",
          "Cazadero",
          "Cazadero",
          "Cedar Glen",
          "Cedar Glen",
          "Cedarpines Park",
          "Cedarpines Park",
          "Ceres",
          "Ceres",
          "Cerritos",
          "Cerritos",
          "Challenge",
          "Chatsworth",
          "Chatsworth",
          "Cherry Valley",
          "Cherry Valley",
          "Chino",
          "Chino",
          "Chino Hills",
          "Chino Hills",
          "Chualar",
          "Chula Vista",
          "Chula Vista",
          "Circleville",
          "Citrus Heights",
          "Citrus Heights",
          "City Of Industry",
          "City Of Industry",
          "Claremont",
          "Claremont",
          "Clarksburg",
          "Clarksburg",
          "Clayton",
          "Clayton",
          "Clearlake",
          "Clearlake Oaks",
          "Clearlake Oaks",
          "Cleveland",
          "Cleveland",
          "Cloverdale",
          "Cloverdale",
          "Cobb",
          "Colfax",
          "Colfax",
          "Colton",
          "Colton",
          "Columbus",
          "Columbus",
          "Colusa",
          "Colusa",
          "Commerce",
          "Commerce",
          "Comptche",
          "Compton",
          "Compton",
          "Concord",
          "Concord",
          "Cool",
          "Cool",
          "Copperopolis",
          "Copperopolis",
          "Corona",
          "Corona",
          "Corona del Mar",
          "Coronado",
          "Coronado",
          "Corte Madera",
          "Corte Madera",
          "Costa Mesa",
          "Costa Mesa",
          "Cotati",
          "Cotati",
          "Courtland",
          "Courtland",
          "Covina",
          "Covina",
          "Coyote",
          "Coyote",
          "Crestline",
          "Crestline",
          "Crockett",
          "Crockett",
          "Crows Landing",
          "Crows Landing",
          "Culver City",
          "Culver City",
          "Cupertino",
          "Cupertino",
          "Cypress",
          "Daly City",
          "Daly City",
          "Dana Point",
          "Danville",
          "Danville",
          "Davenport",
          "Davenport",
          "Davis",
          "Davis",
          "Dayton",
          "Dayton",
          "Del Mar",
          "Del Mar",
          "Delaware",
          "Delhi",
          "Delhi",
          "Denair",
          "Denair",
          "Descanso",
          "Descanso",
          "Desert Hot Springs",
          "Desert Hot Springs",
          "Diablo",
          "Diamond Bar",
          "Diamond Bar",
          "Diamond Springs",
          "Diamond Springs",
          "Dillon Beach",
          "Discovery Bay",
          "Discovery Bay",
          "Dixon",
          "Dixon",
          "Dobbins",
          "Dos Palos",
          "Dos Palos",
          "Downey",
          "Downey",
          "Downieville",
          "Downieville",
          "Duarte",
          "Duarte",
          "Dublin",
          "Dublin",
          "Dulzura",
          "Dulzura",
          "Dunnigan",
          "Dunnigan",
          "Dutch Flat",
          "East Palo Alto",
          "East Palo Alto",
          "El Cajon",
          "El Cajon",
          "El Cerrito",
          "El Dorado",
          "El Dorado",
          "El Dorado Hills",
          "El Dorado Hills",
          "El Macero",
          "El Monte",
          "El Monte",
          "El Segundo",
          "El Segundo",
          "El Sobrante",
          "El Sobrante",
          "Elk Grove",
          "Elk Grove",
          "Elverta",
          "Elverta",
          "Elyria",
          "Emerald Hills",
          "Emeryville",
          "Emeryville",
          "Encinitas",
          "Encinitas",
          "Encino",
          "Encino",
          "Escalon",
          "Escalon",
          "Escondido",
          "Escondido",
          "Esparto",
          "Esparto",
          "Fair Oaks",
          "Fair Oaks",
          "Fairborn",
          "Fairborn",
          "Fairfax",
          "Fairfax",
          "Fairfield",
          "Fairfield",
          "Fallbrook",
          "Fallbrook",
          "Farmington",
          "Felton",
          "Felton",
          "Fiddletown",
          "Fillmore",
          "Fillmore",
          "Findlay",
          "Firebaugh",
          "Firebaugh",
          "Folsom",
          "Folsom",
          "Fontana",
          "Fontana",
          "Foothill Ranch",
          "Foothill Ranch",
          "Forest Falls",
          "Forest Falls",
          "Foresthill",
          "Foresthill",
          "Forestville",
          "Forestville",
          "Fort Bragg",
          "Fort Bragg",
          "Foster City",
          "Fountain Valley",
          "Fountain Valley",
          "Frankfort",
          "Fraziers Bottom",
          "Freedom",
          "Freedom",
          "Fremont",
          "Fremont",
          "French Camp",
          "French Camp",
          "Fullerton",
          "Fullerton",
          "Fulton",
          "Fulton",
          "Gallipolis",
          "Galloway",
          "Galt",
          "Galt",
          "Garden Grove",
          "Garden Grove",
          "Garden Valley",
          "Garden Valley",
          "Gardena",
          "Gardena",
          "Georgetown",
          "Georgetown",
          "Geyserville",
          "Geyserville",
          "Gilroy",
          "Gilroy",
          "Glen Ellen",
          "Glen Ellen",
          "Glendale",
          "Glendale",
          "Glendora",
          "Glendora",
          "Glenhaven",
          "Glenn",
          "Gold River",
          "Gold River",
          "Gold Run",
          "Goleta",
          "Goleta",
          "Gonzales",
          "Gonzales",
          "Goshen",
          "Goshen",
          "Granada Hills",
          "Granada Hills",
          "Grand Terrace",
          "Granite Bay",
          "Granite Bay",
          "Grass Valley",
          "Grass Valley",
          "Graton",
          "Graton",
          "Greenbrae",
          "Greenbrae",
          "Greenwood",
          "Greenwood",
          "Gridley",
          "Gridley",
          "Grizzly Flats",
          "Grove City",
          "Groveport",
          "Gualala",
          "Gualala",
          "Guerneville",
          "Guerneville",
          "Guinda",
          "Gustine",
          "Gustine",
          "Hacienda Heights",
          "Hacienda Heights",
          "Half Moon Bay",
          "Half Moon Bay",
          "Harbor City",
          "Harbor City",
          "Hawthorne",
          "Hawthorne",
          "Hayward",
          "Hayward",
          "Healdsburg",
          "Healdsburg",
          "Hemet",
          "Hemet",
          "Herald",
          "Herald",
          "Hercules",
          "Hercules",
          "Hesperia",
          "Hesperia",
          "Hickman",
          "Hickman",
          "Hidden Hills",
          "Hidden Hills",
          "Highland",
          "Highland",
          "Hilliard",
          "Hillsborough",
          "Hilmar",
          "Hilmar",
          "Hollister",
          "Hollister",
          "Homeland",
          "Homeland",
          "Hopland",
          "Hopland",
          "Hughson",
          "Hughson",
          "Huntington Beach",
          "Huntington Beach",
          "Huntington Park",
          "Huntington Park",
          "Idyllwild",
          "Idyllwild",
          "Imperial Beach",
          "Indio",
          "Indio",
          "Inglewood",
          "Inglewood",
          "Inverness",
          "Inverness",
          "Ione",
          "Ione",
          "Irvine",
          "Irvine",
          "Irwindale",
          "Isleton",
          "Isleton",
          "Jackson",
          "Jackson",
          "Jamestown",
          "Jamul",
          "Jamul",
          "Jenner",
          "Jenner",
          "Johnstown",
          "Joshua Tree",
          "Joshua Tree",
          "Julian",
          "Julian",
          "Kelseyville",
          "Kelseyville",
          "Kentfield",
          "Kentfield",
          "Kenwood",
          "Kenwood",
          "Keyes",
          "Knights Landing",
          "La Canada Flintridge",
          "La Canada Flintridge",
          "La Crescenta",
          "La Crescenta",
          "La Grange",
          "La Habra",
          "La Habra",
          "La Habra Heights",
          "La Habra Heights",
          "La Honda",
          "La Honda",
          "La Jolla",
          "La Jolla",
          "La Mesa",
          "La Mesa",
          "La Mirada",
          "La Mirada",
          "La Palma",
          "La Palma",
          "La Puente",
          "La Puente",
          "La Quinta",
          "La Verne",
          "La Verne",
          "Ladera Ranch",
          "Ladera Ranch",
          "Lafayette",
          "Lafayette",
          "Laguna Beach",
          "Laguna Beach",
          "Laguna Hills",
          "Laguna Hills",
          "Laguna Niguel",
          "Lake Arrowhead",
          "Lake Arrowhead",
          "Lake Elsinore",
          "Lake Elsinore",
          "Lake Forest",
          "Lake Forest",
          "Lakeport",
          "Lakeport",
          "Lakeside",
          "Lakeside",
          "Lakewood",
          "Lakewood",
          "Landers",
          "Landers",
          "Larkspur",
          "Larkspur",
          "Lathrop",
          "Lathrop",
          "Lawndale",
          "Lawndale",
          "Lebanon",
          "Lemon Grove",
          "Lemon Grove",
          "Lewis Center",
          "Lincoln",
          "Lincoln",
          "Linden",
          "Linden",
          "Little River",
          "Little River",
          "Littlerock",
          "Littlerock",
          "Livermore",
          "Livermore",
          "Livingston",
          "Livingston",
          "Llano",
          "Llano",
          "Lockbourne",
          "Lockeford",
          "Lockeford",
          "Lodi",
          "Lodi",
          "Loma Linda",
          "Loma Linda",
          "Lompoc",
          "Lompoc",
          "London",
          "Long Beach",
          "Long Beach",
          "Loomis",
          "Loomis",
          "Los Alamitos",
          "Los Altos",
          "Los Altos",
          "Los Angeles",
          "Los Angeles",
          "Los Banos",
          "Los Banos",
          "Los Gatos",
          "Los Gatos",
          "Lotus",
          "Lotus",
          "Lower Lake",
          "Lower Lake",
          "Lucerne",
          "Lucerne",
          "Lucerne Valley",
          "Lucerne Valley",
          "Lynwood",
          "Lynwood",
          "Lytle Creek",
          "Lytle Creek",
          "Madison",
          "Madison",
          "Maineville",
          "Malibu",
          "Malibu",
          "Mansfield",
          "Manteca",
          "Manteca",
          "Maple Heights",
          "March Air Reserve Base",
          "March Air Reserve Base",
          "Marina",
          "Marina",
          "Marina Del Rey",
          "Marina Del Rey",
          "Marina del Rey",
          "Marina del Rey",
          "Marshall",
          "Marshall",
          "Martinez",
          "Martinez",
          "Marysville",
          "Marysville",
          "Mason",
          "Mather",
          "Mather",
          "Maywood",
          "Maywood",
          "McClellan",
          "McClellan",
          "Mcclellan",
          "Mcclellan",
          "Meadow Vista",
          "Meadow Vista",
          "Mendocino",
          "Mendota",
          "Menifee",
          "Menifee",
          "Menlo Park",
          "Menlo Park",
          "Mentone",
          "Mentone",
          "Merced",
          "Merced",
          "Meridian",
          "Miamisburg",
          "Miamisburg",
          "Middletown",
          "Middletown",
          "Midway City",
          "Midway City",
          "Milford",
          "Milford",
          "Mill Valley",
          "Mill Valley",
          "Millbrae",
          "Millbrae",
          "Milpitas",
          "Milpitas",
          "Mira Loma",
          "Mira Loma",
          "Mission Hills",
          "Mission Hills",
          "Mission Viejo",
          "Mission Viejo",
          "Modesto",
          "Modesto",
          "Mokelumne Hill",
          "Mokelumne Hill",
          "Monrovia",
          "Monrovia",
          "Montara",
          "Montara",
          "Montclair",
          "Montclair",
          "Monte Rio",
          "Monte Rio",
          "Monte Sereno",
          "Monte Sereno",
          "Montebello",
          "Montebello",
          "Monterey",
          "Monterey",
          "Monterey Park",
          "Monterey Park",
          "Montrose",
          "Montrose",
          "Moorpark",
          "Moorpark",
          "Moraine",
          "Moraine",
          "Moreno Valley",
          "Moreno Valley",
          "Morgan Hill",
          "Morgan Hill",
          "Morongo Valley",
          "Morongo Valley",
          "Moscow",
          "Moss Beach",
          "Moss Beach",
          "Moss Landing",
          "Moss Landing",
          "Mount Hamilton",
          "Mount Hamilton",
          "Mountain Center",
          "Mountain Center",
          "Mountain Ranch",
          "Mountain Ranch",
          "Mountain View",
          "Mountain View",
          "Mt Baldy",
          "Mt Baldy",
          "Muir Beach",
          "Murrieta",
          "Murrieta",
          "N/A",
          "Napa",
          "Napa",
          "National City",
          "National City",
          "Nevada City",
          "Nevada City",
          "New Carlisle",
          "New Richmond",
          "Newark",
          "Newark",
          "Newbury Park",
          "Newbury Park",
          "Newcastle",
          "Newcastle",
          "Newhall",
          "Newhall",
          "Newman",
          "Newman",
          "Newport Beach",
          "Newport Beach",
          "Newport Coast",
          "Nicasio",
          "Nicasio",
          "Nice",
          "Nice",
          "Nicolaus",
          "Norco",
          "Norco",
          "North Baltimore",
          "North Highlands",
          "North Highlands",
          "North Hills",
          "North Hills",
          "North Hollywood",
          "North Hollywood",
          "North Olmsted",
          "North Palm Springs",
          "North Palm Springs",
          "North San Juan",
          "North San Juan",
          "Northridge",
          "Northridge",
          "Norwalk",
          "Norwalk",
          "Novato",
          "Novato",
          "Nuevo",
          "Nuevo",
          "Oak Hills",
          "Oak Hills",
          "Oak Park",
          "Oak Park",
          "Oak View",
          "Oak View",
          "Oakdale",
          "Oakdale",
          "Oakland",
          "Oakland",
          "Oakley",
          "Oakley",
          "Oberlin",
          "Occidental",
          "Occidental",
          "Oceanside",
          "Oceanside",
          "Ojai",
          "Ojai",
          "Olivehurst",
          "Olivehurst",
          "Ontario",
          "Ontario",
          "Orange",
          "Orange",
          "Orangevale",
          "Orangevale",
          "Oregon House",
          "Orinda",
          "Orinda",
          "Oroville",
          "Oroville",
          "Owensville",
          "Oxnard",
          "Oxnard",
          "Pacheco",
          "Pacheco",
          "Pacific Palisades",
          "Pacific Palisades",
          "Pacifica",
          "Pacifica",
          "Pacoima",
          "Pacoima",
          "Paicines",
          "Paicines",
          "Pala",
          "Pala",
          "Palermo",
          "Palm Desert",
          "Palm Desert",
          "Palm Springs",
          "Palm Springs",
          "Palmdale",
          "Palmdale",
          "Palo Alto",
          "Palo Alto",
          "Palos Verdes Peninsula",
          "Palos Verdes Peninsula",
          "Panorama City",
          "Panorama City",
          "Paramount",
          "Paramount",
          "Pasadena",
          "Pasadena",
          "Pataskala",
          "Patterson",
          "Patterson",
          "Pauma Valley",
          "Pauma Valley",
          "Pearblossom",
          "Pearblossom",
          "Pebble Beach",
          "Pebble Beach",
          "Peebles",
          "Penn Valley",
          "Penn Valley",
          "Penngrove",
          "Penngrove",
          "Penryn",
          "Penryn",
          "Perris",
          "Perris",
          "Pescadero",
          "Pescadero",
          "Petaluma",
          "Petaluma",
          "Phelan",
          "Phelan",
          "Pickerington",
          "Pickerington",
          "Pico Rivera",
          "Pico Rivera",
          "Pilot Hill",
          "Pilot Hill",
          "Pine Grove",
          "Pine Grove",
          "Pine Valley",
          "Pinole",
          "Pinole",
          "Pinon Hills",
          "Pinon Hills",
          "Pioneer",
          "Pioneer",
          "Piru",
          "Piru",
          "Pittsburg",
          "Pittsburg",
          "Placentia",
          "Placentia",
          "Placerville",
          "Placerville",
          "Playa Del Rey",
          "Playa del Rey",
          "Pleasant Grove",
          "Pleasant Grove",
          "Pleasant Hill",
          "Pleasant Hill",
          "Pleasanton",
          "Pleasanton",
          "Plymouth",
          "Plymouth",
          "Point Mugu Nawc",
          "Point Mugu Nawc",
          "Point Reyes Station",
          "Point Reyes Station",
          "Pollock Pines",
          "Pollock Pines",
          "Pomona",
          "Pomona",
          "Pope Valley",
          "Pope Valley",
          "Port Costa",
          "Port Hueneme",
          "Porter Ranch",
          "Porter Ranch",
          "Portola Valley",
          "Portola Valley",
          "Potrero",
          "Potter Valley",
          "Potter Valley",
          "Poway",
          "Poway",
          "Princeton",
          "Princeton",
          "Ramona",
          "Ramona",
          "Ranchita",
          "Rancho Cordova",
          "Rancho Cordova",
          "Rancho Cucamonga",
          "Rancho Cucamonga",
          "Rancho Dominguez",
          "Rancho Dominguez",
          "Rancho Mirage",
          "Rancho Mirage",
          "Rancho Murieta",
          "Rancho Murieta",
          "Rancho Palos Verdes",
          "Rancho Santa Fe",
          "Rancho Santa Fe",
          "Rancho Santa Margarita",
          "Rancho Santa Margarita",
          "Redlands",
          "Redlands",
          "Redondo Beach",
          "Redondo Beach",
          "Redwood City",
          "Redwood City",
          "Redwood Valley",
          "Redwood Valley",
          "Rescue",
          "Rescue",
          "Reseda",
          "Reseda",
          "Reynoldsburg",
          "Reynoldsburg",
          "Rialto",
          "Rialto",
          "Richmond",
          "Richmond",
          "Rimforest",
          "Rimforest",
          "Rio Linda",
          "Rio Linda",
          "Rio Vista",
          "Rio Vista",
          "Ripon",
          "Ripon",
          "Riverside",
          "Riverside",
          "Rocklin",
          "Rocklin",
          "Rodeo",
          "Rodeo",
          "Rohnert Park",
          "Rohnert Park",
          "Rolling Hills Estates",
          "Rolling Hills Estates",
          "Rosemead",
          "Rosemead",
          "Roseville",
          "Roseville",
          "Rough And Ready",
          "Rough And Ready",
          "Rough and Ready",
          "Rowland Heights",
          "Rowland Heights",
          "Royal Oaks",
          "Royal Oaks",
          "Rumsey",
          "Running Springs",
          "Running Springs",
          "Sabina",
          "Sacramento",
          "Sacramento",
          "Saint Helena",
          "Saint Helena",
          "Salida",
          "Salida",
          "Salinas",
          "Salinas",
          "San Andreas",
          "San Andreas",
          "San Anselmo",
          "San Bernardino",
          "San Bernardino",
          "San Bruno",
          "San Bruno",
          "San Carlos",
          "San Carlos",
          "San Clemente",
          "San Clemente",
          "San Diego",
          "San Diego",
          "San Dimas",
          "San Dimas",
          "San Fernando",
          "San Fernando",
          "San Francisco",
          "San Francisco",
          "San Gabriel",
          "San Gabriel",
          "San Gregorio",
          "San Gregorio",
          "San Jacinto",
          "San Jacinto",
          "San Jose",
          "San Jose",
          "San Juan Bautista",
          "San Juan Bautista",
          "San Juan Capistrano",
          "San Juan Capistrano",
          "San Leandro",
          "San Leandro",
          "San Lorenzo",
          "San Lorenzo",
          "San Marcos",
          "San Marcos",
          "San Marino",
          "San Marino",
          "San Martin",
          "San Martin",
          "San Mateo",
          "San Mateo",
          "San Pablo",
          "San Pablo",
          "San Pedro",
          "San Pedro",
          "San Quentin",
          "San Quentin",
          "San Rafael",
          "San Rafael",
          "San Ramon",
          "San Ramon",
          "San Ysidro",
          "San Ysidro",
          "Santa Ana",
          "Santa Ana",
          "Santa Barbara",
          "Santa Barbara",
          "Santa Clara",
          "Santa Clara",
          "Santa Clarita",
          "Santa Clarita",
          "Santa Cruz",
          "Santa Cruz",
          "Santa Fe Springs",
          "Santa Fe Springs",
          "Santa Monica",
          "Santa Monica",
          "Santa Paula",
          "Santa Paula",
          "Santa Rosa",
          "Santa Rosa",
          "Santa Rosa Valley",
          "Santa Ysabel",
          "Santa Ysabel",
          "Santee",
          "Santee",
          "Saratoga",
          "Saratoga",
          "Sardinia",
          "Sausalito",
          "Sausalito",
          "Scotts Valley",
          "Scotts Valley",
          "Seal Beach",
          "Seal Beach",
          "Seaside",
          "Seaside",
          "Sebastopol",
          "Sebastopol",
          "Sheridan",
          "Sheridan",
          "Sherman Oaks",
          "Sherman Oaks",
          "Shingle Springs",
          "Shingle Springs",
          "Sierra City",
          "Sierra City",
          "Signal Hill",
          "Silverado",
          "Silverado",
          "Simi Valley",
          "Simi Valley",
          "Skyforest",
          "Skyforest",
          "Sloughhouse",
          "Sloughhouse",
          "Smartsville",
          "Smartsville",
          "Solana Beach",
          "Soledad",
          "Soledad",
          "Somerset",
          "Somis",
          "Somis",
          "Sonoma",
          "Sonoma",
          "Soquel",
          "Soquel",
          "South El Monte",
          "South El Monte",
          "South Gate",
          "South Gate",
          "South Pasadena",
          "South Pasadena",
          "South San Francisco",
          "South San Francisco",
          "Southeast Marin",
          "Southeast Marin",
          "Spring Valley",
          "Spring Valley",
          "Springboro",
          "Springboro",
          "Stanford",
          "Stanford",
          "Stanton",
          "Stanton",
          "Stevenson Ranch",
          "Stevenson Ranch",
          "Stevinson",
          "Stevinson",
          "Stockton",
          "Stockton",
          "Stonyford",
          "Studio City",
          "Studio City",
          "Sugarloaf",
          "Sugarloaf",
          "Suisun City",
          "Suisun City",
          "Summerland",
          "Summerland",
          "Sun City",
          "Sun City",
          "Sun Valley",
          "Sun Valley",
          "Sunbury",
          "Sunland",
          "Sunland",
          "Sunnyvale",
          "Sunnyvale",
          "Sunol",
          "Sunol",
          "Sunset Beach",
          "Sutter",
          "Sutter Creek",
          "Sutter Creek",
          "Sylmar",
          "Sylmar",
          "Tarzana",
          "Tarzana",
          "Tecate",
          "Tecate",
          "Temecula",
          "Temecula",
          "Temple City",
          "Temple City",
          "The Sea Ranch",
          "The Sea Ranch",
          "Thousand Oaks",
          "Thousand Oaks",
          "Thousand Palms",
          "Thousand Palms",
          "Tiro",
          "Toluca Lake",
          "Toluca Lake",
          "Tomales",
          "Tomales",
          "Topanga",
          "Topanga",
          "Torrance",
          "Torrance",
          "Trabuco Canyon",
          "Trabuco Canyon",
          "Tracy",
          "Tracy",
          "Travis Afb",
          "Tujunga",
          "Tujunga",
          "Turlock",
          "Turlock",
          "Tustin",
          "Tustin",
          "Twin Peaks",
          "Twin Peaks",
          "Ukiah",
          "Ukiah",
          "Union City",
          "Universal City",
          "Universal City",
          "Upland",
          "Upland",
          "Upper Lake",
          "Upper Lake",
          "Urbancrest",
          "Vacaville",
          "Vacaville",
          "Valencia",
          "Valencia",
          "Vallejo",
          "Vallejo",
          "Valley Center",
          "Valley Center",
          "Valley Ford",
          "Valley Springs",
          "Valley Springs",
          "Valley Village",
          "Valley Village",
          "Valyermo",
          "Valyermo",
          "Van Nuys",
          "Van Nuys",
          "Venice",
          "Ventura",
          "Ventura",
          "Vermilion",
          "Vernalis",
          "Vernalis",
          "Vernon",
          "Vernon",
          "Victorville",
          "Victorville",
          "View Park",
          "View Park",
          "Vista",
          "Vista",
          "Volcano",
          "Walnut",
          "Walnut",
          "Walnut Creek",
          "Walnut Creek",
          "Walnut Grove",
          "Walnut Grove",
          "Warner Springs",
          "Warner Springs",
          "Waterford",
          "Waterford",
          "Watsonville",
          "Watsonville",
          "Waynesville",
          "West Covina",
          "West Covina",
          "West Hills",
          "West Hollywood",
          "West Hollywood",
          "West Point",
          "West Sacramento",
          "West Sacramento",
          "Westerville",
          "Westerville",
          "Westlake Village",
          "Westlake Village",
          "Westminster",
          "Westminster",
          "Wheatland",
          "Whitewater",
          "Whittier",
          "Whittier",
          "Wildomar",
          "Wildomar",
          "Williams",
          "Williams",
          "Williamsburg",
          "Willits",
          "Willits",
          "Willows",
          "Willows",
          "Wilmington",
          "Wilmington",
          "Wilton",
          "Wilton",
          "Winchester",
          "Winchester",
          "Windsor",
          "Windsor",
          "Windsor Hills",
          "Windsor Hills",
          "Winnetka",
          "Winters",
          "Winters",
          "Winton",
          "Winton",
          "Woodacre",
          "Woodacre",
          "Woodbridge",
          "Woodbridge",
          "Woodland",
          "Woodland",
          "Woodland Hills",
          "Woodland Hills",
          "Woodside",
          "Wrightwood",
          "Wrightwood",
          "Xenia",
          "Yorba Linda",
          "Yorba Linda",
          "Yorkville",
          "Yorkville",
          "Yountville",
          "Yountville",
          "Yuba City",
          "Yucaipa",
          "Yucaipa",
          "Yucca Valley",
          "Yucca Valley",
          "Zamora",
          "Zamora",
          "Acton",
          "Acton",
          "Agoura Hills",
          "Akron",
          "Akron",
          "Alamo",
          "Alamo",
          "Alhambra",
          "Alhambra",
          "Alpine",
          "Alpine",
          "Alta",
          "Alta",
          "Altadena",
          "American Canyon",
          "American Canyon",
          "Anaheim",
          "Anaheim",
          "Antelope",
          "Applegate",
          "Applegate",
          "Aptos",
          "Arbuckle",
          "Arbuckle",
          "Arcadia",
          "Arcadia",
          "Auburn",
          "Auburn",
          "Azusa",
          "Azusa",
          "Baldwin Park",
          "Baldwin Park",
          "Banning",
          "Banning",
          "Barberton",
          "Beaumont",
          "Beaumont",
          "Bell Gardens",
          "Bell Gardens",
          "Bellflower",
          "Bellflower",
          "Belmont",
          "Belmont",
          "Benicia",
          "Benicia",
          "Berkeley",
          "Berkeley",
          "Bloomingburg",
          "Bloomington",
          "Bloomington",
          "Bonita",
          "Bonita",
          "Bonsall",
          "Bonsall",
          "Boulevard",
          "Bowling Green",
          "Bowling Green",
          "Brea",
          "Brentwood",
          "Brentwood",
          "Brookpark",
          "Buena Park",
          "Buena Park",
          "Burbank",
          "Burbank",
          "Burlingame",
          "Burlingame",
          "Byron",
          "Cabazon",
          "Cabazon",
          "Calabasas",
          "Calabasas",
          "Calimesa",
          "Calimesa",
          "Calistoga",
          "Calistoga",
          "Camarillo",
          "Camarillo",
          "Camp Pendleton",
          "Camp Pendleton",
          "Campbell",
          "Campbell",
          "Campo",
          "Canyon Country",
          "Canyon Country",
          "Capistrano Beach",
          "Capistrano Beach",
          "Capitola",
          "Capitola",
          "Cardiff By the Sea",
          "Cardiff By the Sea",
          "Carlsbad",
          "Carlsbad",
          "Carmichael",
          "Carpinteria",
          "Carson",
          "Carson",
          "Castaic",
          "Castaic",
          "Castro Valley",
          "Castro Valley",
          "Cathedral City",
          "Cedar Glen",
          "Ceres",
          "Cerritos",
          "Cerritos",
          "Chatsworth",
          "Chatsworth",
          "Chino",
          "Chino",
          "Chino Hills",
          "Chula Vista",
          "Chula Vista",
          "Citrus Heights",
          "Citrus Heights",
          "City Of Industry",
          "City Of Industry",
          "Claremont",
          "Claremont",
          "Cleveland",
          "Cleveland",
          "Colfax",
          "Colfax",
          "Colton",
          "Colton",
          "Columbus",
          "Columbus",
          "Commerce",
          "Commerce",
          "Compton",
          "Compton",
          "Concord",
          "Concord",
          "Cool",
          "Corona",
          "Corona",
          "Corte Madera",
          "Corte Madera",
          "Costa Mesa",
          "Costa Mesa",
          "Covina",
          "Covina",
          "Crockett",
          "Crockett",
          "Culver City",
          "Culver City",
          "Cupertino",
          "Cupertino",
          "Daly City",
          "Daly City",
          "Danville",
          "Danville",
          "Davis",
          "Davis",
          "Dayton",
          "Dayton",
          "Del Mar",
          "Del Mar",
          "Descanso",
          "Descanso",
          "Desert Hot Springs",
          "Desert Hot Springs",
          "Diamond Bar",
          "Diamond Bar",
          "Diamond Springs",
          "Dixon",
          "Dixon",
          "Downey",
          "Downey",
          "Duarte",
          "Duarte",
          "Dublin",
          "Dublin",
          "Dunnigan",
          "Dunnigan",
          "Dutch Flat",
          "Dutch Flat",
          "El Cajon",
          "El Cajon",
          "El Cerrito",
          "El Cerrito",
          "El Dorado Hills",
          "El Monte",
          "El Monte",
          "El Segundo",
          "El Segundo",
          "El Sobrante",
          "Elk Grove",
          "Elk Grove",
          "Elyria",
          "Elyria",
          "Emeryville",
          "Emeryville",
          "Emigrant Gap",
          "Emigrant Gap",
          "Encinitas",
          "Encinitas",
          "Encino",
          "Encino",
          "Escalon",
          "Escondido",
          "Escondido",
          "Fair Oaks",
          "Fairborn",
          "Fairborn",
          "Fairfield",
          "Fairfield",
          "Fallbrook",
          "Fallbrook",
          "Fillmore",
          "Findlay",
          "Firebaugh",
          "Firebaugh",
          "Folsom",
          "Fontana",
          "Fontana",
          "Foresthill",
          "Fountain Valley",
          "Fountain Valley",
          "Fremont",
          "Fremont",
          "French Camp",
          "French Camp",
          "Galena",
          "Galt",
          "Galt",
          "Garden Grove",
          "Garden Grove",
          "Gardena",
          "Gardena",
          "Gilroy",
          "Gilroy",
          "Glendale",
          "Glendale",
          "Glendora",
          "Glendora",
          "Goleta",
          "Granada Hills",
          "Granada Hills",
          "Grand Terrace",
          "Grand Terrace",
          "Grass Valley",
          "Grove City",
          "Grove City",
          "Gustine",
          "Gustine",
          "Hacienda Heights",
          "Hacienda Heights",
          "Half Moon Bay",
          "Half Moon Bay",
          "Hawaiian Gardens",
          "Hawaiian Gardens",
          "Hawthorne",
          "Hawthorne",
          "Hayward",
          "Hayward",
          "Healdsburg",
          "Hercules",
          "Hercules",
          "Hesperia",
          "Hesperia",
          "Highland",
          "Highland",
          "Hollister",
          "Huntington Beach",
          "Huntington Beach",
          "Hurricane",
          "Independence",
          "Indio",
          "Indio",
          "Inglewood",
          "Inglewood",
          "Irvine",
          "Irvine",
          "Julian",
          "La Canada Flintridge",
          "La Canada Flintridge",
          "La Crescenta",
          "La Crescenta",
          "La Jolla",
          "La Jolla",
          "La Mesa",
          "La Mesa",
          "La Mirada",
          "La Mirada",
          "La Palma",
          "La Puente",
          "La Puente",
          "La Verne",
          "La Verne",
          "Lafayette",
          "Laguna Hills",
          "Laguna Hills",
          "Laguna Niguel",
          "Laguna Niguel",
          "Lake Elsinore",
          "Lake Elsinore",
          "Lake Forest",
          "Lake Forest",
          "Lakeside",
          "Lakewood",
          "Lakewood",
          "Lathrop",
          "Lathrop",
          "Lawndale",
          "Lawndale",
          "Lemon Grove",
          "Lemon Grove",
          "Lima",
          "Linden",
          "Livermore",
          "Livermore",
          "Livingston",
          "Lodi",
          "Lodi",
          "Loma Linda",
          "Loma Linda",
          "Long Beach",
          "Long Beach",
          "Loomis",
          "Loomis",
          "Los Alamitos",
          "Los Alamitos",
          "Los Altos",
          "Los Altos",
          "Los Angeles",
          "Los Angeles",
          "Los Banos",
          "Los Banos",
          "Los Gatos",
          "Los Gatos",
          "Lynwood",
          "Lynwood",
          "Madison",
          "Madison",
          "Mansfield",
          "Manteca",
          "Maple Heights",
          "March Air Reserve Base",
          "March Air Reserve Base",
          "Marina",
          "Martinez",
          "Martinez",
          "Maxwell",
          "Maxwell",
          "McClellan",
          "Mendota",
          "Mendota",
          "Menifee",
          "Menifee",
          "Menlo Park",
          "Menlo Park",
          "Miamisburg",
          "Milan",
          "Mill Valley",
          "Millbrae",
          "Millbrae",
          "Millersport",
          "Milpitas",
          "Milpitas",
          "Mira Loma",
          "Mira Loma",
          "Mission Hills",
          "Mission Hills",
          "Mission Viejo",
          "Mission Viejo",
          "Modesto",
          "Monrovia",
          "Monrovia",
          "Montara",
          "Montclair",
          "Montclair",
          "Montebello",
          "Monterey Park",
          "Monterey Park",
          "Montrose",
          "Montrose",
          "Moreno Valley",
          "Moreno Valley",
          "Morgan Hill",
          "Mount Sterling",
          "Mountain View",
          "Mountain View",
          "Mt Baldy",
          "Murrieta",
          "Murrieta",
          "Napa",
          "National City",
          "National City",
          "Newark",
          "Newark",
          "Newcastle",
          "Newcastle",
          "Newhall",
          "Newhall",
          "Newman",
          "Newman",
          "Norco",
          "Norco",
          "Norden",
          "North Highlands",
          "North Highlands",
          "North Hills",
          "North Hills",
          "North Hollywood",
          "North Hollywood",
          "North Olmsted",
          "Norwalk",
          "Norwalk",
          "Novato",
          "Novato",
          "Oak Hills",
          "Oakland",
          "Oakland",
          "Oceanside",
          "Oceanside",
          "Ontario",
          "Ontario",
          "Orange",
          "Orange",
          "Orangevale",
          "Oregonia",
          "Orient",
          "Oroville",
          "Oxnard",
          "Pacheco",
          "Pacifica",
          "Pacoima",
          "Pacoima",
          "Palm Desert",
          "Palm Desert",
          "Palmdale",
          "Palo Alto",
          "Palo Alto",
          "Paramount",
          "Paramount",
          "Pasadena",
          "Pasadena",
          "Patterson",
          "Patterson",
          "Penryn",
          "Penryn",
          "Perris",
          "Perris",
          "Petaluma",
          "Phelan",
          "Phelan",
          "Pickerington",
          "Pickerington",
          "Pico Rivera",
          "Pico Rivera",
          "Pine Grove",
          "Pine Valley",
          "Pine Valley",
          "Pinole",
          "Pinole",
          "Pinon Hills",
          "Piqua",
          "Piqua",
          "Pittsburg",
          "Placerville",
          "Placerville",
          "Pleasant Hill",
          "Pleasant Hill",
          "Pleasanton",
          "Pleasanton",
          "Plymouth",
          "Pomona",
          "Pomona",
          "Porter Ranch",
          "Porter Ranch",
          "Portola Valley",
          "Portola Valley",
          "Potrero",
          "Ramona",
          "Rancho Cordova",
          "Rancho Cordova",
          "Rancho Cucamonga",
          "Rancho Cucamonga",
          "Rancho Mirage",
          "Redlands",
          "Redlands",
          "Redondo Beach",
          "Redondo Beach",
          "Redwood City",
          "Redwood City",
          "Reynoldsburg",
          "Rialto",
          "Rialto",
          "Richmond",
          "Richmond",
          "Rio Vista",
          "Ripon",
          "Riverside",
          "Riverside",
          "Rocklin",
          "Rocklin",
          "Rodeo",
          "Rodeo",
          "Rosemead",
          "Rosemead",
          "Roseville",
          "Roseville",
          "Rowland Heights",
          "Rowland Heights",
          "Sacramento",
          "Sacramento",
          "Saint Helena",
          "Salinas",
          "San Bernardino",
          "San Bernardino",
          "San Bruno",
          "San Bruno",
          "San Carlos",
          "San Carlos",
          "San Clemente",
          "San Clemente",
          "San Diego",
          "San Diego",
          "San Dimas",
          "San Dimas",
          "San Fernando",
          "San Fernando",
          "San Francisco",
          "San Francisco",
          "San Gabriel",
          "San Gabriel",
          "San Jacinto",
          "San Jose",
          "San Jose",
          "San Juan Capistrano",
          "San Juan Capistrano",
          "San Leandro",
          "San Leandro",
          "San Lorenzo",
          "San Lorenzo",
          "San Marcos",
          "San Marcos",
          "San Martin",
          "San Martin",
          "San Mateo",
          "San Mateo",
          "San Pablo",
          "San Pablo",
          "San Pedro",
          "San Pedro",
          "San Quentin",
          "San Quentin",
          "San Rafael",
          "San Rafael",
          "San Ramon",
          "San Ramon",
          "San Ysidro",
          "San Ysidro",
          "Santa Ana",
          "Santa Ana",
          "Santa Barbara",
          "Santa Barbara",
          "Santa Clara",
          "Santa Clara",
          "Santa Cruz",
          "Santa Cruz",
          "Santa Fe Springs",
          "Santa Fe Springs",
          "Santa Monica",
          "Santa Monica",
          "Santa Paula",
          "Santa Rosa",
          "Santee",
          "Saratoga",
          "Sausalito",
          "Sausalito",
          "Seal Beach",
          "Seal Beach",
          "Seville",
          "Sherman Oaks",
          "Sherman Oaks",
          "Shingle Springs",
          "Shingle Springs",
          "Signal Hill",
          "Signal Hill",
          "Soda Springs",
          "Soda Springs",
          "Solana Beach",
          "Solana Beach",
          "Soledad",
          "Soledad",
          "South El Monte",
          "South El Monte",
          "South Gate",
          "South Gate",
          "South Pasadena",
          "South San Francisco",
          "South San Francisco",
          "Spring Valley",
          "Springfield",
          "Stevenson Ranch",
          "Stevenson Ranch",
          "Stockton",
          "Stockton",
          "Strongsville",
          "Studio City",
          "Studio City",
          "Sun City",
          "Sun City",
          "Sun Valley",
          "Sun Valley",
          "Sunbury",
          "Sunland",
          "Sunland",
          "Sunnyvale",
          "Sunol",
          "Sunol",
          "Sylmar",
          "Sylmar",
          "Tarzana",
          "Temecula",
          "Temecula",
          "Thousand Oaks",
          "Thousand Palms",
          "Thousand Palms",
          "Tipp City",
          "Torrance",
          "Torrance",
          "Tracy",
          "Tracy",
          "Troy",
          "Tujunga",
          "Tujunga",
          "Turlock",
          "Tustin",
          "Tustin",
          "Twin Peaks",
          "Union City",
          "Union City",
          "Upland",
          "Upland",
          "Upper Lake",
          "Vacaville",
          "Vacaville",
          "Valencia",
          "Valencia",
          "Vallejo",
          "Vallejo",
          "Valley Center",
          "Valley Village",
          "Valyermo",
          "Van Nuys",
          "Van Nuys",
          "Vandalia",
          "Ventura",
          "Ventura",
          "Victorville",
          "Victorville",
          "Vista",
          "Vista",
          "Walnut",
          "Walnut",
          "Walnut Creek",
          "Walnut Creek",
          "Walnut Grove",
          "Watsonville",
          "West Contra Costa",
          "West Covina",
          "West Covina",
          "West Sacramento",
          "West Sacramento",
          "Westerville",
          "Westerville",
          "Westlake Village",
          "Westminster",
          "Westminster",
          "Whitewater",
          "Whitewater",
          "Whittier",
          "Whittier",
          "Wildomar",
          "Wildomar",
          "Willows",
          "Willows",
          "Wilmington",
          "Wilmington",
          "Winchester",
          "Winters",
          "Winters",
          "Woodland",
          "Woodland",
          "Woodland Hills",
          "Woodland Hills",
          "Woodside",
          "Yucaipa",
          "Yucaipa",
          "Zamora",
          "Zanesville",
          "Burbank",
          "Calistoga",
          "Colton",
          "Columbus",
          "Crockett",
          "Culver City",
          "Danville",
          "Downey",
          "Dublin",
          "El Monte",
          "Emeryville",
          "Fairfield",
          "Hawthorne",
          "Hercules",
          "Irvine",
          "Livermore",
          "Long Beach",
          "Los Angeles",
          "Monterey Park",
          "Montrose",
          "Pacoima",
          "Royal Oaks",
          "Sacramento",
          "San Bruno",
          "San Diego",
          "San Diego",
          "San Jose",
          "San Jose",
          "San Leandro",
          "Santa Ana",
          "Sylmar"
         ],
         "xaxis": "x",
         "y": [
          "Day",
          "Day",
          "Day",
          "Day",
          "Night",
          "Day",
          "Day",
          "Day",
          "Night",
          "Day",
          "Night",
          "Day",
          "Night",
          "Night",
          "Day",
          "Night",
          "Day",
          "Night",
          "Day",
          "Day",
          "Night",
          "Night",
          "Day",
          "Night",
          "Day",
          "Night",
          "Day",
          "Day",
          "Night",
          "Night",
          "Night",
          "Day",
          "Night",
          "Day",
          "Day",
          "Day",
          "Day",
          "Day",
          "Night",
          "Night",
          "Night",
          "Day",
          "Day",
          "Day",
          "Day",
          "Day",
          "Night",
          "Day",
          "Night",
          "Day",
          "Night",
          "Night",
          "Day",
          "Night",
          "Day",
          "Day",
          "Day",
          "Day",
          "Night",
          "Day",
          "Night",
          "Day",
          "Night",
          "Night",
          "Day",
          "Day",
          "Night",
          "Night",
          "Night",
          "Day",
          "Night",
          "Night",
          "Night",
          "Day",
          "Night",
          "Day",
          "Day",
          "Day",
          "Day",
          "Night",
          "Night",
          "Day",
          "Day",
          "Night",
          "Day",
          "Night",
          "Night",
          "Day",
          "Night",
          "Day",
          "Night",
          "Day",
          "Night",
          "Day",
          "Night",
          "Day",
          "Night",
          "Night",
          "Night",
          "Day",
          "Night",
          "Day",
          "Night",
          "Day",
          "Night",
          "Day",
          "Day",
          "Night",
          "Day",
          "Night",
          "Night",
          "Day",
          "Night",
          "Day",
          "Night",
          "Day",
          "Night",
          "Day",
          "Night",
          "Day",
          "Night",
          "Day",
          "Day",
          "Night",
          "Day",
          "Night",
          "Day",
          "Night",
          "Day",
          "Night",
          "Night",
          "Day",
          "Night",
          "Day",
          "Night",
          "Day",
          "Night",
          "Night",
          "Day",
          "Night",
          "Day",
          "Night",
          "Day",
          "Day",
          "Night",
          "Day",
          "Night",
          "Day",
          "Night",
          "Day",
          "Night",
          "Night",
          "Day",
          "Night",
          "Day",
          "Day",
          "Night",
          "Day",
          "Night",
          "Day",
          "Night",
          "Day",
          "Night",
          "Day",
          "Day",
          "Night",
          "Day",
          "Night",
          "Day",
          "Night",
          "Day",
          "Day",
          "Night",
          "Day",
          "Night",
          "Day",
          "Night",
          "Day",
          "Night",
          "Day",
          "Night",
          "Day",
          "Night",
          "Night",
          "Day",
          "Night",
          "Day",
          "Night",
          "Day",
          "Night",
          "Day",
          "Night",
          "Night",
          "Night",
          "Night",
          "Day",
          "Day",
          "Night",
          "Day",
          "Day",
          "Day",
          "Night",
          "Day",
          "Night",
          "Day",
          "Night",
          "Day",
          "Night",
          "Day",
          "Night",
          "Day",
          "Night",
          "Day",
          "Night",
          "Day",
          "Night",
          "Day",
          "Night",
          "Day",
          "Day",
          "Night",
          "Day",
          "Night",
          "Day",
          "Night",
          "Day",
          "Day",
          "Night",
          "Day",
          "Night",
          "Day",
          "Night",
          "Night",
          "Day",
          "Night",
          "Day",
          "Night",
          "Day",
          "Night",
          "Day",
          "Night",
          "Day",
          "Night",
          "Day",
          "Night",
          "Day",
          "Night",
          "Day",
          "Night",
          "Day",
          "Day",
          "Night",
          "Day",
          "Night",
          "Day",
          "Night",
          "Day",
          "Night",
          "Day",
          "Night",
          "Day",
          "Night",
          "Day",
          "Night",
          "Day",
          "Night",
          "Day",
          "Night",
          "Day",
          "Day",
          "Night",
          "Day",
          "Night",
          "Day",
          "Night",
          "Day",
          "Night",
          "Day",
          "Night",
          "Day",
          "Day",
          "Night",
          "Day",
          "Day",
          "Night",
          "Day",
          "Night",
          "Day",
          "Night",
          "Day",
          "Night",
          "Day",
          "Night",
          "Day",
          "Night",
          "Day",
          "Night",
          "Day",
          "Night",
          "Day",
          "Day",
          "Night",
          "Day",
          "Night",
          "Day",
          "Night",
          "Day",
          "Night",
          "Day",
          "Day",
          "Night",
          "Night",
          "Day",
          "Night",
          "Day",
          "Night",
          "Day",
          "Night",
          "Day",
          "Night",
          "Day",
          "Night",
          "Day",
          "Day",
          "Night",
          "Day",
          "Night",
          "Day",
          "Night",
          "Day",
          "Day",
          "Night",
          "Day",
          "Night",
          "Day",
          "Night",
          "Day",
          "Night",
          "Day",
          "Night",
          "Day",
          "Day",
          "Night",
          "Day",
          "Night",
          "Day",
          "Night",
          "Day",
          "Night",
          "Day",
          "Night",
          "Night",
          "Day",
          "Night",
          "Day",
          "Night",
          "Day",
          "Night",
          "Day",
          "Night",
          "Day",
          "Night",
          "Day",
          "Night",
          "Day",
          "Night",
          "Day",
          "Night",
          "Day",
          "Night",
          "Day",
          "Night",
          "Day",
          "Night",
          "Day",
          "Night",
          "Day",
          "Day",
          "Night",
          "Night",
          "Day",
          "Night",
          "Day",
          "Night",
          "Day",
          "Night",
          "Day",
          "Night",
          "Day",
          "Night",
          "Day",
          "Day",
          "Night",
          "Day",
          "Night",
          "Day",
          "Night",
          "Day",
          "Night",
          "Day",
          "Day",
          "Night",
          "Day",
          "Night",
          "Night",
          "Day",
          "Night",
          "Day",
          "Night",
          "Day",
          "Day",
          "Night",
          "Day",
          "Night",
          "Day",
          "Night",
          "Day",
          "Night",
          "Day",
          "Night",
          "Day",
          "Night",
          "Day",
          "Night",
          "Night",
          "Day",
          "Night",
          "Day",
          "Night",
          "Day",
          "Day",
          "Night",
          "Day",
          "Night",
          "Day",
          "Day",
          "Night",
          "Day",
          "Night",
          "Day",
          "Night",
          "Day",
          "Night",
          "Day",
          "Night",
          "Day",
          "Day",
          "Day",
          "Night",
          "Day",
          "Night",
          "Day",
          "Night",
          "Day",
          "Night",
          "Day",
          "Night",
          "Day",
          "Night",
          "Day",
          "Night",
          "Day",
          "Night",
          "Day",
          "Night",
          "Day",
          "Night",
          "Day",
          "Night",
          "Day",
          "Day",
          "Night",
          "Day",
          "Day",
          "Night",
          "Day",
          "Day",
          "Night",
          "Day",
          "Night",
          "Day",
          "Night",
          "Day",
          "Night",
          "Day",
          "Night",
          "Day",
          "Night",
          "Day",
          "Night",
          "Day",
          "Night",
          "Day",
          "Day",
          "Night",
          "Night",
          "Day",
          "Day",
          "Night",
          "Day",
          "Night",
          "Day",
          "Night",
          "Day",
          "Night",
          "Day",
          "Night",
          "Day",
          "Day",
          "Day",
          "Night",
          "Day",
          "Night",
          "Day",
          "Night",
          "Day",
          "Night",
          "Day",
          "Night",
          "Day",
          "Night",
          "Day",
          "Night",
          "Day",
          "Night",
          "Day",
          "Night",
          "Day",
          "Night",
          "Night",
          "Night",
          "Day",
          "Night",
          "Night",
          "Day",
          "Night",
          "Day",
          "Night",
          "Day",
          "Night",
          "Day",
          "Night",
          "Day",
          "Day",
          "Night",
          "Day",
          "Night",
          "Day",
          "Night",
          "Day",
          "Night",
          "Day",
          "Night",
          "Day",
          "Night",
          "Night",
          "Night",
          "Night",
          "Day",
          "Night",
          "Day",
          "Night",
          "Night",
          "Day",
          "Night",
          "Day",
          "Night",
          "Day",
          "Night",
          "Day",
          "Night",
          "Day",
          "Night",
          "Day",
          "Night",
          "Day",
          "Night",
          "Day",
          "Night",
          "Day",
          "Night",
          "Day",
          "Night",
          "Day",
          "Night",
          "Day",
          "Night",
          "Day",
          "Night",
          "Day",
          "Night",
          "Day",
          "Day",
          "Day",
          "Night",
          "Day",
          "Night",
          "Day",
          "Night",
          "Day",
          "Night",
          "Day",
          "Night",
          "Day",
          "Night",
          "Day",
          "Night",
          "Day",
          "Night",
          "Night",
          "Day",
          "Night",
          "Day",
          "Night",
          "Day",
          "Night",
          "Day",
          "Night",
          "Day",
          "Night",
          "Night",
          "Day",
          "Night",
          "Day",
          "Night",
          "Day",
          "Day",
          "Night",
          "Day",
          "Night",
          "Day",
          "Day",
          "Night",
          "Day",
          "Night",
          "Day",
          "Night",
          "Day",
          "Night",
          "Day",
          "Night",
          "Night",
          "Day",
          "Day",
          "Night",
          "Day",
          "Night",
          "Night",
          "Day",
          "Night",
          "Day",
          "Night",
          "Day",
          "Night",
          "Day",
          "Night",
          "Day",
          "Night",
          "Day",
          "Night",
          "Day",
          "Night",
          "Day",
          "Night",
          "Day",
          "Day",
          "Night",
          "Day",
          "Night",
          "Day",
          "Night",
          "Day",
          "Night",
          "Day",
          "Night",
          "Day",
          "Day",
          "Night",
          "Day",
          "Night",
          "Day",
          "Night",
          "Day",
          "Night",
          "Day",
          "Night",
          "Day",
          "Night",
          "Day",
          "Night",
          "Day",
          "Night",
          "Day",
          "Night",
          "Day",
          "Night",
          "Night",
          "Day",
          "Night",
          "Day",
          "Day",
          "Night",
          "Day",
          "Night",
          "Day",
          "Night",
          "Day",
          "Night",
          "Day",
          "Night",
          "Day",
          "Night",
          "Day",
          "Night",
          "Night",
          "Day",
          "Night",
          "Day",
          "Night",
          "Day",
          "Night",
          "Day",
          "Night",
          "Day",
          "Day",
          "Night",
          "Day",
          "Night",
          "Day",
          "Day",
          "Night",
          "Day",
          "Night",
          "Day",
          "Night",
          "Day",
          "Night",
          "Day",
          "Night",
          "Day",
          "Night",
          "Day",
          "Night",
          "Day",
          "Night",
          "Day",
          "Night",
          "Day",
          "Night",
          "Day",
          "Night",
          "Day",
          "Day",
          "Night",
          "Day",
          "Day",
          "Night",
          "Night",
          "Day",
          "Night",
          "Day",
          "Night",
          "Day",
          "Night",
          "Day",
          "Night",
          "Day",
          "Night",
          "Day",
          "Night",
          "Day",
          "Night",
          "Night",
          "Day",
          "Night",
          "Day",
          "Night",
          "Day",
          "Night",
          "Day",
          "Night",
          "Day",
          "Night",
          "Night",
          "Day",
          "Day",
          "Night",
          "Day",
          "Night",
          "Day",
          "Night",
          "Day",
          "Night",
          "Day",
          "Day",
          "Night",
          "Day",
          "Night",
          "Day",
          "Night",
          "Day",
          "Night",
          "Day",
          "Night",
          "Day",
          "Night",
          "Day",
          "Night",
          "Day",
          "Night",
          "Day",
          "Night",
          "Day",
          "Night",
          "Day",
          "Night",
          "Day",
          "Night",
          "Day",
          "Night",
          "Day",
          "Night",
          "Day",
          "Night",
          "Day",
          "Night",
          "Day",
          "Night",
          "Day",
          "Night",
          "Day",
          "Night",
          "Day",
          "Night",
          "Day",
          "Night",
          "Day",
          "Night",
          "Day",
          "Night",
          "Day",
          "Night",
          "Day",
          "Night",
          "Day",
          "Night",
          "Night",
          "Day",
          "Night",
          "Day",
          "Night",
          "Day",
          "Night",
          "Day",
          "Night",
          "Day",
          "Night",
          "Day",
          "Night",
          "Day",
          "Night",
          "Day",
          "Day",
          "Night",
          "N/A",
          "Day",
          "Night",
          "Day",
          "Night",
          "Day",
          "Night",
          "Night",
          "Day",
          "Day",
          "Night",
          "Day",
          "Night",
          "Day",
          "Night",
          "Day",
          "Night",
          "Day",
          "Night",
          "Day",
          "Night",
          "Night",
          "Day",
          "Night",
          "Day",
          "Night",
          "Day",
          "Day",
          "Night",
          "Day",
          "Day",
          "Night",
          "Day",
          "Night",
          "Day",
          "Night",
          "Day",
          "Day",
          "Night",
          "Day",
          "Night",
          "Day",
          "Night",
          "Day",
          "Night",
          "Day",
          "Night",
          "Day",
          "Night",
          "Day",
          "Night",
          "Day",
          "Night",
          "Day",
          "Night",
          "Day",
          "Night",
          "Day",
          "Night",
          "Day",
          "Night",
          "Day",
          "Day",
          "Night",
          "Day",
          "Night",
          "Day",
          "Night",
          "Day",
          "Night",
          "Day",
          "Night",
          "Day",
          "Night",
          "Day",
          "Night",
          "Day",
          "Day",
          "Night",
          "Day",
          "Night",
          "Night",
          "Day",
          "Night",
          "Day",
          "Night",
          "Day",
          "Night",
          "Day",
          "Night",
          "Day",
          "Night",
          "Day",
          "Night",
          "Day",
          "Night",
          "Night",
          "Day",
          "Night",
          "Day",
          "Night",
          "Day",
          "Night",
          "Day",
          "Night",
          "Day",
          "Night",
          "Day",
          "Night",
          "Day",
          "Night",
          "Day",
          "Night",
          "Day",
          "Day",
          "Night",
          "Day",
          "Night",
          "Day",
          "Night",
          "Day",
          "Night",
          "Day",
          "Day",
          "Night",
          "Day",
          "Night",
          "Day",
          "Night",
          "Day",
          "Night",
          "Day",
          "Night",
          "Day",
          "Night",
          "Day",
          "Night",
          "Day",
          "Night",
          "Day",
          "Night",
          "Day",
          "Night",
          "Day",
          "Night",
          "Day",
          "Day",
          "Night",
          "Day",
          "Night",
          "Day",
          "Night",
          "Day",
          "Night",
          "Day",
          "Night",
          "Day",
          "Night",
          "Day",
          "Night",
          "Day",
          "Night",
          "Day",
          "Night",
          "Day",
          "Night",
          "Day",
          "Night",
          "Day",
          "Night",
          "Day",
          "Night",
          "Day",
          "Night",
          "Day",
          "Night",
          "Day",
          "Night",
          "Day",
          "Night",
          "Night",
          "Day",
          "Day",
          "Night",
          "Day",
          "Night",
          "Day",
          "Day",
          "Night",
          "Day",
          "Night",
          "Day",
          "Night",
          "Day",
          "Night",
          "Day",
          "Day",
          "Night",
          "Day",
          "Night",
          "Day",
          "Night",
          "Day",
          "Night",
          "Day",
          "Night",
          "Day",
          "Day",
          "Night",
          "Day",
          "Night",
          "Day",
          "Night",
          "Day",
          "Night",
          "Day",
          "Night",
          "Day",
          "Night",
          "Day",
          "Night",
          "Day",
          "Night",
          "Day",
          "Night",
          "Day",
          "Night",
          "Day",
          "Night",
          "Day",
          "Night",
          "Day",
          "Night",
          "Day",
          "Night",
          "Day",
          "Night",
          "Day",
          "Night",
          "Day",
          "Night",
          "Day",
          "Night",
          "Day",
          "Night",
          "Day",
          "Night",
          "Day",
          "Night",
          "Day",
          "Night",
          "Day",
          "Night",
          "Day",
          "Day",
          "Night",
          "Day",
          "Night",
          "Day",
          "Day",
          "Night",
          "Night",
          "Day",
          "Night",
          "Day",
          "Night",
          "Day",
          "Night",
          "Day",
          "Night",
          "Day",
          "Night",
          "Day",
          "Day",
          "Night",
          "Day",
          "Night",
          "Day",
          "Night",
          "Day",
          "Night",
          "Day",
          "Night",
          "Day",
          "Night",
          "Day",
          "Night",
          "Day",
          "Night",
          "Day",
          "Night",
          "Day",
          "Night",
          "Day",
          "Night",
          "Day",
          "Night",
          "Day",
          "Night",
          "Day",
          "Night",
          "Day",
          "Night",
          "Day",
          "Night",
          "Day",
          "Night",
          "Day",
          "Night",
          "Day",
          "Night",
          "Day",
          "Night",
          "Day",
          "Night",
          "Day",
          "Night",
          "Day",
          "Night",
          "Day",
          "Night",
          "Day",
          "Night",
          "Day",
          "Night",
          "Day",
          "Night",
          "Day",
          "Night",
          "Day",
          "Night",
          "Day",
          "Night",
          "Day",
          "Night",
          "Day",
          "Night",
          "Day",
          "Night",
          "Day",
          "Night",
          "Day",
          "Night",
          "Day",
          "Day",
          "Night",
          "Day",
          "Night",
          "Day",
          "Night",
          "Day",
          "Day",
          "Night",
          "Day",
          "Night",
          "Day",
          "Night",
          "Day",
          "Night",
          "Day",
          "Night",
          "Day",
          "Night",
          "Day",
          "Night",
          "Day",
          "Night",
          "Day",
          "Night",
          "Day",
          "Day",
          "Night",
          "Day",
          "Night",
          "Day",
          "Night",
          "Day",
          "Night",
          "Day",
          "Night",
          "Night",
          "Day",
          "Night",
          "Day",
          "Day",
          "Night",
          "Day",
          "Night",
          "Day",
          "Night",
          "Day",
          "Night",
          "Day",
          "Night",
          "Day",
          "Night",
          "Day",
          "Night",
          "Day",
          "Night",
          "Day",
          "Night",
          "Day",
          "Night",
          "Day",
          "Night",
          "Day",
          "Night",
          "Day",
          "Night",
          "Day",
          "Night",
          "Day",
          "Night",
          "Day",
          "Day",
          "Night",
          "Day",
          "Night",
          "Day",
          "Night",
          "Day",
          "Night",
          "Day",
          "Night",
          "Day",
          "Night",
          "Day",
          "Day",
          "Night",
          "Day",
          "Night",
          "Day",
          "Night",
          "Night",
          "Day",
          "Day",
          "Night",
          "Day",
          "Night",
          "Day",
          "Night",
          "Day",
          "Night",
          "Day",
          "Night",
          "Day",
          "Night",
          "Day",
          "Night",
          "Day",
          "Night",
          "Day",
          "Night",
          "Night",
          "Day",
          "Night",
          "Day",
          "Night",
          "Day",
          "Night",
          "Day",
          "Night",
          "Day",
          "Night",
          "Day",
          "Night",
          "Night",
          "Day",
          "Night",
          "Day",
          "Night",
          "Day",
          "Night",
          "Day",
          "Night",
          "Day",
          "Night",
          "Day",
          "Day",
          "Night",
          "Day",
          "Night",
          "Day",
          "Night",
          "Night",
          "Day",
          "Night",
          "Day",
          "Night",
          "Day",
          "Night",
          "Day",
          "Night",
          "Night",
          "Day",
          "Night",
          "Day",
          "Night",
          "Day",
          "Night",
          "Day",
          "Night",
          "Day",
          "Day",
          "Night",
          "Day",
          "Day",
          "Night",
          "Day",
          "Night",
          "Day",
          "Night",
          "Day",
          "Night",
          "Day",
          "Night",
          "Day",
          "Day",
          "Night",
          "Day",
          "Night",
          "Day",
          "Night",
          "Day",
          "Night",
          "Day",
          "Night",
          "Day",
          "Night",
          "Day",
          "Day",
          "Night",
          "Night",
          "Day",
          "Night",
          "Day",
          "Day",
          "Night",
          "Day",
          "Night",
          "Day",
          "Night",
          "Day",
          "Night",
          "Day",
          "Day",
          "Day",
          "Night",
          "Day",
          "Night",
          "Day",
          "Night",
          "Night",
          "Day",
          "Night",
          "Day",
          "Night",
          "Day",
          "Night",
          "Day",
          "Night",
          "Day",
          "Night",
          "Day",
          "Night",
          "Day",
          "Night",
          "Day",
          "Day",
          "Night",
          "Day",
          "Night",
          "Day",
          "Night",
          "Day",
          "Night",
          "Day",
          "Night",
          "Day",
          "Night",
          "Day",
          "Day",
          "Night",
          "Night",
          "Day",
          "Night",
          "Day",
          "Night",
          "Day",
          "Night",
          "Day",
          "Day",
          "Night",
          "Day",
          "Night",
          "Day",
          "Night",
          "Day",
          "Night",
          "Day",
          "Day",
          "Night",
          "Day",
          "Night",
          "Day",
          "Night",
          "Day",
          "Night",
          "Day",
          "Night",
          "Day",
          "Day",
          "Night",
          "Day",
          "Night",
          "Day",
          "Day",
          "Night",
          "Day",
          "Day",
          "Night",
          "Day",
          "Night",
          "Day",
          "Night",
          "Day",
          "Night",
          "Day",
          "Night",
          "Day",
          "Night",
          "Day",
          "Day",
          "Night",
          "Day",
          "Night",
          "Day",
          "Night",
          "Day",
          "Night",
          "Day",
          "Night",
          "Day",
          "Night",
          "Day",
          "Day",
          "Night",
          "Day",
          "Night",
          "Day",
          "Night",
          "Day",
          "Day",
          "Night",
          "Night",
          "Day",
          "Night",
          "Day",
          "Day",
          "Night",
          "Day",
          "Night",
          "Day",
          "Night",
          "Day",
          "Day",
          "Night",
          "Day",
          "Night",
          "Day",
          "Night",
          "Day",
          "Night",
          "Day",
          "Night",
          "Day",
          "Night",
          "Day",
          "Night",
          "Day",
          "Day",
          "Night",
          "Day",
          "Night",
          "Day",
          "Night",
          "Day",
          "Night",
          "Day",
          "Night",
          "Night",
          "Day",
          "Day",
          "Night",
          "Day",
          "Night",
          "Day",
          "Night",
          "Night",
          "Night",
          "Night",
          "Day",
          "Night",
          "Day",
          "Night",
          "Day",
          "Night",
          "Night",
          "Day",
          "Night",
          "Day",
          "Night",
          "Day",
          "Night",
          "Day",
          "Night",
          "Day",
          "Night",
          "Day",
          "Night",
          "Day",
          "Night",
          "Day",
          "Night",
          "Day",
          "Night",
          "Day",
          "Night",
          "Day",
          "Night",
          "Day",
          "Day",
          "Night",
          "Day",
          "Night",
          "Day",
          "Night",
          "Day",
          "Night",
          "Day",
          "Night",
          "Day",
          "Night",
          "Day",
          "Night",
          "Day",
          "Night",
          "Day",
          "Night",
          "Day",
          "Night",
          "Day",
          "Night",
          "Day",
          "Night",
          "Day",
          "Night",
          "Day",
          "Night",
          "Day",
          "Night",
          "Night",
          "Day",
          "Night",
          "Day",
          "Night",
          "Day",
          "Night",
          "Day",
          "Night",
          "Day",
          "Night",
          "Day",
          "Night",
          "Day",
          "Night",
          "Day",
          "Night",
          "Day",
          "Day",
          "Night",
          "Day",
          "Night",
          "Night",
          "Day",
          "Night",
          "Day",
          "Night",
          "Day",
          "Night",
          "Day",
          "Night",
          "Day",
          "Night",
          "Day",
          "Night",
          "Day",
          "Day",
          "Night",
          "Night",
          "Day",
          "Night",
          "Day",
          "Night",
          "Day",
          "Night",
          "Night",
          "Day",
          "Day",
          "Night",
          "Night",
          "Day",
          "Night",
          "Day",
          "Day",
          "Night",
          "Day",
          "Night",
          "Day",
          "Night",
          "Day",
          "Day",
          "Night",
          "Day",
          "Night",
          "Day",
          "Night",
          "Day",
          "Night",
          "Day",
          "Night",
          "Day",
          "Night",
          "Day",
          "Day",
          "Night",
          "Day",
          "Night",
          "Day",
          "Day",
          "Night",
          "Day",
          "Night",
          "Day",
          "Night",
          "Day",
          "Night",
          "Day",
          "Night",
          "Day",
          "Night",
          "Day",
          "Night",
          "Day",
          "Day",
          "Night",
          "Day",
          "Night",
          "Day",
          "Night",
          "Night",
          "Day",
          "Night",
          "Day",
          "Day",
          "Day",
          "Night",
          "Day",
          "Night",
          "Day",
          "Night",
          "Night",
          "Day",
          "Night",
          "Day",
          "Night",
          "Day",
          "Night",
          "Day",
          "Night",
          "Day",
          "Night",
          "Night",
          "Day",
          "Night",
          "Day",
          "Night",
          "Day",
          "Day",
          "Night",
          "Day",
          "Night",
          "Day",
          "Night",
          "Day",
          "Night",
          "Night",
          "Day",
          "Night",
          "Day",
          "Night",
          "Day",
          "Night",
          "Day",
          "Night",
          "Night",
          "Day",
          "Day",
          "Night",
          "Night",
          "Day",
          "Night",
          "Day",
          "Night",
          "Day",
          "Night",
          "Day",
          "Night",
          "Day",
          "Night",
          "Day",
          "Night",
          "Day",
          "Night",
          "Day",
          "Night",
          "Day",
          "Night",
          "Day",
          "Night",
          "Day",
          "Night",
          "Night",
          "Day",
          "Day",
          "Day",
          "Night",
          "Day",
          "Day",
          "Night",
          "Day",
          "Night",
          "Day",
          "Day",
          "Night",
          "Day",
          "Night",
          "Day",
          "Night",
          "Day",
          "Day",
          "Day",
          "Day",
          "Night",
          "Night",
          "Day",
          "Night",
          "Day",
          "Night",
          "Day",
          "Night",
          "Day",
          "Night",
          "Night",
          "Day",
          "Night",
          "Day",
          "Day",
          "Night",
          "Day",
          "Day",
          "Night",
          "Day",
          "Night",
          "Day",
          "Night",
          "Day",
          "Day",
          "Day",
          "Night",
          "Day",
          "Day",
          "Night",
          "Day",
          "Day",
          "Night",
          "Day",
          "Night",
          "Day",
          "Night",
          "Day",
          "Night",
          "Day",
          "Night",
          "Day",
          "Night",
          "Day",
          "Day",
          "Night",
          "Day",
          "Night",
          "Day",
          "Night",
          "Day",
          "Day",
          "Night",
          "Day",
          "Night",
          "Day",
          "Day",
          "Night",
          "Day",
          "Night",
          "Day",
          "Night",
          "Day",
          "Night",
          "Day",
          "Day",
          "Night",
          "Day",
          "Day",
          "Day",
          "Night",
          "Day",
          "Night",
          "Day",
          "Night",
          "Day",
          "Day",
          "Night",
          "Day",
          "Night",
          "Day",
          "Night",
          "Day",
          "Night",
          "Day",
          "Night",
          "Day",
          "Night",
          "Day",
          "Day",
          "Night",
          "Day",
          "Night",
          "Day",
          "Night",
          "Day",
          "Day",
          "Night",
          "Day",
          "Night",
          "Night",
          "Day",
          "Night",
          "Day",
          "Day",
          "Night",
          "Day",
          "Night",
          "Day",
          "Night",
          "Night",
          "Day",
          "Night",
          "Day",
          "Night",
          "Day",
          "Night",
          "Day",
          "Night",
          "Day",
          "Night",
          "Day",
          "Night",
          "Night",
          "Day",
          "Night",
          "Day",
          "Night",
          "Day",
          "Night",
          "Day",
          "Day",
          "Night",
          "Day",
          "Night",
          "Day",
          "Day",
          "Day",
          "Night",
          "Day",
          "Night",
          "Day",
          "Night",
          "Day",
          "Night",
          "Day",
          "Night",
          "Day",
          "Night",
          "Day",
          "Night",
          "Day",
          "Day",
          "Day",
          "Night",
          "Day",
          "Night",
          "Day",
          "Night",
          "Day",
          "Night",
          "Day",
          "Night",
          "Day",
          "Night",
          "Day",
          "Night",
          "Day",
          "Night",
          "Day",
          "Night",
          "Night",
          "Day",
          "Night",
          "Day",
          "Night",
          "Day",
          "Night",
          "Day",
          "Night",
          "Day",
          "Night",
          "Day",
          "Night",
          "Day",
          "Night",
          "Day",
          "Night",
          "Day",
          "Night",
          "Day",
          "Night",
          "Day",
          "Night",
          "Day",
          "Night",
          "Day",
          "Night",
          "Day",
          "Night",
          "Day",
          "Night",
          "Day",
          "Night",
          "Day",
          "Night",
          "Day",
          "Night",
          "Day",
          "Night",
          "Night",
          "Day",
          "Day",
          "Day",
          "Day",
          "Night",
          "Day",
          "Night",
          "Day",
          "Day",
          "Night",
          "Day",
          "Night",
          "Day",
          "Night",
          "Day",
          "Night",
          "Day",
          "Night",
          "Day",
          "Night",
          "Day",
          "Night",
          "Day",
          "Night",
          "Day",
          "Day",
          "Night",
          "Day",
          "Night",
          "Day",
          "Night",
          "Day",
          "Night",
          "Night",
          "Day",
          "Night",
          "Day",
          "Night",
          "Day",
          "Night",
          "Day",
          "Day",
          "Night",
          "Day",
          "Day",
          "Night",
          "Day",
          "Night",
          "Day",
          "Day",
          "Night",
          "Night",
          "Day",
          "Night",
          "Day",
          "Day",
          "Night",
          "Day",
          "Night",
          "Day",
          "Day",
          "Night",
          "Night",
          "Day",
          "Night",
          "Day",
          "Day",
          "Night",
          "Day",
          "Night",
          "Day",
          "Day",
          "Night",
          "Day",
          "Night",
          "Day",
          "Night",
          "Night",
          "Day",
          "Day",
          "Day",
          "Night",
          "Day",
          "Day",
          "Night",
          "Day",
          "Night",
          "Day",
          "Night",
          "Day",
          "Night",
          "Day",
          "Night",
          "Day",
          "Day",
          "Night",
          "Day",
          "Night",
          "Day",
          "Night",
          "Day",
          "Night",
          "Night",
          "Day",
          "Night",
          "Day",
          "Night",
          "Day",
          "Night",
          "Day",
          "Night",
          "Day",
          "Night",
          "Day",
          "Night",
          "Night",
          "Day",
          "Night",
          "Day",
          "Night",
          "Day",
          "Night",
          "Night",
          "Day",
          "Night",
          "Day",
          "Day",
          "Day",
          "Night",
          "Night",
          "Day",
          "Night",
          "Day",
          "Night",
          "Night",
          "Day",
          "Night",
          "Night",
          "Day",
          "Night",
          "Night",
          "Day",
          "Day",
          "Day",
          "Day",
          "Day",
          "Day",
          "Day",
          "Night",
          "Day",
          "Day",
          "Day",
          "Night",
          "Day",
          "Night",
          "Day",
          "Night",
          "Day"
         ],
         "yaxis": "y"
        }
       ],
       "layout": {
        "coloraxis": {
         "colorbar": {
          "title": {
           "text": "Severity"
          }
         },
         "colorscale": [
          [
           0,
           "#0d0887"
          ],
          [
           0.1111111111111111,
           "#46039f"
          ],
          [
           0.2222222222222222,
           "#7201a8"
          ],
          [
           0.3333333333333333,
           "#9c179e"
          ],
          [
           0.4444444444444444,
           "#bd3786"
          ],
          [
           0.5555555555555556,
           "#d8576b"
          ],
          [
           0.6666666666666666,
           "#ed7953"
          ],
          [
           0.7777777777777778,
           "#fb9f3a"
          ],
          [
           0.8888888888888888,
           "#fdca26"
          ],
          [
           1,
           "#f0f921"
          ]
         ]
        },
        "legend": {
         "itemsizing": "constant",
         "tracegroupgap": 0
        },
        "margin": {
         "t": 60
        },
        "template": {
         "data": {
          "bar": [
           {
            "error_x": {
             "color": "#2a3f5f"
            },
            "error_y": {
             "color": "#2a3f5f"
            },
            "marker": {
             "line": {
              "color": "#E5ECF6",
              "width": 0.5
             },
             "pattern": {
              "fillmode": "overlay",
              "size": 10,
              "solidity": 0.2
             }
            },
            "type": "bar"
           }
          ],
          "barpolar": [
           {
            "marker": {
             "line": {
              "color": "#E5ECF6",
              "width": 0.5
             },
             "pattern": {
              "fillmode": "overlay",
              "size": 10,
              "solidity": 0.2
             }
            },
            "type": "barpolar"
           }
          ],
          "carpet": [
           {
            "aaxis": {
             "endlinecolor": "#2a3f5f",
             "gridcolor": "white",
             "linecolor": "white",
             "minorgridcolor": "white",
             "startlinecolor": "#2a3f5f"
            },
            "baxis": {
             "endlinecolor": "#2a3f5f",
             "gridcolor": "white",
             "linecolor": "white",
             "minorgridcolor": "white",
             "startlinecolor": "#2a3f5f"
            },
            "type": "carpet"
           }
          ],
          "choropleth": [
           {
            "colorbar": {
             "outlinewidth": 0,
             "ticks": ""
            },
            "type": "choropleth"
           }
          ],
          "contour": [
           {
            "colorbar": {
             "outlinewidth": 0,
             "ticks": ""
            },
            "colorscale": [
             [
              0,
              "#0d0887"
             ],
             [
              0.1111111111111111,
              "#46039f"
             ],
             [
              0.2222222222222222,
              "#7201a8"
             ],
             [
              0.3333333333333333,
              "#9c179e"
             ],
             [
              0.4444444444444444,
              "#bd3786"
             ],
             [
              0.5555555555555556,
              "#d8576b"
             ],
             [
              0.6666666666666666,
              "#ed7953"
             ],
             [
              0.7777777777777778,
              "#fb9f3a"
             ],
             [
              0.8888888888888888,
              "#fdca26"
             ],
             [
              1,
              "#f0f921"
             ]
            ],
            "type": "contour"
           }
          ],
          "contourcarpet": [
           {
            "colorbar": {
             "outlinewidth": 0,
             "ticks": ""
            },
            "type": "contourcarpet"
           }
          ],
          "heatmap": [
           {
            "colorbar": {
             "outlinewidth": 0,
             "ticks": ""
            },
            "colorscale": [
             [
              0,
              "#0d0887"
             ],
             [
              0.1111111111111111,
              "#46039f"
             ],
             [
              0.2222222222222222,
              "#7201a8"
             ],
             [
              0.3333333333333333,
              "#9c179e"
             ],
             [
              0.4444444444444444,
              "#bd3786"
             ],
             [
              0.5555555555555556,
              "#d8576b"
             ],
             [
              0.6666666666666666,
              "#ed7953"
             ],
             [
              0.7777777777777778,
              "#fb9f3a"
             ],
             [
              0.8888888888888888,
              "#fdca26"
             ],
             [
              1,
              "#f0f921"
             ]
            ],
            "type": "heatmap"
           }
          ],
          "heatmapgl": [
           {
            "colorbar": {
             "outlinewidth": 0,
             "ticks": ""
            },
            "colorscale": [
             [
              0,
              "#0d0887"
             ],
             [
              0.1111111111111111,
              "#46039f"
             ],
             [
              0.2222222222222222,
              "#7201a8"
             ],
             [
              0.3333333333333333,
              "#9c179e"
             ],
             [
              0.4444444444444444,
              "#bd3786"
             ],
             [
              0.5555555555555556,
              "#d8576b"
             ],
             [
              0.6666666666666666,
              "#ed7953"
             ],
             [
              0.7777777777777778,
              "#fb9f3a"
             ],
             [
              0.8888888888888888,
              "#fdca26"
             ],
             [
              1,
              "#f0f921"
             ]
            ],
            "type": "heatmapgl"
           }
          ],
          "histogram": [
           {
            "marker": {
             "pattern": {
              "fillmode": "overlay",
              "size": 10,
              "solidity": 0.2
             }
            },
            "type": "histogram"
           }
          ],
          "histogram2d": [
           {
            "colorbar": {
             "outlinewidth": 0,
             "ticks": ""
            },
            "colorscale": [
             [
              0,
              "#0d0887"
             ],
             [
              0.1111111111111111,
              "#46039f"
             ],
             [
              0.2222222222222222,
              "#7201a8"
             ],
             [
              0.3333333333333333,
              "#9c179e"
             ],
             [
              0.4444444444444444,
              "#bd3786"
             ],
             [
              0.5555555555555556,
              "#d8576b"
             ],
             [
              0.6666666666666666,
              "#ed7953"
             ],
             [
              0.7777777777777778,
              "#fb9f3a"
             ],
             [
              0.8888888888888888,
              "#fdca26"
             ],
             [
              1,
              "#f0f921"
             ]
            ],
            "type": "histogram2d"
           }
          ],
          "histogram2dcontour": [
           {
            "colorbar": {
             "outlinewidth": 0,
             "ticks": ""
            },
            "colorscale": [
             [
              0,
              "#0d0887"
             ],
             [
              0.1111111111111111,
              "#46039f"
             ],
             [
              0.2222222222222222,
              "#7201a8"
             ],
             [
              0.3333333333333333,
              "#9c179e"
             ],
             [
              0.4444444444444444,
              "#bd3786"
             ],
             [
              0.5555555555555556,
              "#d8576b"
             ],
             [
              0.6666666666666666,
              "#ed7953"
             ],
             [
              0.7777777777777778,
              "#fb9f3a"
             ],
             [
              0.8888888888888888,
              "#fdca26"
             ],
             [
              1,
              "#f0f921"
             ]
            ],
            "type": "histogram2dcontour"
           }
          ],
          "mesh3d": [
           {
            "colorbar": {
             "outlinewidth": 0,
             "ticks": ""
            },
            "type": "mesh3d"
           }
          ],
          "parcoords": [
           {
            "line": {
             "colorbar": {
              "outlinewidth": 0,
              "ticks": ""
             }
            },
            "type": "parcoords"
           }
          ],
          "pie": [
           {
            "automargin": true,
            "type": "pie"
           }
          ],
          "scatter": [
           {
            "fillpattern": {
             "fillmode": "overlay",
             "size": 10,
             "solidity": 0.2
            },
            "type": "scatter"
           }
          ],
          "scatter3d": [
           {
            "line": {
             "colorbar": {
              "outlinewidth": 0,
              "ticks": ""
             }
            },
            "marker": {
             "colorbar": {
              "outlinewidth": 0,
              "ticks": ""
             }
            },
            "type": "scatter3d"
           }
          ],
          "scattercarpet": [
           {
            "marker": {
             "colorbar": {
              "outlinewidth": 0,
              "ticks": ""
             }
            },
            "type": "scattercarpet"
           }
          ],
          "scattergeo": [
           {
            "marker": {
             "colorbar": {
              "outlinewidth": 0,
              "ticks": ""
             }
            },
            "type": "scattergeo"
           }
          ],
          "scattergl": [
           {
            "marker": {
             "colorbar": {
              "outlinewidth": 0,
              "ticks": ""
             }
            },
            "type": "scattergl"
           }
          ],
          "scattermapbox": [
           {
            "marker": {
             "colorbar": {
              "outlinewidth": 0,
              "ticks": ""
             }
            },
            "type": "scattermapbox"
           }
          ],
          "scatterpolar": [
           {
            "marker": {
             "colorbar": {
              "outlinewidth": 0,
              "ticks": ""
             }
            },
            "type": "scatterpolar"
           }
          ],
          "scatterpolargl": [
           {
            "marker": {
             "colorbar": {
              "outlinewidth": 0,
              "ticks": ""
             }
            },
            "type": "scatterpolargl"
           }
          ],
          "scatterternary": [
           {
            "marker": {
             "colorbar": {
              "outlinewidth": 0,
              "ticks": ""
             }
            },
            "type": "scatterternary"
           }
          ],
          "surface": [
           {
            "colorbar": {
             "outlinewidth": 0,
             "ticks": ""
            },
            "colorscale": [
             [
              0,
              "#0d0887"
             ],
             [
              0.1111111111111111,
              "#46039f"
             ],
             [
              0.2222222222222222,
              "#7201a8"
             ],
             [
              0.3333333333333333,
              "#9c179e"
             ],
             [
              0.4444444444444444,
              "#bd3786"
             ],
             [
              0.5555555555555556,
              "#d8576b"
             ],
             [
              0.6666666666666666,
              "#ed7953"
             ],
             [
              0.7777777777777778,
              "#fb9f3a"
             ],
             [
              0.8888888888888888,
              "#fdca26"
             ],
             [
              1,
              "#f0f921"
             ]
            ],
            "type": "surface"
           }
          ],
          "table": [
           {
            "cells": {
             "fill": {
              "color": "#EBF0F8"
             },
             "line": {
              "color": "white"
             }
            },
            "header": {
             "fill": {
              "color": "#C8D4E3"
             },
             "line": {
              "color": "white"
             }
            },
            "type": "table"
           }
          ]
         },
         "layout": {
          "annotationdefaults": {
           "arrowcolor": "#2a3f5f",
           "arrowhead": 0,
           "arrowwidth": 1
          },
          "autotypenumbers": "strict",
          "coloraxis": {
           "colorbar": {
            "outlinewidth": 0,
            "ticks": ""
           }
          },
          "colorscale": {
           "diverging": [
            [
             0,
             "#8e0152"
            ],
            [
             0.1,
             "#c51b7d"
            ],
            [
             0.2,
             "#de77ae"
            ],
            [
             0.3,
             "#f1b6da"
            ],
            [
             0.4,
             "#fde0ef"
            ],
            [
             0.5,
             "#f7f7f7"
            ],
            [
             0.6,
             "#e6f5d0"
            ],
            [
             0.7,
             "#b8e186"
            ],
            [
             0.8,
             "#7fbc41"
            ],
            [
             0.9,
             "#4d9221"
            ],
            [
             1,
             "#276419"
            ]
           ],
           "sequential": [
            [
             0,
             "#0d0887"
            ],
            [
             0.1111111111111111,
             "#46039f"
            ],
            [
             0.2222222222222222,
             "#7201a8"
            ],
            [
             0.3333333333333333,
             "#9c179e"
            ],
            [
             0.4444444444444444,
             "#bd3786"
            ],
            [
             0.5555555555555556,
             "#d8576b"
            ],
            [
             0.6666666666666666,
             "#ed7953"
            ],
            [
             0.7777777777777778,
             "#fb9f3a"
            ],
            [
             0.8888888888888888,
             "#fdca26"
            ],
            [
             1,
             "#f0f921"
            ]
           ],
           "sequentialminus": [
            [
             0,
             "#0d0887"
            ],
            [
             0.1111111111111111,
             "#46039f"
            ],
            [
             0.2222222222222222,
             "#7201a8"
            ],
            [
             0.3333333333333333,
             "#9c179e"
            ],
            [
             0.4444444444444444,
             "#bd3786"
            ],
            [
             0.5555555555555556,
             "#d8576b"
            ],
            [
             0.6666666666666666,
             "#ed7953"
            ],
            [
             0.7777777777777778,
             "#fb9f3a"
            ],
            [
             0.8888888888888888,
             "#fdca26"
            ],
            [
             1,
             "#f0f921"
            ]
           ]
          },
          "colorway": [
           "#636efa",
           "#EF553B",
           "#00cc96",
           "#ab63fa",
           "#FFA15A",
           "#19d3f3",
           "#FF6692",
           "#B6E880",
           "#FF97FF",
           "#FECB52"
          ],
          "font": {
           "color": "#2a3f5f"
          },
          "geo": {
           "bgcolor": "white",
           "lakecolor": "white",
           "landcolor": "#E5ECF6",
           "showlakes": true,
           "showland": true,
           "subunitcolor": "white"
          },
          "hoverlabel": {
           "align": "left"
          },
          "hovermode": "closest",
          "mapbox": {
           "style": "light"
          },
          "paper_bgcolor": "white",
          "plot_bgcolor": "#E5ECF6",
          "polar": {
           "angularaxis": {
            "gridcolor": "white",
            "linecolor": "white",
            "ticks": ""
           },
           "bgcolor": "#E5ECF6",
           "radialaxis": {
            "gridcolor": "white",
            "linecolor": "white",
            "ticks": ""
           }
          },
          "scene": {
           "xaxis": {
            "backgroundcolor": "#E5ECF6",
            "gridcolor": "white",
            "gridwidth": 2,
            "linecolor": "white",
            "showbackground": true,
            "ticks": "",
            "zerolinecolor": "white"
           },
           "yaxis": {
            "backgroundcolor": "#E5ECF6",
            "gridcolor": "white",
            "gridwidth": 2,
            "linecolor": "white",
            "showbackground": true,
            "ticks": "",
            "zerolinecolor": "white"
           },
           "zaxis": {
            "backgroundcolor": "#E5ECF6",
            "gridcolor": "white",
            "gridwidth": 2,
            "linecolor": "white",
            "showbackground": true,
            "ticks": "",
            "zerolinecolor": "white"
           }
          },
          "shapedefaults": {
           "line": {
            "color": "#2a3f5f"
           }
          },
          "ternary": {
           "aaxis": {
            "gridcolor": "white",
            "linecolor": "white",
            "ticks": ""
           },
           "baxis": {
            "gridcolor": "white",
            "linecolor": "white",
            "ticks": ""
           },
           "bgcolor": "#E5ECF6",
           "caxis": {
            "gridcolor": "white",
            "linecolor": "white",
            "ticks": ""
           }
          },
          "title": {
           "x": 0.05
          },
          "xaxis": {
           "automargin": true,
           "gridcolor": "white",
           "linecolor": "white",
           "ticks": "",
           "title": {
            "standoff": 15
           },
           "zerolinecolor": "white",
           "zerolinewidth": 2
          },
          "yaxis": {
           "automargin": true,
           "gridcolor": "white",
           "linecolor": "white",
           "ticks": "",
           "title": {
            "standoff": 15
           },
           "zerolinecolor": "white",
           "zerolinewidth": 2
          }
         }
        },
        "xaxis": {
         "anchor": "y",
         "domain": [
          0,
          1
         ],
         "title": {
          "text": "City"
         }
        },
        "yaxis": {
         "anchor": "x",
         "domain": [
          0,
          1
         ],
         "title": {
          "text": "Sunrise_Sunset"
         }
        }
       }
      }
     },
     "metadata": {},
     "output_type": "display_data"
    }
   ],
   "source": [
    "# gráfico scatterplot interativo\n",
    "graph = px.scatter(acidente_sunrise, x = 'City', y = 'Sunrise_Sunset', color = 'Severity', size = 'Qtd', hover_data = ['Severity'])\n",
    "graph.show()\n",
    "\n"
   ]
  },
  {
   "cell_type": "markdown",
   "metadata": {},
   "source": [
    "Análise de Severidade do Acidente Versus Temperatura Versus Precipitação"
   ]
  },
  {
   "cell_type": "code",
   "execution_count": 17,
   "metadata": {},
   "outputs": [],
   "source": [
    "# análise de severidade do acidente versus temperatura versus precipitação\n",
    "\n",
    "\n"
   ]
  },
  {
   "cell_type": "code",
   "execution_count": 18,
   "metadata": {},
   "outputs": [],
   "source": [
    "#análise de lmplot\n",
    "\n"
   ]
  },
  {
   "cell_type": "markdown",
   "metadata": {},
   "source": [
    "Análise de Quantidade de Acidentes por Severidade por Região"
   ]
  },
  {
   "cell_type": "code",
   "execution_count": 19,
   "metadata": {},
   "outputs": [],
   "source": [
    "# análise de quantidade de acidentes por severidade por região\n",
    "\n",
    "\n",
    "\n"
   ]
  },
  {
   "cell_type": "code",
   "execution_count": 20,
   "metadata": {},
   "outputs": [],
   "source": [
    "# gráfico de barras agrupadas\n",
    "\n",
    "\n"
   ]
  }
 ],
 "metadata": {
  "kernelspec": {
   "display_name": "Python 3",
   "language": "python",
   "name": "python3"
  },
  "language_info": {
   "codemirror_mode": {
    "name": "ipython",
    "version": 3
   },
   "file_extension": ".py",
   "mimetype": "text/x-python",
   "name": "python",
   "nbconvert_exporter": "python",
   "pygments_lexer": "ipython3",
   "version": "3.10.12"
  }
 },
 "nbformat": 4,
 "nbformat_minor": 4
}
